{
 "cells": [
  {
   "cell_type": "markdown",
   "metadata": {},
   "source": [
    "<div style=\"border:solid Chocolate 2px; padding: 40px\">\n",
    "    \n",
    " <b>Добрый день, Александр!</b>\n",
    "    \n",
    "Меня зовут Ксения Цыганова, и я буду комментировать твою работу и помогать тебе сделать ее сильнее. В Практикуме мы общаемся на «ты», но если тебе это будет некомфортно, пожалуйста, скажи, и мы будем обращаться друг к другу на «вы».\n",
    "    \n",
    "Все мои комментарии делятся на три вида:\n",
    "\n",
    "    \n",
    "👍 Здесь все отлично, идем дальше! - <font color='green'> зеленый цвет </font>\n",
    "    \n",
    "💡 Все хорошо, однако, можно оптимизировать или рассмотреть другие способы (необязательно для исполнения, чтобы пройти дальше) - <font color='gold'>желтый цвет</font>\n",
    "    \n",
    "🤔 Необходимо внести исправления, без которых я не смогу принять проект - <font color='red'>красный цвет</font>\n",
    "    \n",
    "    \n",
    "Свои комментарии я буду выделять заголовком «комментарий ревьюера». Пожалуйста, не удаляй их, это поможет сократить время проверки на повторных ревью.Ты также можешь писать свои комментарии к моим и выделять их любым понравившимся способом, отличным от моего. Если у тебя будут возникать вопросы в течение нашей работы, я с радостью на них отвечу.\n",
    "\n",
    "Цель моего ревью не критика и не возможность дать тебе готовые ответы, это способ привести тебя в нужное русло, чтобы ты смог развить собственные идеи и решения. Твой будущий работодатель будет поступать похожим образом. \n",
    "        \n",
    "   <b>У тебя все получится!</b>\n",
    "    \n",
    "<div class=\"alert alert-info\", padding: 15px>\n",
    "<strong>Комментарий студента:</strong>\n",
    "    Привет! Меня зовут Александр, приятно познакомиться! Буду рад улучшить свою работу с твоей помощью.\n",
    "</div>"
   ]
  },
  {
   "cell_type": "markdown",
   "metadata": {},
   "source": [
    "<div style=\"border:solid Chocolate 2px; padding: 40px\">\n",
    "    \n",
    "Привет, Александр, буду рада помочь!"
   ]
  },
  {
   "cell_type": "markdown",
   "metadata": {},
   "source": [
    "# Прогнозирование оттока клиентов в сети отелей «Как в гостях»"
   ]
  },
  {
   "cell_type": "markdown",
   "metadata": {},
   "source": [
    "Заказчик этого исследования — сеть отелей «Как в гостях».\n",
    "Чтобы привлечь клиентов, эта сеть отелей добавила на свой сайт возможность забронировать номер без предоплаты. Однако если клиент отменял бронирование, то компания терпела убытки. Сотрудники отеля могли, например, закупить продукты к приезду гостя или просто не успеть найти другого клиента.\n",
    "Чтобы решить эту проблему, вам нужно разработать систему, которая предсказывает отказ от брони. Если модель покажет, что бронь будет отменена, то клиенту предлагается внести депозит. Размер депозита — 80% от стоимости номера за одни сутки и затрат на разовую уборку. Деньги будут списаны со счёта клиента, если он всё же отменит бронь."
   ]
  },
  {
   "cell_type": "markdown",
   "metadata": {},
   "source": [
    "<div class=\"alert alert-success\">\n",
    "<h2> Комментарий ревьюера <a class=\"tocSkip\"> </h2>\n",
    "\n",
    "<b>Все отлично!👍:</b> \n",
    "    \n",
    "Отлично, что есть вступительный комментарий"
   ]
  },
  {
   "cell_type": "markdown",
   "metadata": {},
   "source": [
    "### Шаг 1. Откройте файлы с данными"
   ]
  },
  {
   "cell_type": "markdown",
   "metadata": {},
   "source": [
    "Для достижения поставленной задачи необходимо будет протестировать 3 различных модели машинного обучения и выбрать ту, предсказания который принесут компании наибольшую прибыль. Перед исследованием требуется провести работу над входными данными - предобработка, исследовательский анализ данных и последующая нормализация. Далее потребуется рассчитать прибыль компании без введения депозитов и затрат на внедрение моделей машинного обучения. Затем нужно построить модели для предсказания отмены бронирования, на основе чего снизить предстоящий убыток введением депозита. В конце оценим прибыль компании после внедрения депозита."
   ]
  },
  {
   "cell_type": "code",
   "execution_count": 1,
   "metadata": {},
   "outputs": [
    {
     "name": "stdout",
     "output_type": "stream",
     "text": [
      "Collecting imblearn\n",
      "  Downloading imblearn-0.0-py2.py3-none-any.whl (1.9 kB)\n",
      "Collecting imbalanced-learn\n",
      "  Downloading imbalanced_learn-0.11.0-py3-none-any.whl (235 kB)\n",
      "\u001b[K     |████████████████████████████████| 235 kB 1.4 MB/s eta 0:00:01\n",
      "\u001b[?25hCollecting scikit-learn>=1.0.2\n",
      "  Downloading scikit_learn-1.3.0-cp39-cp39-manylinux_2_17_x86_64.manylinux2014_x86_64.whl (10.9 MB)\n",
      "\u001b[K     |████████████████████████████████| 10.9 MB 20.2 MB/s eta 0:00:01\n",
      "\u001b[?25hCollecting joblib>=1.1.1\n",
      "  Downloading joblib-1.3.1-py3-none-any.whl (301 kB)\n",
      "\u001b[K     |████████████████████████████████| 301 kB 65.9 MB/s eta 0:00:01\n",
      "\u001b[?25hRequirement already satisfied: numpy>=1.17.3 in /opt/conda/lib/python3.9/site-packages (from imbalanced-learn->imblearn) (1.21.1)\n",
      "Requirement already satisfied: scipy>=1.5.0 in /opt/conda/lib/python3.9/site-packages (from imbalanced-learn->imblearn) (1.9.1)\n",
      "Requirement already satisfied: threadpoolctl>=2.0.0 in /opt/conda/lib/python3.9/site-packages (from imbalanced-learn->imblearn) (3.1.0)\n",
      "Installing collected packages: joblib, scikit-learn, imbalanced-learn, imblearn\n",
      "  Attempting uninstall: joblib\n",
      "    Found existing installation: joblib 1.1.0\n",
      "    Uninstalling joblib-1.1.0:\n",
      "      Successfully uninstalled joblib-1.1.0\n",
      "  Attempting uninstall: scikit-learn\n",
      "    Found existing installation: scikit-learn 0.24.1\n",
      "    Uninstalling scikit-learn-0.24.1:\n",
      "      Successfully uninstalled scikit-learn-0.24.1\n",
      "Successfully installed imbalanced-learn-0.11.0 imblearn-0.0 joblib-1.3.1 scikit-learn-1.3.0\n"
     ]
    }
   ],
   "source": [
    "!pip install imblearn"
   ]
  },
  {
   "cell_type": "markdown",
   "metadata": {},
   "source": [
    "<div class=\"alert alert-warning\">\n",
    "    <h2> Комментарий ревьюера №3<a class=\"tocSkip\"> </h2>\n",
    "    \n",
    "<b>Некоторые замечания и рекомендации💡:</b> \n",
    "        \n",
    "Во избежание неприятных ситуаций, пожалуйста, не забывай добавлять установку используемых библиотек и версии модулей, используемых в проекте. Так как иначе при перезагрузке на платформе код выдает ошибку и ревьюер имеет право отправить проект на доработку без проверки.\n",
    "<div class=\"alert alert-info\", padding: 15px>\n",
    "<strong>Комментарий студента:</strong>\n",
    "    Да, хорошо. Я видел, что присутствует данная ошибка но не знал как это реализовать в тетрадке.\n",
    "</div>"
   ]
  },
  {
   "cell_type": "code",
   "execution_count": 2,
   "metadata": {},
   "outputs": [],
   "source": [
    "import matplotlib.pyplot as plt\n",
    "import pandas as pd\n",
    "import warnings\n",
    "\n",
    "from math import ceil\n",
    "\n",
    "from pandas.api.types import is_string_dtype\n",
    "\n",
    "from tqdm import tqdm\n",
    "\n",
    "from sklearn.ensemble import RandomForestClassifier\n",
    "from sklearn.exceptions import DataConversionWarning\n",
    "from sklearn.linear_model import LogisticRegression\n",
    "from sklearn.metrics import accuracy_score, f1_score, roc_curve, auc\n",
    "from sklearn.model_selection import cross_val_score, KFold, GridSearchCV\n",
    "from sklearn.preprocessing import StandardScaler, OneHotEncoder\n",
    "from sklearn.tree import DecisionTreeClassifier\n",
    "\n",
    "from imblearn.over_sampling import SMOTE\n",
    "from imblearn.pipeline import Pipeline, make_pipeline"
   ]
  },
  {
   "cell_type": "code",
   "execution_count": 3,
   "metadata": {},
   "outputs": [],
   "source": [
    "warnings.filterwarnings(action='ignore', category=DataConversionWarning)"
   ]
  },
  {
   "cell_type": "markdown",
   "metadata": {},
   "source": [
    "<div class=\"alert alert-success\">\n",
    "<h2> Комментарий ревьюера <a class=\"tocSkip\"> </h2>\n",
    "\n",
    "    \n",
    "<b>Все отлично!👍:</b> \n",
    "    \n",
    "Отлично, что все импорты собраны в начале проекта. Это поможет в случае чего сразу увидеть, какие библиотеки следует доустановить."
   ]
  },
  {
   "cell_type": "code",
   "execution_count": null,
   "metadata": {},
   "outputs": [],
   "source": []
  },
  {
   "cell_type": "markdown",
   "metadata": {},
   "source": [
    "<div class=\"alert alert-warning\">\n",
    "    <h2> Комментарий ревьюера <a class=\"tocSkip\"> </h2>\n",
    "    \n",
    "<b>Некоторые замечания и рекомендации💡:</b> \n",
    "\n",
    "\"Согласно руководству по написанию кода PEP8 все импорты должны располагаться сразу после комментариев к модулю и строк документации, но перед объявлением констант. При этом группировать их желательно в следующем порядке:\n",
    "\n",
    "импорты из стандартной библиотеки,\n",
    "импорты из сторонних библиотек,\n",
    "импорты пользовательских модулей текущего проекта.\"\n",
    "        \n",
    "И между группами стоит оставлять пустую строку.\n",
    "        \n",
    "        \n",
    "Вот еще хорошая статья:\n",
    "        \n",
    "https://okpython.net/python/python_uchebnik/osnovy/moduli_i_pakety_v_python.html\n",
    "        \n",
    "Какие модули входят в стандартную библиотеку можно посмотреть вот здесь:\n",
    "        \n",
    "https://docs.python.org/3/library/exceptions.html#warnings\n",
    "      \n",
    "    "
   ]
  },
  {
   "cell_type": "code",
   "execution_count": 4,
   "metadata": {},
   "outputs": [
    {
     "data": {
      "text/plain": [
       "FileNotFoundError(2, 'No such file or directory')"
      ]
     },
     "metadata": {},
     "output_type": "display_data"
    }
   ],
   "source": [
    "try:\n",
    "    hotel_test = pd.read_csv('datasets/hotel_test.csv')\n",
    "    hotel_train = pd.read_csv('datasets/hotel_train.csv')\n",
    "except Exception as info:\n",
    "    display(info)\n",
    "    hotel_test = pd.read_csv('https://code.s3.yandex.net/datasets/hotel_test.csv')\n",
    "    hotel_train = pd.read_csv('https://code.s3.yandex.net/datasets/hotel_train.csv')"
   ]
  },
  {
   "cell_type": "markdown",
   "metadata": {},
   "source": [
    "<div class=\"alert alert-warning\">\n",
    "    <h2> Комментарий ревьюера <a class=\"tocSkip\"> </h2>\n",
    "    \n",
    "<b>Некоторые замечания и рекомендации💡:</b> \n",
    "        \n",
    "Для загрузки данных можно использовать библиотеку os или констукцию try/except. Это поможет работать с проектом как локально, так и через Jupyter Hub, не внося дополнительных правок.\n",
    "        \n",
    "<div class=\"alert alert-info\", padding: 15px>\n",
    "<strong>Комментарий студента:</strong>\n",
    "    Использовал конструкцию try/except.\n",
    "</div>"
   ]
  },
  {
   "cell_type": "markdown",
   "metadata": {},
   "source": [
    "<div class=\"alert alert-success\">\n",
    "<h2> Комментарий ревьюера №2<a class=\"tocSkip\"> </h2>\n",
    "\n",
    "    \n",
    "<b>Все отлично!👍</b> "
   ]
  },
  {
   "cell_type": "code",
   "execution_count": 5,
   "metadata": {},
   "outputs": [],
   "source": [
    "def describe_dataframe(dataframe):\n",
    "    display(dataframe.head(10))\n",
    "    display(dataframe.info())\n",
    "    display(dataframe.describe(percentiles=[.5]).T)\n",
    "    print(f\"Количество дублированных строк: {dataframe.duplicated().sum()}\")"
   ]
  },
  {
   "cell_type": "markdown",
   "metadata": {},
   "source": [
    "<div class=\"alert alert-success\">\n",
    "<h2> Комментарий ревьюера <a class=\"tocSkip\"> </h2>\n",
    "\n",
    "<b>Все отлично!👍:</b> \n",
    "    \n",
    "Отлично, что оптимизируешь свой код с помощью пользовательских функций."
   ]
  },
  {
   "cell_type": "markdown",
   "metadata": {},
   "source": [
    "Описание колонок по условию:\n",
    "В таблицах hotel_train и hotel_test содержатся одинаковые столбцы:\n",
    "id — номер записи;\n",
    "adults — количество взрослых постояльцев;\n",
    "arrival_date_year — год заезда;\n",
    "arrival_date_month — месяц заезда;\n",
    "arrival_date_week_number — неделя заезда;\n",
    "arrival_date_day_of_month — день заезда;\n",
    "babies — количество младенцев;\n",
    "booking_changes — количество изменений параметров заказа;\n",
    "children — количество детей от 3 до 14 лет;\n",
    "country — гражданство постояльца;\n",
    "customer_type — тип заказчика:\n",
    "Contract — договор с юридическим лицом;\n",
    "Group — групповой заезд;\n",
    "Transient — не связано с договором или групповым заездом;\n",
    "Transient-party — не связано с договором или групповым заездом, но связано с бронированием типа Transient.\n",
    "days_in_waiting_list — сколько дней заказ ожидал подтверждения;\n",
    "distribution_channel — канал дистрибуции заказа;\n",
    "is_canceled — отмена заказа;\n",
    "is_repeated_guest — признак того, что гость бронирует номер второй раз;\n",
    "lead_time — количество дней между датой бронирования и датой прибытия;\n",
    "meal — опции заказа:\n",
    "SC — нет дополнительных опций;\n",
    "BB — включён завтрак;\n",
    "HB — включён завтрак и обед;\n",
    "FB — включён завтрак, обед и ужин.\n",
    "previous_bookings_not_canceled — количество подтверждённых заказов у клиента;\n",
    "previous_cancellations — количество отменённых заказов у клиента;\n",
    "required_car_parking_spaces — необходимость места для автомобиля;\n",
    "reserved_room_type — тип забронированной комнаты;\n",
    "stays_in_weekend_nights — количество ночей в выходные дни;\n",
    "stays_in_week_nights — количество ночей в будние дни;\n",
    "total_nights — общее количество ночей;\n",
    "total_of_special_requests — количество специальных отметок."
   ]
  },
  {
   "cell_type": "markdown",
   "metadata": {},
   "source": [
    "#### Тестовый датафрейм"
   ]
  },
  {
   "cell_type": "code",
   "execution_count": 6,
   "metadata": {},
   "outputs": [
    {
     "data": {
      "text/html": [
       "<div>\n",
       "<style scoped>\n",
       "    .dataframe tbody tr th:only-of-type {\n",
       "        vertical-align: middle;\n",
       "    }\n",
       "\n",
       "    .dataframe tbody tr th {\n",
       "        vertical-align: top;\n",
       "    }\n",
       "\n",
       "    .dataframe thead th {\n",
       "        text-align: right;\n",
       "    }\n",
       "</style>\n",
       "<table border=\"1\" class=\"dataframe\">\n",
       "  <thead>\n",
       "    <tr style=\"text-align: right;\">\n",
       "      <th></th>\n",
       "      <th>id</th>\n",
       "      <th>is_canceled</th>\n",
       "      <th>lead_time</th>\n",
       "      <th>arrival_date_year</th>\n",
       "      <th>arrival_date_month</th>\n",
       "      <th>arrival_date_week_number</th>\n",
       "      <th>arrival_date_day_of_month</th>\n",
       "      <th>stays_in_weekend_nights</th>\n",
       "      <th>stays_in_week_nights</th>\n",
       "      <th>adults</th>\n",
       "      <th>...</th>\n",
       "      <th>is_repeated_guest</th>\n",
       "      <th>previous_cancellations</th>\n",
       "      <th>previous_bookings_not_canceled</th>\n",
       "      <th>reserved_room_type</th>\n",
       "      <th>booking_changes</th>\n",
       "      <th>days_in_waiting_list</th>\n",
       "      <th>customer_type</th>\n",
       "      <th>required_car_parking_spaces</th>\n",
       "      <th>total_of_special_requests</th>\n",
       "      <th>total_nights</th>\n",
       "    </tr>\n",
       "  </thead>\n",
       "  <tbody>\n",
       "    <tr>\n",
       "      <th>0</th>\n",
       "      <td>6086</td>\n",
       "      <td>1</td>\n",
       "      <td>74.0</td>\n",
       "      <td>2017</td>\n",
       "      <td>January</td>\n",
       "      <td>1</td>\n",
       "      <td>1</td>\n",
       "      <td>1</td>\n",
       "      <td>0</td>\n",
       "      <td>2.0</td>\n",
       "      <td>...</td>\n",
       "      <td>0</td>\n",
       "      <td>0</td>\n",
       "      <td>0</td>\n",
       "      <td>A</td>\n",
       "      <td>0</td>\n",
       "      <td>0</td>\n",
       "      <td>Transient</td>\n",
       "      <td>0</td>\n",
       "      <td>0</td>\n",
       "      <td>1</td>\n",
       "    </tr>\n",
       "    <tr>\n",
       "      <th>1</th>\n",
       "      <td>6087</td>\n",
       "      <td>1</td>\n",
       "      <td>62.0</td>\n",
       "      <td>2017</td>\n",
       "      <td>January</td>\n",
       "      <td>1</td>\n",
       "      <td>1</td>\n",
       "      <td>2</td>\n",
       "      <td>2</td>\n",
       "      <td>2.0</td>\n",
       "      <td>...</td>\n",
       "      <td>0</td>\n",
       "      <td>0</td>\n",
       "      <td>0</td>\n",
       "      <td>A</td>\n",
       "      <td>0</td>\n",
       "      <td>0</td>\n",
       "      <td>Transient</td>\n",
       "      <td>0</td>\n",
       "      <td>1</td>\n",
       "      <td>4</td>\n",
       "    </tr>\n",
       "    <tr>\n",
       "      <th>2</th>\n",
       "      <td>6088</td>\n",
       "      <td>1</td>\n",
       "      <td>62.0</td>\n",
       "      <td>2017</td>\n",
       "      <td>January</td>\n",
       "      <td>1</td>\n",
       "      <td>1</td>\n",
       "      <td>2</td>\n",
       "      <td>2</td>\n",
       "      <td>2.0</td>\n",
       "      <td>...</td>\n",
       "      <td>0</td>\n",
       "      <td>0</td>\n",
       "      <td>0</td>\n",
       "      <td>A</td>\n",
       "      <td>0</td>\n",
       "      <td>0</td>\n",
       "      <td>Transient</td>\n",
       "      <td>0</td>\n",
       "      <td>1</td>\n",
       "      <td>4</td>\n",
       "    </tr>\n",
       "    <tr>\n",
       "      <th>3</th>\n",
       "      <td>6089</td>\n",
       "      <td>1</td>\n",
       "      <td>71.0</td>\n",
       "      <td>2017</td>\n",
       "      <td>January</td>\n",
       "      <td>1</td>\n",
       "      <td>1</td>\n",
       "      <td>2</td>\n",
       "      <td>2</td>\n",
       "      <td>1.0</td>\n",
       "      <td>...</td>\n",
       "      <td>0</td>\n",
       "      <td>0</td>\n",
       "      <td>0</td>\n",
       "      <td>A</td>\n",
       "      <td>0</td>\n",
       "      <td>0</td>\n",
       "      <td>Transient</td>\n",
       "      <td>0</td>\n",
       "      <td>1</td>\n",
       "      <td>4</td>\n",
       "    </tr>\n",
       "    <tr>\n",
       "      <th>4</th>\n",
       "      <td>6090</td>\n",
       "      <td>1</td>\n",
       "      <td>172.0</td>\n",
       "      <td>2017</td>\n",
       "      <td>January</td>\n",
       "      <td>1</td>\n",
       "      <td>1</td>\n",
       "      <td>2</td>\n",
       "      <td>5</td>\n",
       "      <td>2.0</td>\n",
       "      <td>...</td>\n",
       "      <td>0</td>\n",
       "      <td>0</td>\n",
       "      <td>0</td>\n",
       "      <td>A</td>\n",
       "      <td>0</td>\n",
       "      <td>0</td>\n",
       "      <td>Transient</td>\n",
       "      <td>0</td>\n",
       "      <td>0</td>\n",
       "      <td>7</td>\n",
       "    </tr>\n",
       "    <tr>\n",
       "      <th>5</th>\n",
       "      <td>6091</td>\n",
       "      <td>1</td>\n",
       "      <td>52.0</td>\n",
       "      <td>2017</td>\n",
       "      <td>January</td>\n",
       "      <td>1</td>\n",
       "      <td>1</td>\n",
       "      <td>2</td>\n",
       "      <td>5</td>\n",
       "      <td>1.0</td>\n",
       "      <td>...</td>\n",
       "      <td>0</td>\n",
       "      <td>0</td>\n",
       "      <td>0</td>\n",
       "      <td>A</td>\n",
       "      <td>0</td>\n",
       "      <td>0</td>\n",
       "      <td>Transient</td>\n",
       "      <td>0</td>\n",
       "      <td>0</td>\n",
       "      <td>7</td>\n",
       "    </tr>\n",
       "    <tr>\n",
       "      <th>6</th>\n",
       "      <td>6092</td>\n",
       "      <td>1</td>\n",
       "      <td>143.0</td>\n",
       "      <td>2017</td>\n",
       "      <td>January</td>\n",
       "      <td>1</td>\n",
       "      <td>2</td>\n",
       "      <td>1</td>\n",
       "      <td>1</td>\n",
       "      <td>2.0</td>\n",
       "      <td>...</td>\n",
       "      <td>0</td>\n",
       "      <td>0</td>\n",
       "      <td>0</td>\n",
       "      <td>A</td>\n",
       "      <td>1</td>\n",
       "      <td>0</td>\n",
       "      <td>Transient</td>\n",
       "      <td>0</td>\n",
       "      <td>1</td>\n",
       "      <td>2</td>\n",
       "    </tr>\n",
       "    <tr>\n",
       "      <th>7</th>\n",
       "      <td>6093</td>\n",
       "      <td>1</td>\n",
       "      <td>21.0</td>\n",
       "      <td>2017</td>\n",
       "      <td>January</td>\n",
       "      <td>1</td>\n",
       "      <td>2</td>\n",
       "      <td>1</td>\n",
       "      <td>3</td>\n",
       "      <td>2.0</td>\n",
       "      <td>...</td>\n",
       "      <td>0</td>\n",
       "      <td>0</td>\n",
       "      <td>0</td>\n",
       "      <td>A</td>\n",
       "      <td>0</td>\n",
       "      <td>0</td>\n",
       "      <td>Transient</td>\n",
       "      <td>0</td>\n",
       "      <td>1</td>\n",
       "      <td>4</td>\n",
       "    </tr>\n",
       "    <tr>\n",
       "      <th>8</th>\n",
       "      <td>6094</td>\n",
       "      <td>1</td>\n",
       "      <td>89.0</td>\n",
       "      <td>2017</td>\n",
       "      <td>January</td>\n",
       "      <td>1</td>\n",
       "      <td>2</td>\n",
       "      <td>1</td>\n",
       "      <td>3</td>\n",
       "      <td>2.0</td>\n",
       "      <td>...</td>\n",
       "      <td>0</td>\n",
       "      <td>0</td>\n",
       "      <td>0</td>\n",
       "      <td>E</td>\n",
       "      <td>0</td>\n",
       "      <td>0</td>\n",
       "      <td>Transient</td>\n",
       "      <td>0</td>\n",
       "      <td>0</td>\n",
       "      <td>4</td>\n",
       "    </tr>\n",
       "    <tr>\n",
       "      <th>9</th>\n",
       "      <td>6095</td>\n",
       "      <td>1</td>\n",
       "      <td>48.0</td>\n",
       "      <td>2017</td>\n",
       "      <td>January</td>\n",
       "      <td>1</td>\n",
       "      <td>2</td>\n",
       "      <td>1</td>\n",
       "      <td>4</td>\n",
       "      <td>2.0</td>\n",
       "      <td>...</td>\n",
       "      <td>0</td>\n",
       "      <td>0</td>\n",
       "      <td>0</td>\n",
       "      <td>A</td>\n",
       "      <td>1</td>\n",
       "      <td>0</td>\n",
       "      <td>Transient</td>\n",
       "      <td>0</td>\n",
       "      <td>2</td>\n",
       "      <td>5</td>\n",
       "    </tr>\n",
       "  </tbody>\n",
       "</table>\n",
       "<p>10 rows × 25 columns</p>\n",
       "</div>"
      ],
      "text/plain": [
       "     id  is_canceled  lead_time  arrival_date_year arrival_date_month  \\\n",
       "0  6086            1       74.0               2017            January   \n",
       "1  6087            1       62.0               2017            January   \n",
       "2  6088            1       62.0               2017            January   \n",
       "3  6089            1       71.0               2017            January   \n",
       "4  6090            1      172.0               2017            January   \n",
       "5  6091            1       52.0               2017            January   \n",
       "6  6092            1      143.0               2017            January   \n",
       "7  6093            1       21.0               2017            January   \n",
       "8  6094            1       89.0               2017            January   \n",
       "9  6095            1       48.0               2017            January   \n",
       "\n",
       "   arrival_date_week_number  arrival_date_day_of_month  \\\n",
       "0                         1                          1   \n",
       "1                         1                          1   \n",
       "2                         1                          1   \n",
       "3                         1                          1   \n",
       "4                         1                          1   \n",
       "5                         1                          1   \n",
       "6                         1                          2   \n",
       "7                         1                          2   \n",
       "8                         1                          2   \n",
       "9                         1                          2   \n",
       "\n",
       "   stays_in_weekend_nights  stays_in_week_nights  adults  ...  \\\n",
       "0                        1                     0     2.0  ...   \n",
       "1                        2                     2     2.0  ...   \n",
       "2                        2                     2     2.0  ...   \n",
       "3                        2                     2     1.0  ...   \n",
       "4                        2                     5     2.0  ...   \n",
       "5                        2                     5     1.0  ...   \n",
       "6                        1                     1     2.0  ...   \n",
       "7                        1                     3     2.0  ...   \n",
       "8                        1                     3     2.0  ...   \n",
       "9                        1                     4     2.0  ...   \n",
       "\n",
       "   is_repeated_guest  previous_cancellations previous_bookings_not_canceled  \\\n",
       "0                  0                       0                              0   \n",
       "1                  0                       0                              0   \n",
       "2                  0                       0                              0   \n",
       "3                  0                       0                              0   \n",
       "4                  0                       0                              0   \n",
       "5                  0                       0                              0   \n",
       "6                  0                       0                              0   \n",
       "7                  0                       0                              0   \n",
       "8                  0                       0                              0   \n",
       "9                  0                       0                              0   \n",
       "\n",
       "  reserved_room_type booking_changes  days_in_waiting_list  customer_type  \\\n",
       "0   A                              0                     0      Transient   \n",
       "1   A                              0                     0      Transient   \n",
       "2   A                              0                     0      Transient   \n",
       "3   A                              0                     0      Transient   \n",
       "4   A                              0                     0      Transient   \n",
       "5   A                              0                     0      Transient   \n",
       "6   A                              1                     0      Transient   \n",
       "7   A                              0                     0      Transient   \n",
       "8   E                              0                     0      Transient   \n",
       "9   A                              1                     0      Transient   \n",
       "\n",
       "   required_car_parking_spaces total_of_special_requests  total_nights  \n",
       "0                            0                         0             1  \n",
       "1                            0                         1             4  \n",
       "2                            0                         1             4  \n",
       "3                            0                         1             4  \n",
       "4                            0                         0             7  \n",
       "5                            0                         0             7  \n",
       "6                            0                         1             2  \n",
       "7                            0                         1             4  \n",
       "8                            0                         0             4  \n",
       "9                            0                         2             5  \n",
       "\n",
       "[10 rows x 25 columns]"
      ]
     },
     "metadata": {},
     "output_type": "display_data"
    },
    {
     "name": "stdout",
     "output_type": "stream",
     "text": [
      "<class 'pandas.core.frame.DataFrame'>\n",
      "RangeIndex: 32412 entries, 0 to 32411\n",
      "Data columns (total 25 columns):\n",
      " #   Column                          Non-Null Count  Dtype  \n",
      "---  ------                          --------------  -----  \n",
      " 0   id                              32412 non-null  int64  \n",
      " 1   is_canceled                     32412 non-null  int64  \n",
      " 2   lead_time                       32412 non-null  float64\n",
      " 3   arrival_date_year               32412 non-null  int64  \n",
      " 4   arrival_date_month              32412 non-null  object \n",
      " 5   arrival_date_week_number        32412 non-null  int64  \n",
      " 6   arrival_date_day_of_month       32412 non-null  int64  \n",
      " 7   stays_in_weekend_nights         32412 non-null  int64  \n",
      " 8   stays_in_week_nights            32412 non-null  int64  \n",
      " 9   adults                          32412 non-null  float64\n",
      " 10  children                        32412 non-null  float64\n",
      " 11  babies                          32412 non-null  float64\n",
      " 12  meal                            32412 non-null  object \n",
      " 13  country                         32412 non-null  object \n",
      " 14  distribution_channel            32412 non-null  object \n",
      " 15  is_repeated_guest               32412 non-null  int64  \n",
      " 16  previous_cancellations          32412 non-null  int64  \n",
      " 17  previous_bookings_not_canceled  32412 non-null  int64  \n",
      " 18  reserved_room_type              32412 non-null  object \n",
      " 19  booking_changes                 32412 non-null  int64  \n",
      " 20  days_in_waiting_list            32412 non-null  int64  \n",
      " 21  customer_type                   32412 non-null  object \n",
      " 22  required_car_parking_spaces     32412 non-null  int64  \n",
      " 23  total_of_special_requests       32412 non-null  int64  \n",
      " 24  total_nights                    32412 non-null  int64  \n",
      "dtypes: float64(4), int64(15), object(6)\n",
      "memory usage: 6.2+ MB\n"
     ]
    },
    {
     "data": {
      "text/plain": [
       "None"
      ]
     },
     "metadata": {},
     "output_type": "display_data"
    },
    {
     "data": {
      "text/html": [
       "<div>\n",
       "<style scoped>\n",
       "    .dataframe tbody tr th:only-of-type {\n",
       "        vertical-align: middle;\n",
       "    }\n",
       "\n",
       "    .dataframe tbody tr th {\n",
       "        vertical-align: top;\n",
       "    }\n",
       "\n",
       "    .dataframe thead th {\n",
       "        text-align: right;\n",
       "    }\n",
       "</style>\n",
       "<table border=\"1\" class=\"dataframe\">\n",
       "  <thead>\n",
       "    <tr style=\"text-align: right;\">\n",
       "      <th></th>\n",
       "      <th>count</th>\n",
       "      <th>mean</th>\n",
       "      <th>std</th>\n",
       "      <th>min</th>\n",
       "      <th>50%</th>\n",
       "      <th>max</th>\n",
       "    </tr>\n",
       "  </thead>\n",
       "  <tbody>\n",
       "    <tr>\n",
       "      <th>id</th>\n",
       "      <td>32412.0</td>\n",
       "      <td>60131.505183</td>\n",
       "      <td>29953.586177</td>\n",
       "      <td>6086.0</td>\n",
       "      <td>53394.5</td>\n",
       "      <td>97903.0</td>\n",
       "    </tr>\n",
       "    <tr>\n",
       "      <th>is_canceled</th>\n",
       "      <td>32412.0</td>\n",
       "      <td>0.388467</td>\n",
       "      <td>0.487409</td>\n",
       "      <td>0.0</td>\n",
       "      <td>0.0</td>\n",
       "      <td>1.0</td>\n",
       "    </tr>\n",
       "    <tr>\n",
       "      <th>lead_time</th>\n",
       "      <td>32412.0</td>\n",
       "      <td>97.587869</td>\n",
       "      <td>86.507146</td>\n",
       "      <td>0.0</td>\n",
       "      <td>76.0</td>\n",
       "      <td>373.0</td>\n",
       "    </tr>\n",
       "    <tr>\n",
       "      <th>arrival_date_year</th>\n",
       "      <td>32412.0</td>\n",
       "      <td>2017.000000</td>\n",
       "      <td>0.000000</td>\n",
       "      <td>2017.0</td>\n",
       "      <td>2017.0</td>\n",
       "      <td>2017.0</td>\n",
       "    </tr>\n",
       "    <tr>\n",
       "      <th>arrival_date_week_number</th>\n",
       "      <td>32412.0</td>\n",
       "      <td>17.804054</td>\n",
       "      <td>9.177384</td>\n",
       "      <td>1.0</td>\n",
       "      <td>18.0</td>\n",
       "      <td>35.0</td>\n",
       "    </tr>\n",
       "    <tr>\n",
       "      <th>arrival_date_day_of_month</th>\n",
       "      <td>32412.0</td>\n",
       "      <td>15.656948</td>\n",
       "      <td>8.766429</td>\n",
       "      <td>1.0</td>\n",
       "      <td>15.5</td>\n",
       "      <td>31.0</td>\n",
       "    </tr>\n",
       "    <tr>\n",
       "      <th>stays_in_weekend_nights</th>\n",
       "      <td>32412.0</td>\n",
       "      <td>0.867888</td>\n",
       "      <td>0.853394</td>\n",
       "      <td>0.0</td>\n",
       "      <td>1.0</td>\n",
       "      <td>4.0</td>\n",
       "    </tr>\n",
       "    <tr>\n",
       "      <th>stays_in_week_nights</th>\n",
       "      <td>32412.0</td>\n",
       "      <td>2.340090</td>\n",
       "      <td>1.375170</td>\n",
       "      <td>0.0</td>\n",
       "      <td>2.0</td>\n",
       "      <td>6.0</td>\n",
       "    </tr>\n",
       "    <tr>\n",
       "      <th>adults</th>\n",
       "      <td>32412.0</td>\n",
       "      <td>1.858602</td>\n",
       "      <td>0.489341</td>\n",
       "      <td>0.0</td>\n",
       "      <td>2.0</td>\n",
       "      <td>4.0</td>\n",
       "    </tr>\n",
       "    <tr>\n",
       "      <th>children</th>\n",
       "      <td>32412.0</td>\n",
       "      <td>0.083765</td>\n",
       "      <td>0.343470</td>\n",
       "      <td>0.0</td>\n",
       "      <td>0.0</td>\n",
       "      <td>3.0</td>\n",
       "    </tr>\n",
       "    <tr>\n",
       "      <th>babies</th>\n",
       "      <td>32412.0</td>\n",
       "      <td>0.005523</td>\n",
       "      <td>0.075757</td>\n",
       "      <td>0.0</td>\n",
       "      <td>0.0</td>\n",
       "      <td>2.0</td>\n",
       "    </tr>\n",
       "    <tr>\n",
       "      <th>is_repeated_guest</th>\n",
       "      <td>32412.0</td>\n",
       "      <td>0.031377</td>\n",
       "      <td>0.174338</td>\n",
       "      <td>0.0</td>\n",
       "      <td>0.0</td>\n",
       "      <td>1.0</td>\n",
       "    </tr>\n",
       "    <tr>\n",
       "      <th>previous_cancellations</th>\n",
       "      <td>32412.0</td>\n",
       "      <td>0.011601</td>\n",
       "      <td>0.180473</td>\n",
       "      <td>0.0</td>\n",
       "      <td>0.0</td>\n",
       "      <td>6.0</td>\n",
       "    </tr>\n",
       "    <tr>\n",
       "      <th>previous_bookings_not_canceled</th>\n",
       "      <td>32412.0</td>\n",
       "      <td>0.171418</td>\n",
       "      <td>1.875170</td>\n",
       "      <td>0.0</td>\n",
       "      <td>0.0</td>\n",
       "      <td>72.0</td>\n",
       "    </tr>\n",
       "    <tr>\n",
       "      <th>booking_changes</th>\n",
       "      <td>32412.0</td>\n",
       "      <td>0.216741</td>\n",
       "      <td>0.640551</td>\n",
       "      <td>0.0</td>\n",
       "      <td>0.0</td>\n",
       "      <td>18.0</td>\n",
       "    </tr>\n",
       "    <tr>\n",
       "      <th>days_in_waiting_list</th>\n",
       "      <td>32412.0</td>\n",
       "      <td>0.262341</td>\n",
       "      <td>4.733027</td>\n",
       "      <td>0.0</td>\n",
       "      <td>0.0</td>\n",
       "      <td>223.0</td>\n",
       "    </tr>\n",
       "    <tr>\n",
       "      <th>required_car_parking_spaces</th>\n",
       "      <td>32412.0</td>\n",
       "      <td>0.046248</td>\n",
       "      <td>0.219367</td>\n",
       "      <td>0.0</td>\n",
       "      <td>0.0</td>\n",
       "      <td>8.0</td>\n",
       "    </tr>\n",
       "    <tr>\n",
       "      <th>total_of_special_requests</th>\n",
       "      <td>32412.0</td>\n",
       "      <td>0.657781</td>\n",
       "      <td>0.834341</td>\n",
       "      <td>0.0</td>\n",
       "      <td>0.0</td>\n",
       "      <td>5.0</td>\n",
       "    </tr>\n",
       "    <tr>\n",
       "      <th>total_nights</th>\n",
       "      <td>32412.0</td>\n",
       "      <td>3.207979</td>\n",
       "      <td>1.738683</td>\n",
       "      <td>1.0</td>\n",
       "      <td>3.0</td>\n",
       "      <td>10.0</td>\n",
       "    </tr>\n",
       "  </tbody>\n",
       "</table>\n",
       "</div>"
      ],
      "text/plain": [
       "                                  count          mean           std     min  \\\n",
       "id                              32412.0  60131.505183  29953.586177  6086.0   \n",
       "is_canceled                     32412.0      0.388467      0.487409     0.0   \n",
       "lead_time                       32412.0     97.587869     86.507146     0.0   \n",
       "arrival_date_year               32412.0   2017.000000      0.000000  2017.0   \n",
       "arrival_date_week_number        32412.0     17.804054      9.177384     1.0   \n",
       "arrival_date_day_of_month       32412.0     15.656948      8.766429     1.0   \n",
       "stays_in_weekend_nights         32412.0      0.867888      0.853394     0.0   \n",
       "stays_in_week_nights            32412.0      2.340090      1.375170     0.0   \n",
       "adults                          32412.0      1.858602      0.489341     0.0   \n",
       "children                        32412.0      0.083765      0.343470     0.0   \n",
       "babies                          32412.0      0.005523      0.075757     0.0   \n",
       "is_repeated_guest               32412.0      0.031377      0.174338     0.0   \n",
       "previous_cancellations          32412.0      0.011601      0.180473     0.0   \n",
       "previous_bookings_not_canceled  32412.0      0.171418      1.875170     0.0   \n",
       "booking_changes                 32412.0      0.216741      0.640551     0.0   \n",
       "days_in_waiting_list            32412.0      0.262341      4.733027     0.0   \n",
       "required_car_parking_spaces     32412.0      0.046248      0.219367     0.0   \n",
       "total_of_special_requests       32412.0      0.657781      0.834341     0.0   \n",
       "total_nights                    32412.0      3.207979      1.738683     1.0   \n",
       "\n",
       "                                    50%      max  \n",
       "id                              53394.5  97903.0  \n",
       "is_canceled                         0.0      1.0  \n",
       "lead_time                          76.0    373.0  \n",
       "arrival_date_year                2017.0   2017.0  \n",
       "arrival_date_week_number           18.0     35.0  \n",
       "arrival_date_day_of_month          15.5     31.0  \n",
       "stays_in_weekend_nights             1.0      4.0  \n",
       "stays_in_week_nights                2.0      6.0  \n",
       "adults                              2.0      4.0  \n",
       "children                            0.0      3.0  \n",
       "babies                              0.0      2.0  \n",
       "is_repeated_guest                   0.0      1.0  \n",
       "previous_cancellations              0.0      6.0  \n",
       "previous_bookings_not_canceled      0.0     72.0  \n",
       "booking_changes                     0.0     18.0  \n",
       "days_in_waiting_list                0.0    223.0  \n",
       "required_car_parking_spaces         0.0      8.0  \n",
       "total_of_special_requests           0.0      5.0  \n",
       "total_nights                        3.0     10.0  "
      ]
     },
     "metadata": {},
     "output_type": "display_data"
    },
    {
     "name": "stdout",
     "output_type": "stream",
     "text": [
      "Количество дублированных строк: 0\n"
     ]
    }
   ],
   "source": [
    "describe_dataframe(hotel_test)"
   ]
  },
  {
   "cell_type": "markdown",
   "metadata": {},
   "source": [
    "Данные не имеют пропусков или дублированных строк.\n",
    "Колонки: [arrival_date_month, meal, country, distribution_channel, reserved_room_type, customer_type] имеют категориальные значения. Исследуем их для выявления ошибок или аномалий их заполнения. Другие колонки имеют количественные значения, в них нет выбивающихся значений. Даты в реальных диапазонах."
   ]
  },
  {
   "cell_type": "markdown",
   "metadata": {},
   "source": [
    "### Шаг 2. Предобработка и исследовательский анализ данных"
   ]
  },
  {
   "cell_type": "markdown",
   "metadata": {},
   "source": [
    "Пропишем функцию для исследования наборов данных."
   ]
  },
  {
   "cell_type": "code",
   "execution_count": 7,
   "metadata": {},
   "outputs": [],
   "source": [
    "def display_objects(dataframe):\n",
    "    object_columns = filter(lambda column: is_string_dtype(dataframe[column]), dataframe.columns)\n",
    "    for i, column in enumerate(object_columns, 1):\n",
    "        display(f\"{i} Колонка: {column}\")\n",
    "        display(dataframe[column].value_counts())"
   ]
  },
  {
   "cell_type": "code",
   "execution_count": 8,
   "metadata": {},
   "outputs": [],
   "source": [
    "def display_digits(dataframe):\n",
    "    object_columns = filter(lambda column: not is_string_dtype(dataframe[column]), dataframe.columns)\n",
    "    for i, column in enumerate(object_columns, 1):\n",
    "        display(f\"{i} Колонка: {column}\")\n",
    "        display(dataframe[column].value_counts())"
   ]
  },
  {
   "cell_type": "markdown",
   "metadata": {},
   "source": [
    "#### Исследование тестового датафрейма"
   ]
  },
  {
   "cell_type": "code",
   "execution_count": 9,
   "metadata": {},
   "outputs": [
    {
     "data": {
      "text/plain": [
       "'1 Колонка: arrival_date_month'"
      ]
     },
     "metadata": {},
     "output_type": "display_data"
    },
    {
     "data": {
      "text/plain": [
       "May         5262\n",
       "April       4878\n",
       "June        4580\n",
       "March       4277\n",
       "July        3626\n",
       "February    3543\n",
       "January     3150\n",
       "August      3096\n",
       "Name: arrival_date_month, dtype: int64"
      ]
     },
     "metadata": {},
     "output_type": "display_data"
    },
    {
     "data": {
      "text/plain": [
       "'2 Колонка: meal'"
      ]
     },
     "metadata": {},
     "output_type": "display_data"
    },
    {
     "data": {
      "text/plain": [
       "BB           24684\n",
       "SC            5035\n",
       "HB            2399\n",
       "SC             258\n",
       "FB              36\n",
       "Name: meal, dtype: int64"
      ]
     },
     "metadata": {},
     "output_type": "display_data"
    },
    {
     "data": {
      "text/plain": [
       "'3 Колонка: country'"
      ]
     },
     "metadata": {},
     "output_type": "display_data"
    },
    {
     "data": {
      "text/plain": [
       "PRT    9887\n",
       "GBR    3927\n",
       "FRA    3477\n",
       "DEU    2378\n",
       "ESP    1932\n",
       "       ... \n",
       "FRO       1\n",
       "SDN       1\n",
       "TJK       1\n",
       "ASM       1\n",
       "LIE       1\n",
       "Name: country, Length: 143, dtype: int64"
      ]
     },
     "metadata": {},
     "output_type": "display_data"
    },
    {
     "data": {
      "text/plain": [
       "'4 Колонка: distribution_channel'"
      ]
     },
     "metadata": {},
     "output_type": "display_data"
    },
    {
     "data": {
      "text/plain": [
       "TA/TO        27083\n",
       "Direct        3642\n",
       "Corporate     1602\n",
       "GDS             85\n",
       "Name: distribution_channel, dtype: int64"
      ]
     },
     "metadata": {},
     "output_type": "display_data"
    },
    {
     "data": {
      "text/plain": [
       "'5 Колонка: reserved_room_type'"
      ]
     },
     "metadata": {},
     "output_type": "display_data"
    },
    {
     "data": {
      "text/plain": [
       "A                   23471\n",
       "D                    6123\n",
       "E                    1644\n",
       "F                     503\n",
       "G                     278\n",
       "C                     201\n",
       "B                     192\n",
       "Name: reserved_room_type, dtype: int64"
      ]
     },
     "metadata": {},
     "output_type": "display_data"
    },
    {
     "data": {
      "text/plain": [
       "'6 Колонка: customer_type'"
      ]
     },
     "metadata": {},
     "output_type": "display_data"
    },
    {
     "data": {
      "text/plain": [
       "Transient          27461\n",
       "Transient-Party     4427\n",
       "Contract             359\n",
       "Group                165\n",
       "Name: customer_type, dtype: int64"
      ]
     },
     "metadata": {},
     "output_type": "display_data"
    }
   ],
   "source": [
    "display_objects(hotel_test)"
   ]
  },
  {
   "cell_type": "markdown",
   "metadata": {},
   "source": [
    "1) Всего в тестовом датафрейме представлены первые 8 месяцев 2017 года."
   ]
  },
  {
   "cell_type": "markdown",
   "metadata": {},
   "source": [
    "2) По условию meal — опции заказа:\n",
    "    SC — нет дополнительных опций;\n",
    "    BB — включён завтрак;\n",
    "    HB — включён завтрак и обед;\n",
    "    FB — включён завтрак, обед и ужин.\n",
    "\n",
    "В одну из опций попал пробел или символ табуляции. Исправим ошибку."
   ]
  },
  {
   "cell_type": "code",
   "execution_count": 10,
   "metadata": {},
   "outputs": [
    {
     "data": {
      "text/plain": [
       "BB    24684\n",
       "SC     5293\n",
       "HB     2399\n",
       "FB       36\n",
       "Name: meal, dtype: int64"
      ]
     },
     "execution_count": 10,
     "metadata": {},
     "output_type": "execute_result"
    }
   ],
   "source": [
    "# hotel_test['meal'][hotel_test['meal'].str.contains(\"SC\")] = \"SC\"\n",
    "hotel_test['meal'] = hotel_test['meal'].str.strip()\n",
    "hotel_test['meal'].value_counts()"
   ]
  },
  {
   "cell_type": "markdown",
   "metadata": {},
   "source": [
    "В некоторых количественных переменных наблюдаются аномально большие значения, построим для них графики."
   ]
  },
  {
   "cell_type": "code",
   "execution_count": 11,
   "metadata": {},
   "outputs": [
    {
     "data": {
      "text/plain": [
       "array([[<AxesSubplot:title={'center':'adults'}>,\n",
       "        <AxesSubplot:title={'center':'children'}>,\n",
       "        <AxesSubplot:title={'center':'babies'}>],\n",
       "       [<AxesSubplot:title={'center':'required_car_parking_spaces'}>,\n",
       "        <AxesSubplot:title={'center':'days_in_waiting_list'}>,\n",
       "        <AxesSubplot:title={'center':'total_of_special_requests'}>],\n",
       "       [<AxesSubplot:title={'center':'previous_bookings_not_canceled'}>,\n",
       "        <AxesSubplot:title={'center':'total_nights'}>,\n",
       "        <AxesSubplot:title={'center':'booking_changes'}>]], dtype=object)"
      ]
     },
     "execution_count": 11,
     "metadata": {},
     "output_type": "execute_result"
    },
    {
     "data": {
      "image/png": "[encoded data removed]",
      "text/plain": [
       "<Figure size 1080x720 with 9 Axes>"
      ]
     },
     "metadata": {
      "needs_background": "light"
     },
     "output_type": "display_data"
    }
   ],
   "source": [
    "hotel_test[\n",
    "    ['adults', 'children', 'babies', 'required_car_parking_spaces', 'days_in_waiting_list', \n",
    "     'total_of_special_requests', 'previous_bookings_not_canceled', 'total_nights', 'booking_changes']\n",
    "].hist(figsize=(15, 10))"
   ]
  },
  {
   "cell_type": "markdown",
   "metadata": {},
   "source": [
    "Остальные колонки не имеют каких-то выраженых аномалий или отклонений"
   ]
  },
  {
   "cell_type": "markdown",
   "metadata": {},
   "source": [
    "<div class=\"alert alert-warning\">\n",
    "    <h2> Комментарий ревьюера <a class=\"tocSkip\"> </h2>\n",
    "    \n",
    "<b>Некоторые замечания и рекомендации💡:</b> \n",
    "        \n",
    "У строк есть удобный метод strip, который позволяет убирать лишние пробелы\n",
    "        \n",
    "<div class=\"alert alert-info\", padding: 15px>\n",
    "<strong>Комментарий студента:</strong>\n",
    "    Исправил, сразу не догадался...\n",
    "</div>"
   ]
  },
  {
   "cell_type": "markdown",
   "metadata": {},
   "source": [
    "<div class=\"alert alert-success\">\n",
    "<h2> Комментарий ревьюера №2<a class=\"tocSkip\"> </h2>\n",
    "\n",
    "    \n",
    "<b>Все отлично!👍</b> "
   ]
  },
  {
   "cell_type": "markdown",
   "metadata": {},
   "source": []
  },
  {
   "cell_type": "markdown",
   "metadata": {},
   "source": [
    "#### Исследование тренировочного датафрейма"
   ]
  },
  {
   "cell_type": "code",
   "execution_count": 12,
   "metadata": {},
   "outputs": [
    {
     "data": {
      "text/html": [
       "<div>\n",
       "<style scoped>\n",
       "    .dataframe tbody tr th:only-of-type {\n",
       "        vertical-align: middle;\n",
       "    }\n",
       "\n",
       "    .dataframe tbody tr th {\n",
       "        vertical-align: top;\n",
       "    }\n",
       "\n",
       "    .dataframe thead th {\n",
       "        text-align: right;\n",
       "    }\n",
       "</style>\n",
       "<table border=\"1\" class=\"dataframe\">\n",
       "  <thead>\n",
       "    <tr style=\"text-align: right;\">\n",
       "      <th></th>\n",
       "      <th>id</th>\n",
       "      <th>is_canceled</th>\n",
       "      <th>lead_time</th>\n",
       "      <th>arrival_date_year</th>\n",
       "      <th>arrival_date_month</th>\n",
       "      <th>arrival_date_week_number</th>\n",
       "      <th>arrival_date_day_of_month</th>\n",
       "      <th>stays_in_weekend_nights</th>\n",
       "      <th>stays_in_week_nights</th>\n",
       "      <th>adults</th>\n",
       "      <th>...</th>\n",
       "      <th>is_repeated_guest</th>\n",
       "      <th>previous_cancellations</th>\n",
       "      <th>previous_bookings_not_canceled</th>\n",
       "      <th>reserved_room_type</th>\n",
       "      <th>booking_changes</th>\n",
       "      <th>days_in_waiting_list</th>\n",
       "      <th>customer_type</th>\n",
       "      <th>required_car_parking_spaces</th>\n",
       "      <th>total_of_special_requests</th>\n",
       "      <th>total_nights</th>\n",
       "    </tr>\n",
       "  </thead>\n",
       "  <tbody>\n",
       "    <tr>\n",
       "      <th>0</th>\n",
       "      <td>0</td>\n",
       "      <td>0</td>\n",
       "      <td>7.0</td>\n",
       "      <td>2015</td>\n",
       "      <td>July</td>\n",
       "      <td>27</td>\n",
       "      <td>1</td>\n",
       "      <td>0</td>\n",
       "      <td>1</td>\n",
       "      <td>1.0</td>\n",
       "      <td>...</td>\n",
       "      <td>0</td>\n",
       "      <td>0</td>\n",
       "      <td>0</td>\n",
       "      <td>A</td>\n",
       "      <td>0</td>\n",
       "      <td>0</td>\n",
       "      <td>Transient</td>\n",
       "      <td>0</td>\n",
       "      <td>0</td>\n",
       "      <td>1</td>\n",
       "    </tr>\n",
       "    <tr>\n",
       "      <th>1</th>\n",
       "      <td>1</td>\n",
       "      <td>0</td>\n",
       "      <td>14.0</td>\n",
       "      <td>2015</td>\n",
       "      <td>July</td>\n",
       "      <td>27</td>\n",
       "      <td>1</td>\n",
       "      <td>0</td>\n",
       "      <td>2</td>\n",
       "      <td>2.0</td>\n",
       "      <td>...</td>\n",
       "      <td>0</td>\n",
       "      <td>0</td>\n",
       "      <td>0</td>\n",
       "      <td>A</td>\n",
       "      <td>0</td>\n",
       "      <td>0</td>\n",
       "      <td>Transient</td>\n",
       "      <td>0</td>\n",
       "      <td>1</td>\n",
       "      <td>2</td>\n",
       "    </tr>\n",
       "    <tr>\n",
       "      <th>2</th>\n",
       "      <td>2</td>\n",
       "      <td>0</td>\n",
       "      <td>0.0</td>\n",
       "      <td>2015</td>\n",
       "      <td>July</td>\n",
       "      <td>27</td>\n",
       "      <td>1</td>\n",
       "      <td>0</td>\n",
       "      <td>2</td>\n",
       "      <td>2.0</td>\n",
       "      <td>...</td>\n",
       "      <td>0</td>\n",
       "      <td>0</td>\n",
       "      <td>0</td>\n",
       "      <td>C</td>\n",
       "      <td>0</td>\n",
       "      <td>0</td>\n",
       "      <td>Transient</td>\n",
       "      <td>0</td>\n",
       "      <td>0</td>\n",
       "      <td>2</td>\n",
       "    </tr>\n",
       "    <tr>\n",
       "      <th>3</th>\n",
       "      <td>3</td>\n",
       "      <td>0</td>\n",
       "      <td>9.0</td>\n",
       "      <td>2015</td>\n",
       "      <td>July</td>\n",
       "      <td>27</td>\n",
       "      <td>1</td>\n",
       "      <td>0</td>\n",
       "      <td>2</td>\n",
       "      <td>2.0</td>\n",
       "      <td>...</td>\n",
       "      <td>0</td>\n",
       "      <td>0</td>\n",
       "      <td>0</td>\n",
       "      <td>C</td>\n",
       "      <td>0</td>\n",
       "      <td>0</td>\n",
       "      <td>Transient</td>\n",
       "      <td>0</td>\n",
       "      <td>1</td>\n",
       "      <td>2</td>\n",
       "    </tr>\n",
       "    <tr>\n",
       "      <th>4</th>\n",
       "      <td>4</td>\n",
       "      <td>1</td>\n",
       "      <td>85.0</td>\n",
       "      <td>2015</td>\n",
       "      <td>July</td>\n",
       "      <td>27</td>\n",
       "      <td>1</td>\n",
       "      <td>0</td>\n",
       "      <td>3</td>\n",
       "      <td>2.0</td>\n",
       "      <td>...</td>\n",
       "      <td>0</td>\n",
       "      <td>0</td>\n",
       "      <td>0</td>\n",
       "      <td>A</td>\n",
       "      <td>0</td>\n",
       "      <td>0</td>\n",
       "      <td>Transient</td>\n",
       "      <td>0</td>\n",
       "      <td>1</td>\n",
       "      <td>3</td>\n",
       "    </tr>\n",
       "    <tr>\n",
       "      <th>5</th>\n",
       "      <td>5</td>\n",
       "      <td>1</td>\n",
       "      <td>75.0</td>\n",
       "      <td>2015</td>\n",
       "      <td>July</td>\n",
       "      <td>27</td>\n",
       "      <td>1</td>\n",
       "      <td>0</td>\n",
       "      <td>3</td>\n",
       "      <td>2.0</td>\n",
       "      <td>...</td>\n",
       "      <td>0</td>\n",
       "      <td>0</td>\n",
       "      <td>0</td>\n",
       "      <td>D</td>\n",
       "      <td>0</td>\n",
       "      <td>0</td>\n",
       "      <td>Transient</td>\n",
       "      <td>0</td>\n",
       "      <td>0</td>\n",
       "      <td>3</td>\n",
       "    </tr>\n",
       "    <tr>\n",
       "      <th>6</th>\n",
       "      <td>6</td>\n",
       "      <td>1</td>\n",
       "      <td>23.0</td>\n",
       "      <td>2015</td>\n",
       "      <td>July</td>\n",
       "      <td>27</td>\n",
       "      <td>1</td>\n",
       "      <td>0</td>\n",
       "      <td>4</td>\n",
       "      <td>2.0</td>\n",
       "      <td>...</td>\n",
       "      <td>0</td>\n",
       "      <td>0</td>\n",
       "      <td>0</td>\n",
       "      <td>E</td>\n",
       "      <td>0</td>\n",
       "      <td>0</td>\n",
       "      <td>Transient</td>\n",
       "      <td>0</td>\n",
       "      <td>0</td>\n",
       "      <td>4</td>\n",
       "    </tr>\n",
       "    <tr>\n",
       "      <th>7</th>\n",
       "      <td>7</td>\n",
       "      <td>0</td>\n",
       "      <td>18.0</td>\n",
       "      <td>2015</td>\n",
       "      <td>July</td>\n",
       "      <td>27</td>\n",
       "      <td>1</td>\n",
       "      <td>0</td>\n",
       "      <td>4</td>\n",
       "      <td>2.0</td>\n",
       "      <td>...</td>\n",
       "      <td>0</td>\n",
       "      <td>0</td>\n",
       "      <td>0</td>\n",
       "      <td>G</td>\n",
       "      <td>1</td>\n",
       "      <td>0</td>\n",
       "      <td>Transient</td>\n",
       "      <td>0</td>\n",
       "      <td>1</td>\n",
       "      <td>4</td>\n",
       "    </tr>\n",
       "    <tr>\n",
       "      <th>8</th>\n",
       "      <td>8</td>\n",
       "      <td>0</td>\n",
       "      <td>68.0</td>\n",
       "      <td>2015</td>\n",
       "      <td>July</td>\n",
       "      <td>27</td>\n",
       "      <td>1</td>\n",
       "      <td>0</td>\n",
       "      <td>4</td>\n",
       "      <td>2.0</td>\n",
       "      <td>...</td>\n",
       "      <td>0</td>\n",
       "      <td>0</td>\n",
       "      <td>0</td>\n",
       "      <td>D</td>\n",
       "      <td>0</td>\n",
       "      <td>0</td>\n",
       "      <td>Transient</td>\n",
       "      <td>0</td>\n",
       "      <td>3</td>\n",
       "      <td>4</td>\n",
       "    </tr>\n",
       "    <tr>\n",
       "      <th>9</th>\n",
       "      <td>9</td>\n",
       "      <td>0</td>\n",
       "      <td>37.0</td>\n",
       "      <td>2015</td>\n",
       "      <td>July</td>\n",
       "      <td>27</td>\n",
       "      <td>1</td>\n",
       "      <td>0</td>\n",
       "      <td>4</td>\n",
       "      <td>2.0</td>\n",
       "      <td>...</td>\n",
       "      <td>0</td>\n",
       "      <td>0</td>\n",
       "      <td>0</td>\n",
       "      <td>E</td>\n",
       "      <td>0</td>\n",
       "      <td>0</td>\n",
       "      <td>Contract</td>\n",
       "      <td>0</td>\n",
       "      <td>0</td>\n",
       "      <td>4</td>\n",
       "    </tr>\n",
       "  </tbody>\n",
       "</table>\n",
       "<p>10 rows × 25 columns</p>\n",
       "</div>"
      ],
      "text/plain": [
       "   id  is_canceled  lead_time  arrival_date_year arrival_date_month  \\\n",
       "0   0            0        7.0               2015               July   \n",
       "1   1            0       14.0               2015               July   \n",
       "2   2            0        0.0               2015               July   \n",
       "3   3            0        9.0               2015               July   \n",
       "4   4            1       85.0               2015               July   \n",
       "5   5            1       75.0               2015               July   \n",
       "6   6            1       23.0               2015               July   \n",
       "7   7            0       18.0               2015               July   \n",
       "8   8            0       68.0               2015               July   \n",
       "9   9            0       37.0               2015               July   \n",
       "\n",
       "   arrival_date_week_number  arrival_date_day_of_month  \\\n",
       "0                        27                          1   \n",
       "1                        27                          1   \n",
       "2                        27                          1   \n",
       "3                        27                          1   \n",
       "4                        27                          1   \n",
       "5                        27                          1   \n",
       "6                        27                          1   \n",
       "7                        27                          1   \n",
       "8                        27                          1   \n",
       "9                        27                          1   \n",
       "\n",
       "   stays_in_weekend_nights  stays_in_week_nights  adults  ...  \\\n",
       "0                        0                     1     1.0  ...   \n",
       "1                        0                     2     2.0  ...   \n",
       "2                        0                     2     2.0  ...   \n",
       "3                        0                     2     2.0  ...   \n",
       "4                        0                     3     2.0  ...   \n",
       "5                        0                     3     2.0  ...   \n",
       "6                        0                     4     2.0  ...   \n",
       "7                        0                     4     2.0  ...   \n",
       "8                        0                     4     2.0  ...   \n",
       "9                        0                     4     2.0  ...   \n",
       "\n",
       "   is_repeated_guest  previous_cancellations previous_bookings_not_canceled  \\\n",
       "0                  0                       0                              0   \n",
       "1                  0                       0                              0   \n",
       "2                  0                       0                              0   \n",
       "3                  0                       0                              0   \n",
       "4                  0                       0                              0   \n",
       "5                  0                       0                              0   \n",
       "6                  0                       0                              0   \n",
       "7                  0                       0                              0   \n",
       "8                  0                       0                              0   \n",
       "9                  0                       0                              0   \n",
       "\n",
       "  reserved_room_type booking_changes  days_in_waiting_list  customer_type  \\\n",
       "0   A                              0                     0      Transient   \n",
       "1   A                              0                     0      Transient   \n",
       "2   C                              0                     0      Transient   \n",
       "3   C                              0                     0      Transient   \n",
       "4   A                              0                     0      Transient   \n",
       "5   D                              0                     0      Transient   \n",
       "6   E                              0                     0      Transient   \n",
       "7   G                              1                     0      Transient   \n",
       "8   D                              0                     0      Transient   \n",
       "9   E                              0                     0       Contract   \n",
       "\n",
       "   required_car_parking_spaces total_of_special_requests  total_nights  \n",
       "0                            0                         0             1  \n",
       "1                            0                         1             2  \n",
       "2                            0                         0             2  \n",
       "3                            0                         1             2  \n",
       "4                            0                         1             3  \n",
       "5                            0                         0             3  \n",
       "6                            0                         0             4  \n",
       "7                            0                         1             4  \n",
       "8                            0                         3             4  \n",
       "9                            0                         0             4  \n",
       "\n",
       "[10 rows x 25 columns]"
      ]
     },
     "metadata": {},
     "output_type": "display_data"
    },
    {
     "name": "stdout",
     "output_type": "stream",
     "text": [
      "<class 'pandas.core.frame.DataFrame'>\n",
      "RangeIndex: 65229 entries, 0 to 65228\n",
      "Data columns (total 25 columns):\n",
      " #   Column                          Non-Null Count  Dtype  \n",
      "---  ------                          --------------  -----  \n",
      " 0   id                              65229 non-null  int64  \n",
      " 1   is_canceled                     65229 non-null  int64  \n",
      " 2   lead_time                       65229 non-null  float64\n",
      " 3   arrival_date_year               65229 non-null  int64  \n",
      " 4   arrival_date_month              65229 non-null  object \n",
      " 5   arrival_date_week_number        65229 non-null  int64  \n",
      " 6   arrival_date_day_of_month       65229 non-null  int64  \n",
      " 7   stays_in_weekend_nights         65229 non-null  int64  \n",
      " 8   stays_in_week_nights            65229 non-null  int64  \n",
      " 9   adults                          65229 non-null  float64\n",
      " 10  children                        65229 non-null  float64\n",
      " 11  babies                          65229 non-null  float64\n",
      " 12  meal                            65229 non-null  object \n",
      " 13  country                         65229 non-null  object \n",
      " 14  distribution_channel            65229 non-null  object \n",
      " 15  is_repeated_guest               65229 non-null  int64  \n",
      " 16  previous_cancellations          65229 non-null  int64  \n",
      " 17  previous_bookings_not_canceled  65229 non-null  int64  \n",
      " 18  reserved_room_type              65229 non-null  object \n",
      " 19  booking_changes                 65229 non-null  int64  \n",
      " 20  days_in_waiting_list            65229 non-null  int64  \n",
      " 21  customer_type                   65229 non-null  object \n",
      " 22  required_car_parking_spaces     65229 non-null  int64  \n",
      " 23  total_of_special_requests       65229 non-null  int64  \n",
      " 24  total_nights                    65229 non-null  int64  \n",
      "dtypes: float64(4), int64(15), object(6)\n",
      "memory usage: 12.4+ MB\n"
     ]
    },
    {
     "data": {
      "text/plain": [
       "None"
      ]
     },
     "metadata": {},
     "output_type": "display_data"
    },
    {
     "data": {
      "text/html": [
       "<div>\n",
       "<style scoped>\n",
       "    .dataframe tbody tr th:only-of-type {\n",
       "        vertical-align: middle;\n",
       "    }\n",
       "\n",
       "    .dataframe tbody tr th {\n",
       "        vertical-align: top;\n",
       "    }\n",
       "\n",
       "    .dataframe thead th {\n",
       "        text-align: right;\n",
       "    }\n",
       "</style>\n",
       "<table border=\"1\" class=\"dataframe\">\n",
       "  <thead>\n",
       "    <tr style=\"text-align: right;\">\n",
       "      <th></th>\n",
       "      <th>count</th>\n",
       "      <th>mean</th>\n",
       "      <th>std</th>\n",
       "      <th>min</th>\n",
       "      <th>50%</th>\n",
       "      <th>max</th>\n",
       "    </tr>\n",
       "  </thead>\n",
       "  <tbody>\n",
       "    <tr>\n",
       "      <th>id</th>\n",
       "      <td>65229.0</td>\n",
       "      <td>43544.069172</td>\n",
       "      <td>25614.858971</td>\n",
       "      <td>0.0</td>\n",
       "      <td>40554.0</td>\n",
       "      <td>84121.0</td>\n",
       "    </tr>\n",
       "    <tr>\n",
       "      <th>is_canceled</th>\n",
       "      <td>65229.0</td>\n",
       "      <td>0.368609</td>\n",
       "      <td>0.482431</td>\n",
       "      <td>0.0</td>\n",
       "      <td>0.0</td>\n",
       "      <td>1.0</td>\n",
       "    </tr>\n",
       "    <tr>\n",
       "      <th>lead_time</th>\n",
       "      <td>65229.0</td>\n",
       "      <td>96.337917</td>\n",
       "      <td>96.127545</td>\n",
       "      <td>0.0</td>\n",
       "      <td>64.0</td>\n",
       "      <td>374.0</td>\n",
       "    </tr>\n",
       "    <tr>\n",
       "      <th>arrival_date_year</th>\n",
       "      <td>65229.0</td>\n",
       "      <td>2015.719021</td>\n",
       "      <td>0.449481</td>\n",
       "      <td>2015.0</td>\n",
       "      <td>2016.0</td>\n",
       "      <td>2016.0</td>\n",
       "    </tr>\n",
       "    <tr>\n",
       "      <th>arrival_date_week_number</th>\n",
       "      <td>65229.0</td>\n",
       "      <td>31.339772</td>\n",
       "      <td>13.464024</td>\n",
       "      <td>1.0</td>\n",
       "      <td>34.0</td>\n",
       "      <td>53.0</td>\n",
       "    </tr>\n",
       "    <tr>\n",
       "      <th>arrival_date_day_of_month</th>\n",
       "      <td>65229.0</td>\n",
       "      <td>15.847813</td>\n",
       "      <td>8.748182</td>\n",
       "      <td>1.0</td>\n",
       "      <td>16.0</td>\n",
       "      <td>31.0</td>\n",
       "    </tr>\n",
       "    <tr>\n",
       "      <th>stays_in_weekend_nights</th>\n",
       "      <td>65229.0</td>\n",
       "      <td>0.825185</td>\n",
       "      <td>0.853477</td>\n",
       "      <td>0.0</td>\n",
       "      <td>1.0</td>\n",
       "      <td>4.0</td>\n",
       "    </tr>\n",
       "    <tr>\n",
       "      <th>stays_in_week_nights</th>\n",
       "      <td>65229.0</td>\n",
       "      <td>2.224793</td>\n",
       "      <td>1.354992</td>\n",
       "      <td>0.0</td>\n",
       "      <td>2.0</td>\n",
       "      <td>6.0</td>\n",
       "    </tr>\n",
       "    <tr>\n",
       "      <th>adults</th>\n",
       "      <td>65229.0</td>\n",
       "      <td>1.836576</td>\n",
       "      <td>0.480245</td>\n",
       "      <td>0.0</td>\n",
       "      <td>2.0</td>\n",
       "      <td>4.0</td>\n",
       "    </tr>\n",
       "    <tr>\n",
       "      <th>children</th>\n",
       "      <td>65229.0</td>\n",
       "      <td>0.074890</td>\n",
       "      <td>0.334243</td>\n",
       "      <td>0.0</td>\n",
       "      <td>0.0</td>\n",
       "      <td>3.0</td>\n",
       "    </tr>\n",
       "    <tr>\n",
       "      <th>babies</th>\n",
       "      <td>65229.0</td>\n",
       "      <td>0.007236</td>\n",
       "      <td>0.098790</td>\n",
       "      <td>0.0</td>\n",
       "      <td>0.0</td>\n",
       "      <td>10.0</td>\n",
       "    </tr>\n",
       "    <tr>\n",
       "      <th>is_repeated_guest</th>\n",
       "      <td>65229.0</td>\n",
       "      <td>0.027151</td>\n",
       "      <td>0.162523</td>\n",
       "      <td>0.0</td>\n",
       "      <td>0.0</td>\n",
       "      <td>1.0</td>\n",
       "    </tr>\n",
       "    <tr>\n",
       "      <th>previous_cancellations</th>\n",
       "      <td>65229.0</td>\n",
       "      <td>0.128915</td>\n",
       "      <td>0.965326</td>\n",
       "      <td>0.0</td>\n",
       "      <td>0.0</td>\n",
       "      <td>26.0</td>\n",
       "    </tr>\n",
       "    <tr>\n",
       "      <th>previous_bookings_not_canceled</th>\n",
       "      <td>65229.0</td>\n",
       "      <td>0.107713</td>\n",
       "      <td>1.326638</td>\n",
       "      <td>0.0</td>\n",
       "      <td>0.0</td>\n",
       "      <td>58.0</td>\n",
       "    </tr>\n",
       "    <tr>\n",
       "      <th>booking_changes</th>\n",
       "      <td>65229.0</td>\n",
       "      <td>0.194269</td>\n",
       "      <td>0.593838</td>\n",
       "      <td>0.0</td>\n",
       "      <td>0.0</td>\n",
       "      <td>17.0</td>\n",
       "    </tr>\n",
       "    <tr>\n",
       "      <th>days_in_waiting_list</th>\n",
       "      <td>65229.0</td>\n",
       "      <td>3.334422</td>\n",
       "      <td>18.239606</td>\n",
       "      <td>0.0</td>\n",
       "      <td>0.0</td>\n",
       "      <td>259.0</td>\n",
       "    </tr>\n",
       "    <tr>\n",
       "      <th>required_car_parking_spaces</th>\n",
       "      <td>65229.0</td>\n",
       "      <td>0.056647</td>\n",
       "      <td>0.232094</td>\n",
       "      <td>0.0</td>\n",
       "      <td>0.0</td>\n",
       "      <td>3.0</td>\n",
       "    </tr>\n",
       "    <tr>\n",
       "      <th>total_of_special_requests</th>\n",
       "      <td>65229.0</td>\n",
       "      <td>0.512763</td>\n",
       "      <td>0.752590</td>\n",
       "      <td>0.0</td>\n",
       "      <td>0.0</td>\n",
       "      <td>5.0</td>\n",
       "    </tr>\n",
       "    <tr>\n",
       "      <th>total_nights</th>\n",
       "      <td>65229.0</td>\n",
       "      <td>3.049978</td>\n",
       "      <td>1.738108</td>\n",
       "      <td>1.0</td>\n",
       "      <td>3.0</td>\n",
       "      <td>10.0</td>\n",
       "    </tr>\n",
       "  </tbody>\n",
       "</table>\n",
       "</div>"
      ],
      "text/plain": [
       "                                  count          mean           std     min  \\\n",
       "id                              65229.0  43544.069172  25614.858971     0.0   \n",
       "is_canceled                     65229.0      0.368609      0.482431     0.0   \n",
       "lead_time                       65229.0     96.337917     96.127545     0.0   \n",
       "arrival_date_year               65229.0   2015.719021      0.449481  2015.0   \n",
       "arrival_date_week_number        65229.0     31.339772     13.464024     1.0   \n",
       "arrival_date_day_of_month       65229.0     15.847813      8.748182     1.0   \n",
       "stays_in_weekend_nights         65229.0      0.825185      0.853477     0.0   \n",
       "stays_in_week_nights            65229.0      2.224793      1.354992     0.0   \n",
       "adults                          65229.0      1.836576      0.480245     0.0   \n",
       "children                        65229.0      0.074890      0.334243     0.0   \n",
       "babies                          65229.0      0.007236      0.098790     0.0   \n",
       "is_repeated_guest               65229.0      0.027151      0.162523     0.0   \n",
       "previous_cancellations          65229.0      0.128915      0.965326     0.0   \n",
       "previous_bookings_not_canceled  65229.0      0.107713      1.326638     0.0   \n",
       "booking_changes                 65229.0      0.194269      0.593838     0.0   \n",
       "days_in_waiting_list            65229.0      3.334422     18.239606     0.0   \n",
       "required_car_parking_spaces     65229.0      0.056647      0.232094     0.0   \n",
       "total_of_special_requests       65229.0      0.512763      0.752590     0.0   \n",
       "total_nights                    65229.0      3.049978      1.738108     1.0   \n",
       "\n",
       "                                    50%      max  \n",
       "id                              40554.0  84121.0  \n",
       "is_canceled                         0.0      1.0  \n",
       "lead_time                          64.0    374.0  \n",
       "arrival_date_year                2016.0   2016.0  \n",
       "arrival_date_week_number           34.0     53.0  \n",
       "arrival_date_day_of_month          16.0     31.0  \n",
       "stays_in_weekend_nights             1.0      4.0  \n",
       "stays_in_week_nights                2.0      6.0  \n",
       "adults                              2.0      4.0  \n",
       "children                            0.0      3.0  \n",
       "babies                              0.0     10.0  \n",
       "is_repeated_guest                   0.0      1.0  \n",
       "previous_cancellations              0.0     26.0  \n",
       "previous_bookings_not_canceled      0.0     58.0  \n",
       "booking_changes                     0.0     17.0  \n",
       "days_in_waiting_list                0.0    259.0  \n",
       "required_car_parking_spaces         0.0      3.0  \n",
       "total_of_special_requests           0.0      5.0  \n",
       "total_nights                        3.0     10.0  "
      ]
     },
     "metadata": {},
     "output_type": "display_data"
    },
    {
     "name": "stdout",
     "output_type": "stream",
     "text": [
      "Количество дублированных строк: 0\n"
     ]
    }
   ],
   "source": [
    "describe_dataframe(hotel_train)"
   ]
  },
  {
   "cell_type": "markdown",
   "metadata": {},
   "source": [
    "Структура тренировочного датафрейма соответствует тестовому"
   ]
  },
  {
   "cell_type": "code",
   "execution_count": 13,
   "metadata": {},
   "outputs": [
    {
     "data": {
      "text/plain": [
       "'1 Колонка: arrival_date_month'"
      ]
     },
     "metadata": {},
     "output_type": "display_data"
    },
    {
     "data": {
      "text/plain": [
       "October      9255\n",
       "September    8782\n",
       "August       6678\n",
       "November     5761\n",
       "July         5718\n",
       "December     5497\n",
       "April        4804\n",
       "May          4677\n",
       "June         4659\n",
       "March        4148\n",
       "February     3358\n",
       "January      1892\n",
       "Name: arrival_date_month, dtype: int64"
      ]
     },
     "metadata": {},
     "output_type": "display_data"
    },
    {
     "data": {
      "text/plain": [
       "'2 Колонка: meal'"
      ]
     },
     "metadata": {},
     "output_type": "display_data"
    },
    {
     "data": {
      "text/plain": [
       "BB           51697\n",
       "HB            7292\n",
       "SC            5274\n",
       "SC             515\n",
       "FB             451\n",
       "Name: meal, dtype: int64"
      ]
     },
     "metadata": {},
     "output_type": "display_data"
    },
    {
     "data": {
      "text/plain": [
       "'3 Колонка: country'"
      ]
     },
     "metadata": {},
     "output_type": "display_data"
    },
    {
     "data": {
      "text/plain": [
       "PRT    28831\n",
       "FRA     5974\n",
       "GBR     5109\n",
       "ESP     4900\n",
       "DEU     3887\n",
       "       ...  \n",
       "LCA        1\n",
       "MMR        1\n",
       "SMR        1\n",
       "BDI        1\n",
       "BHR        1\n",
       "Name: country, Length: 155, dtype: int64"
      ]
     },
     "metadata": {},
     "output_type": "display_data"
    },
    {
     "data": {
      "text/plain": [
       "'4 Колонка: distribution_channel'"
      ]
     },
     "metadata": {},
     "output_type": "display_data"
    },
    {
     "data": {
      "text/plain": [
       "TA/TO        54454\n",
       "Direct        6853\n",
       "Corporate     3823\n",
       "GDS             99\n",
       "Name: distribution_channel, dtype: int64"
      ]
     },
     "metadata": {},
     "output_type": "display_data"
    },
    {
     "data": {
      "text/plain": [
       "'5 Колонка: reserved_room_type'"
      ]
     },
     "metadata": {},
     "output_type": "display_data"
    },
    {
     "data": {
      "text/plain": [
       "A                   50501\n",
       "D                    9387\n",
       "E                    2448\n",
       "F                    1213\n",
       "B                     860\n",
       "G                     592\n",
       "C                     228\n",
       "Name: reserved_room_type, dtype: int64"
      ]
     },
     "metadata": {},
     "output_type": "display_data"
    },
    {
     "data": {
      "text/plain": [
       "'6 Колонка: customer_type'"
      ]
     },
     "metadata": {},
     "output_type": "display_data"
    },
    {
     "data": {
      "text/plain": [
       "Transient          45493\n",
       "Transient-Party    16703\n",
       "Contract            2746\n",
       "Group                287\n",
       "Name: customer_type, dtype: int64"
      ]
     },
     "metadata": {},
     "output_type": "display_data"
    }
   ],
   "source": [
    "display_objects(hotel_train)"
   ]
  },
  {
   "cell_type": "markdown",
   "metadata": {},
   "source": [
    "Также устраним ошибку с типами питания."
   ]
  },
  {
   "cell_type": "code",
   "execution_count": 14,
   "metadata": {},
   "outputs": [
    {
     "data": {
      "text/plain": [
       "BB    51697\n",
       "HB     7292\n",
       "SC     5789\n",
       "FB      451\n",
       "Name: meal, dtype: int64"
      ]
     },
     "execution_count": 14,
     "metadata": {},
     "output_type": "execute_result"
    }
   ],
   "source": [
    "# hotel_train['meal'][hotel_train['meal'].str.contains(\"SC\")] = \"SC\"\n",
    "hotel_train['meal'] = hotel_train['meal'].str.strip()\n",
    "hotel_train['meal'].value_counts()"
   ]
  },
  {
   "cell_type": "markdown",
   "metadata": {},
   "source": [
    "В некоторых количественных переменных наблюдаются аномально большие значения, построим для них графики."
   ]
  },
  {
   "cell_type": "code",
   "execution_count": 15,
   "metadata": {},
   "outputs": [
    {
     "data": {
      "text/plain": [
       "array([[<AxesSubplot:title={'center':'adults'}>,\n",
       "        <AxesSubplot:title={'center':'children'}>,\n",
       "        <AxesSubplot:title={'center':'babies'}>],\n",
       "       [<AxesSubplot:title={'center':'required_car_parking_spaces'}>,\n",
       "        <AxesSubplot:title={'center':'days_in_waiting_list'}>,\n",
       "        <AxesSubplot:title={'center':'total_of_special_requests'}>],\n",
       "       [<AxesSubplot:title={'center':'previous_bookings_not_canceled'}>,\n",
       "        <AxesSubplot:title={'center':'total_nights'}>,\n",
       "        <AxesSubplot:title={'center':'booking_changes'}>]], dtype=object)"
      ]
     },
     "execution_count": 15,
     "metadata": {},
     "output_type": "execute_result"
    },
    {
     "data": {
      "image/png": "[encoded data removed]",
      "text/plain": [
       "<Figure size 1080x720 with 9 Axes>"
      ]
     },
     "metadata": {
      "needs_background": "light"
     },
     "output_type": "display_data"
    }
   ],
   "source": [
    "hotel_train[\n",
    "    ['adults', 'children', 'babies', 'required_car_parking_spaces', 'days_in_waiting_list', \n",
    "     'total_of_special_requests', 'previous_bookings_not_canceled', 'total_nights', 'booking_changes']\n",
    "].hist(figsize=(15, 10))"
   ]
  },
  {
   "cell_type": "markdown",
   "metadata": {},
   "source": [
    "<div class=\"alert alert-success\">\n",
    "<h2> Комментарий ревьюера <a class=\"tocSkip\"> </h2>\n",
    "\n",
    "<b>Все отлично!👍:</b> \n",
    "    \n",
    "Молодец, что исследуешь оба датафрейма."
   ]
  },
  {
   "cell_type": "markdown",
   "metadata": {},
   "source": [
    "<div class=\"alert alert-block alert-danger\">\n",
    "<h2> Комментарий ревьюера <a class=\"tocSkip\"></h2>\n",
    "\n",
    "    \n",
    "<b>На доработку🤔:</b>\n",
    "    \n",
    "Стоит построить несколько графиков для переменных.\n",
    "    \n",
    "Также стоит проверить данные на аномальные значения.\n",
    "    \n",
    "<div class=\"alert alert-info\", padding: 15px>\n",
    "<strong>Комментарий студента:</strong>\n",
    "    Графики по каждому датасету добавил, в выводе к параграфу отражены наблюдения и методики борьбы с аномальными значениями.\n",
    "</div>\n",
    "    "
   ]
  },
  {
   "cell_type": "markdown",
   "metadata": {},
   "source": [
    "<div class=\"alert alert-warning\">\n",
    "    <h2> Комментарий ревьюера №2<a class=\"tocSkip\"> </h2>\n",
    "    \n",
    "<b>Некоторые замечания и рекомендации💡:</b> \n",
    "        \n",
    "        \n",
    "Для визуализации распределений данных по категориям больше подходят графики столбчатых диаграмм\n",
    "        \n",
    "https://matplotlib.org/stable/api/_as_gen/matplotlib.pyplot.bar.html"
   ]
  },
  {
   "cell_type": "markdown",
   "metadata": {},
   "source": [
    "<div class=\"alert alert-warning\">\n",
    "    <h2> Комментарий ревьюера <a class=\"tocSkip\"> </h2>\n",
    "    \n",
    "<b>Некоторые замечания и рекомендации💡:</b> \n",
    "        \n",
    "Можно провести EDA c точки зрения вероятности отмены брони."
   ]
  },
  {
   "cell_type": "markdown",
   "metadata": {},
   "source": [
    "#### Масштабирование и кодирование данных"
   ]
  },
  {
   "cell_type": "markdown",
   "metadata": {},
   "source": [
    "Для разработки ML-модели потребуется преобразовать категориальные значения к количественным, после чего провести нормализацию данных.\n",
    "Для кодирования категорий используем технику OrdinalEncoding. Для нормализации данных используем StandardScaler."
   ]
  },
  {
   "cell_type": "markdown",
   "metadata": {},
   "source": [
    "Также упразним колонку id, т.к. это идентификатор - сделаем его идентификатором датафрейма. Данная колонка только помешает обучению моделей, т.к. не несет никакой информации."
   ]
  },
  {
   "cell_type": "code",
   "execution_count": 16,
   "metadata": {},
   "outputs": [],
   "source": [
    "target_train = hotel_train['is_canceled']\n",
    "features_train = hotel_train.drop(['is_canceled'], axis=1)"
   ]
  },
  {
   "cell_type": "code",
   "execution_count": 17,
   "metadata": {},
   "outputs": [],
   "source": [
    "target_test = hotel_test['is_canceled']\n",
    "features_test = hotel_test.drop(['is_canceled'], axis=1)"
   ]
  },
  {
   "cell_type": "code",
   "execution_count": 18,
   "metadata": {},
   "outputs": [],
   "source": [
    "categorical_columns = list(filter(lambda column: is_string_dtype(features_train[column]), features_train.columns))\n",
    "numeric_columns = list(filter(lambda column: not is_string_dtype(features_train[column]), features_train.columns))"
   ]
  },
  {
   "cell_type": "code",
   "execution_count": 19,
   "metadata": {},
   "outputs": [
    {
     "data": {
      "text/html": [
       "<style>#sk-container-id-1 {color: black;}#sk-container-id-1 pre{padding: 0;}#sk-container-id-1 div.sk-toggleable {background-color: white;}#sk-container-id-1 label.sk-toggleable__label {cursor: pointer;display: block;width: 100%;margin-bottom: 0;padding: 0.3em;box-sizing: border-box;text-align: center;}#sk-container-id-1 label.sk-toggleable__label-arrow:before {content: \"▸\";float: left;margin-right: 0.25em;color: #696969;}#sk-container-id-1 label.sk-toggleable__label-arrow:hover:before {color: black;}#sk-container-id-1 div.sk-estimator:hover label.sk-toggleable__label-arrow:before {color: black;}#sk-container-id-1 div.sk-toggleable__content {max-height: 0;max-width: 0;overflow: hidden;text-align: left;background-color: #f0f8ff;}#sk-container-id-1 div.sk-toggleable__content pre {margin: 0.2em;color: black;border-radius: 0.25em;background-color: #f0f8ff;}#sk-container-id-1 input.sk-toggleable__control:checked~div.sk-toggleable__content {max-height: 200px;max-width: 100%;overflow: auto;}#sk-container-id-1 input.sk-toggleable__control:checked~label.sk-toggleable__label-arrow:before {content: \"▾\";}#sk-container-id-1 div.sk-estimator input.sk-toggleable__control:checked~label.sk-toggleable__label {background-color: #d4ebff;}#sk-container-id-1 div.sk-label input.sk-toggleable__control:checked~label.sk-toggleable__label {background-color: #d4ebff;}#sk-container-id-1 input.sk-hidden--visually {border: 0;clip: rect(1px 1px 1px 1px);clip: rect(1px, 1px, 1px, 1px);height: 1px;margin: -1px;overflow: hidden;padding: 0;position: absolute;width: 1px;}#sk-container-id-1 div.sk-estimator {font-family: monospace;background-color: #f0f8ff;border: 1px dotted black;border-radius: 0.25em;box-sizing: border-box;margin-bottom: 0.5em;}#sk-container-id-1 div.sk-estimator:hover {background-color: #d4ebff;}#sk-container-id-1 div.sk-parallel-item::after {content: \"\";width: 100%;border-bottom: 1px solid gray;flex-grow: 1;}#sk-container-id-1 div.sk-label:hover label.sk-toggleable__label {background-color: #d4ebff;}#sk-container-id-1 div.sk-serial::before {content: \"\";position: absolute;border-left: 1px solid gray;box-sizing: border-box;top: 0;bottom: 0;left: 50%;z-index: 0;}#sk-container-id-1 div.sk-serial {display: flex;flex-direction: column;align-items: center;background-color: white;padding-right: 0.2em;padding-left: 0.2em;position: relative;}#sk-container-id-1 div.sk-item {position: relative;z-index: 1;}#sk-container-id-1 div.sk-parallel {display: flex;align-items: stretch;justify-content: center;background-color: white;position: relative;}#sk-container-id-1 div.sk-item::before, #sk-container-id-1 div.sk-parallel-item::before {content: \"\";position: absolute;border-left: 1px solid gray;box-sizing: border-box;top: 0;bottom: 0;left: 50%;z-index: -1;}#sk-container-id-1 div.sk-parallel-item {display: flex;flex-direction: column;z-index: 1;position: relative;background-color: white;}#sk-container-id-1 div.sk-parallel-item:first-child::after {align-self: flex-end;width: 50%;}#sk-container-id-1 div.sk-parallel-item:last-child::after {align-self: flex-start;width: 50%;}#sk-container-id-1 div.sk-parallel-item:only-child::after {width: 0;}#sk-container-id-1 div.sk-dashed-wrapped {border: 1px dashed gray;margin: 0 0.4em 0.5em 0.4em;box-sizing: border-box;padding-bottom: 0.4em;background-color: white;}#sk-container-id-1 div.sk-label label {font-family: monospace;font-weight: bold;display: inline-block;line-height: 1.2em;}#sk-container-id-1 div.sk-label-container {text-align: center;}#sk-container-id-1 div.sk-container {/* jupyter's `normalize.less` sets `[hidden] { display: none; }` but bootstrap.min.css set `[hidden] { display: none !important; }` so we also need the `!important` here to be able to override the default hidden behavior on the sphinx rendered scikit-learn.org. See: https://github.com/scikit-learn/scikit-learn/issues/21755 */display: inline-block !important;position: relative;}#sk-container-id-1 div.sk-text-repr-fallback {display: none;}</style><div id=\"sk-container-id-1\" class=\"sk-top-container\"><div class=\"sk-text-repr-fallback\"><pre>OneHotEncoder(drop=&#x27;first&#x27;, handle_unknown=&#x27;infrequent_if_exist&#x27;)</pre><b>In a Jupyter environment, please rerun this cell to show the HTML representation or trust the notebook. <br />On GitHub, the HTML representation is unable to render, please try loading this page with nbviewer.org.</b></div><div class=\"sk-container\" hidden><div class=\"sk-item\"><div class=\"sk-estimator sk-toggleable\"><input class=\"sk-toggleable__control sk-hidden--visually\" id=\"sk-estimator-id-1\" type=\"checkbox\" checked><label for=\"sk-estimator-id-1\" class=\"sk-toggleable__label sk-toggleable__label-arrow\">OneHotEncoder</label><div class=\"sk-toggleable__content\"><pre>OneHotEncoder(drop=&#x27;first&#x27;, handle_unknown=&#x27;infrequent_if_exist&#x27;)</pre></div></div></div></div></div>"
      ],
      "text/plain": [
       "OneHotEncoder(drop='first', handle_unknown='infrequent_if_exist')"
      ]
     },
     "execution_count": 19,
     "metadata": {},
     "output_type": "execute_result"
    }
   ],
   "source": [
    "ohe_encoder = OneHotEncoder(drop='first', handle_unknown='infrequent_if_exist')\n",
    "ohe_encoder.fit(features_train[categorical_columns])"
   ]
  },
  {
   "cell_type": "code",
   "execution_count": 20,
   "metadata": {},
   "outputs": [],
   "source": [
    "features_train_encoded = pd.DataFrame(\n",
    "    ohe_encoder.transform(features_train[categorical_columns]).toarray(),\n",
    "    columns=ohe_encoder.get_feature_names_out(categorical_columns),\n",
    ")\n",
    "features_train = pd.concat((features_train[numeric_columns], features_train_encoded), axis=1)"
   ]
  },
  {
   "cell_type": "code",
   "execution_count": 21,
   "metadata": {},
   "outputs": [
    {
     "name": "stderr",
     "output_type": "stream",
     "text": [
      "/opt/conda/lib/python3.9/site-packages/sklearn/preprocessing/_encoders.py:227: UserWarning: Found unknown categories in columns [2] during transform. These unknown categories will be encoded as all zeros\n",
      "  warnings.warn(\n"
     ]
    }
   ],
   "source": [
    "features_test_encoded = pd.DataFrame(\n",
    "    ohe_encoder.transform(features_test[categorical_columns]).toarray(),\n",
    "    columns=ohe_encoder.get_feature_names_out(categorical_columns)\n",
    ")\n",
    "features_test = pd.concat(\n",
    "    (features_test[numeric_columns], features_test_encoded),\n",
    "    axis=1\n",
    ")"
   ]
  },
  {
   "cell_type": "code",
   "execution_count": 22,
   "metadata": {},
   "outputs": [
    {
     "data": {
      "text/html": [
       "<div>\n",
       "<style scoped>\n",
       "    .dataframe tbody tr th:only-of-type {\n",
       "        vertical-align: middle;\n",
       "    }\n",
       "\n",
       "    .dataframe tbody tr th {\n",
       "        vertical-align: top;\n",
       "    }\n",
       "\n",
       "    .dataframe thead th {\n",
       "        text-align: right;\n",
       "    }\n",
       "</style>\n",
       "<table border=\"1\" class=\"dataframe\">\n",
       "  <thead>\n",
       "    <tr style=\"text-align: right;\">\n",
       "      <th></th>\n",
       "      <th>id</th>\n",
       "      <th>lead_time</th>\n",
       "      <th>arrival_date_year</th>\n",
       "      <th>arrival_date_week_number</th>\n",
       "      <th>arrival_date_day_of_month</th>\n",
       "      <th>stays_in_weekend_nights</th>\n",
       "      <th>stays_in_week_nights</th>\n",
       "      <th>adults</th>\n",
       "      <th>children</th>\n",
       "      <th>babies</th>\n",
       "      <th>...</th>\n",
       "      <th>distribution_channel_TA/TO</th>\n",
       "      <th>reserved_room_type_B</th>\n",
       "      <th>reserved_room_type_C</th>\n",
       "      <th>reserved_room_type_D</th>\n",
       "      <th>reserved_room_type_E</th>\n",
       "      <th>reserved_room_type_F</th>\n",
       "      <th>reserved_room_type_G</th>\n",
       "      <th>customer_type_Group</th>\n",
       "      <th>customer_type_Transient</th>\n",
       "      <th>customer_type_Transient-Party</th>\n",
       "    </tr>\n",
       "  </thead>\n",
       "  <tbody>\n",
       "    <tr>\n",
       "      <th>0</th>\n",
       "      <td>0</td>\n",
       "      <td>7.0</td>\n",
       "      <td>2015</td>\n",
       "      <td>27</td>\n",
       "      <td>1</td>\n",
       "      <td>0</td>\n",
       "      <td>1</td>\n",
       "      <td>1.0</td>\n",
       "      <td>0.0</td>\n",
       "      <td>0.0</td>\n",
       "      <td>...</td>\n",
       "      <td>0.0</td>\n",
       "      <td>0.0</td>\n",
       "      <td>0.0</td>\n",
       "      <td>0.0</td>\n",
       "      <td>0.0</td>\n",
       "      <td>0.0</td>\n",
       "      <td>0.0</td>\n",
       "      <td>0.0</td>\n",
       "      <td>1.0</td>\n",
       "      <td>0.0</td>\n",
       "    </tr>\n",
       "    <tr>\n",
       "      <th>1</th>\n",
       "      <td>1</td>\n",
       "      <td>14.0</td>\n",
       "      <td>2015</td>\n",
       "      <td>27</td>\n",
       "      <td>1</td>\n",
       "      <td>0</td>\n",
       "      <td>2</td>\n",
       "      <td>2.0</td>\n",
       "      <td>0.0</td>\n",
       "      <td>0.0</td>\n",
       "      <td>...</td>\n",
       "      <td>1.0</td>\n",
       "      <td>0.0</td>\n",
       "      <td>0.0</td>\n",
       "      <td>0.0</td>\n",
       "      <td>0.0</td>\n",
       "      <td>0.0</td>\n",
       "      <td>0.0</td>\n",
       "      <td>0.0</td>\n",
       "      <td>1.0</td>\n",
       "      <td>0.0</td>\n",
       "    </tr>\n",
       "    <tr>\n",
       "      <th>2</th>\n",
       "      <td>2</td>\n",
       "      <td>0.0</td>\n",
       "      <td>2015</td>\n",
       "      <td>27</td>\n",
       "      <td>1</td>\n",
       "      <td>0</td>\n",
       "      <td>2</td>\n",
       "      <td>2.0</td>\n",
       "      <td>0.0</td>\n",
       "      <td>0.0</td>\n",
       "      <td>...</td>\n",
       "      <td>0.0</td>\n",
       "      <td>0.0</td>\n",
       "      <td>1.0</td>\n",
       "      <td>0.0</td>\n",
       "      <td>0.0</td>\n",
       "      <td>0.0</td>\n",
       "      <td>0.0</td>\n",
       "      <td>0.0</td>\n",
       "      <td>1.0</td>\n",
       "      <td>0.0</td>\n",
       "    </tr>\n",
       "    <tr>\n",
       "      <th>3</th>\n",
       "      <td>3</td>\n",
       "      <td>9.0</td>\n",
       "      <td>2015</td>\n",
       "      <td>27</td>\n",
       "      <td>1</td>\n",
       "      <td>0</td>\n",
       "      <td>2</td>\n",
       "      <td>2.0</td>\n",
       "      <td>0.0</td>\n",
       "      <td>0.0</td>\n",
       "      <td>...</td>\n",
       "      <td>0.0</td>\n",
       "      <td>0.0</td>\n",
       "      <td>1.0</td>\n",
       "      <td>0.0</td>\n",
       "      <td>0.0</td>\n",
       "      <td>0.0</td>\n",
       "      <td>0.0</td>\n",
       "      <td>0.0</td>\n",
       "      <td>1.0</td>\n",
       "      <td>0.0</td>\n",
       "    </tr>\n",
       "    <tr>\n",
       "      <th>4</th>\n",
       "      <td>4</td>\n",
       "      <td>85.0</td>\n",
       "      <td>2015</td>\n",
       "      <td>27</td>\n",
       "      <td>1</td>\n",
       "      <td>0</td>\n",
       "      <td>3</td>\n",
       "      <td>2.0</td>\n",
       "      <td>0.0</td>\n",
       "      <td>0.0</td>\n",
       "      <td>...</td>\n",
       "      <td>1.0</td>\n",
       "      <td>0.0</td>\n",
       "      <td>0.0</td>\n",
       "      <td>0.0</td>\n",
       "      <td>0.0</td>\n",
       "      <td>0.0</td>\n",
       "      <td>0.0</td>\n",
       "      <td>0.0</td>\n",
       "      <td>1.0</td>\n",
       "      <td>0.0</td>\n",
       "    </tr>\n",
       "  </tbody>\n",
       "</table>\n",
       "<p>5 rows × 198 columns</p>\n",
       "</div>"
      ],
      "text/plain": [
       "   id  lead_time  arrival_date_year  arrival_date_week_number  \\\n",
       "0   0        7.0               2015                        27   \n",
       "1   1       14.0               2015                        27   \n",
       "2   2        0.0               2015                        27   \n",
       "3   3        9.0               2015                        27   \n",
       "4   4       85.0               2015                        27   \n",
       "\n",
       "   arrival_date_day_of_month  stays_in_weekend_nights  stays_in_week_nights  \\\n",
       "0                          1                        0                     1   \n",
       "1                          1                        0                     2   \n",
       "2                          1                        0                     2   \n",
       "3                          1                        0                     2   \n",
       "4                          1                        0                     3   \n",
       "\n",
       "   adults  children  babies  ...  distribution_channel_TA/TO  \\\n",
       "0     1.0       0.0     0.0  ...                         0.0   \n",
       "1     2.0       0.0     0.0  ...                         1.0   \n",
       "2     2.0       0.0     0.0  ...                         0.0   \n",
       "3     2.0       0.0     0.0  ...                         0.0   \n",
       "4     2.0       0.0     0.0  ...                         1.0   \n",
       "\n",
       "   reserved_room_type_B                 reserved_room_type_C                 \\\n",
       "0                                  0.0                                  0.0   \n",
       "1                                  0.0                                  0.0   \n",
       "2                                  0.0                                  1.0   \n",
       "3                                  0.0                                  1.0   \n",
       "4                                  0.0                                  0.0   \n",
       "\n",
       "   reserved_room_type_D                 reserved_room_type_E                 \\\n",
       "0                                  0.0                                  0.0   \n",
       "1                                  0.0                                  0.0   \n",
       "2                                  0.0                                  0.0   \n",
       "3                                  0.0                                  0.0   \n",
       "4                                  0.0                                  0.0   \n",
       "\n",
       "   reserved_room_type_F                 reserved_room_type_G                 \\\n",
       "0                                  0.0                                  0.0   \n",
       "1                                  0.0                                  0.0   \n",
       "2                                  0.0                                  0.0   \n",
       "3                                  0.0                                  0.0   \n",
       "4                                  0.0                                  0.0   \n",
       "\n",
       "   customer_type_Group  customer_type_Transient  customer_type_Transient-Party  \n",
       "0                  0.0                      1.0                            0.0  \n",
       "1                  0.0                      1.0                            0.0  \n",
       "2                  0.0                      1.0                            0.0  \n",
       "3                  0.0                      1.0                            0.0  \n",
       "4                  0.0                      1.0                            0.0  \n",
       "\n",
       "[5 rows x 198 columns]"
      ]
     },
     "execution_count": 22,
     "metadata": {},
     "output_type": "execute_result"
    }
   ],
   "source": [
    "features_train.head()"
   ]
  },
  {
   "cell_type": "code",
   "execution_count": 23,
   "metadata": {},
   "outputs": [],
   "source": [
    "target_test.index = features_test['id']\n",
    "features_test.index = features_test['id']\n",
    "features_test.drop(['id'], axis=1, inplace=True)"
   ]
  },
  {
   "cell_type": "code",
   "execution_count": 24,
   "metadata": {},
   "outputs": [],
   "source": [
    "target_train.index = features_train['id']\n",
    "features_train.index = features_train['id']\n",
    "features_train.drop(['id'], axis=1, inplace=True)"
   ]
  },
  {
   "cell_type": "markdown",
   "metadata": {},
   "source": [
    "<div class=\"alert alert-block alert-danger\">\n",
    "<h2> Комментарий ревьюера <a class=\"tocSkip\"></h2>\n",
    "\n",
    "    \n",
    "<b>На доработку🤔:</b>\n",
    "    \n",
    "    \n",
    "Ты молодец, алгоритм правильный. \n",
    "    \n",
    "Только обрати, пожалуйста, внимание, что в кодер также попадают и кодируются чилсенные признаки. Из-за этого теряются исходные свойства их распределения. Стоит это поправить и проследить, чтобы в кодер попадали только категориальные признаки.\n",
    "    \n",
    "<div class=\"alert alert-info\", padding: 15px>\n",
    "<strong>Комментарий студента:</strong>\n",
    "  Было трудно, но поправил.\n",
    "</div>"
   ]
  },
  {
   "cell_type": "markdown",
   "metadata": {},
   "source": [
    "<div class=\"alert alert-success\">\n",
    "<h2> Комментарий ревьюера №2<a class=\"tocSkip\"> </h2>\n",
    "\n",
    "<b>Все отлично!👍:</b> \n",
    "    \n",
    "Ты молодец!"
   ]
  },
  {
   "cell_type": "code",
   "execution_count": 25,
   "metadata": {},
   "outputs": [
    {
     "data": {
      "text/html": [
       "<div>\n",
       "<style scoped>\n",
       "    .dataframe tbody tr th:only-of-type {\n",
       "        vertical-align: middle;\n",
       "    }\n",
       "\n",
       "    .dataframe tbody tr th {\n",
       "        vertical-align: top;\n",
       "    }\n",
       "\n",
       "    .dataframe thead th {\n",
       "        text-align: right;\n",
       "    }\n",
       "</style>\n",
       "<table border=\"1\" class=\"dataframe\">\n",
       "  <thead>\n",
       "    <tr style=\"text-align: right;\">\n",
       "      <th></th>\n",
       "      <th>lead_time</th>\n",
       "      <th>arrival_date_year</th>\n",
       "      <th>arrival_date_week_number</th>\n",
       "      <th>arrival_date_day_of_month</th>\n",
       "      <th>stays_in_weekend_nights</th>\n",
       "      <th>stays_in_week_nights</th>\n",
       "      <th>adults</th>\n",
       "      <th>children</th>\n",
       "      <th>babies</th>\n",
       "      <th>is_repeated_guest</th>\n",
       "      <th>...</th>\n",
       "      <th>distribution_channel_TA/TO</th>\n",
       "      <th>reserved_room_type_B</th>\n",
       "      <th>reserved_room_type_C</th>\n",
       "      <th>reserved_room_type_D</th>\n",
       "      <th>reserved_room_type_E</th>\n",
       "      <th>reserved_room_type_F</th>\n",
       "      <th>reserved_room_type_G</th>\n",
       "      <th>customer_type_Group</th>\n",
       "      <th>customer_type_Transient</th>\n",
       "      <th>customer_type_Transient-Party</th>\n",
       "    </tr>\n",
       "    <tr>\n",
       "      <th>id</th>\n",
       "      <th></th>\n",
       "      <th></th>\n",
       "      <th></th>\n",
       "      <th></th>\n",
       "      <th></th>\n",
       "      <th></th>\n",
       "      <th></th>\n",
       "      <th></th>\n",
       "      <th></th>\n",
       "      <th></th>\n",
       "      <th></th>\n",
       "      <th></th>\n",
       "      <th></th>\n",
       "      <th></th>\n",
       "      <th></th>\n",
       "      <th></th>\n",
       "      <th></th>\n",
       "      <th></th>\n",
       "      <th></th>\n",
       "      <th></th>\n",
       "      <th></th>\n",
       "    </tr>\n",
       "  </thead>\n",
       "  <tbody>\n",
       "    <tr>\n",
       "      <th>0</th>\n",
       "      <td>-0.929376</td>\n",
       "      <td>-1.599681</td>\n",
       "      <td>-0.322326</td>\n",
       "      <td>-1.697258</td>\n",
       "      <td>-0.966858</td>\n",
       "      <td>-0.903918</td>\n",
       "      <td>-1.741989</td>\n",
       "      <td>-0.224060</td>\n",
       "      <td>-0.073248</td>\n",
       "      <td>-0.167058</td>\n",
       "      <td>...</td>\n",
       "      <td>-2.248051</td>\n",
       "      <td>-0.115587</td>\n",
       "      <td>-0.059225</td>\n",
       "      <td>-0.409999</td>\n",
       "      <td>-0.197466</td>\n",
       "      <td>-0.137653</td>\n",
       "      <td>-0.095702</td>\n",
       "      <td>-0.066478</td>\n",
       "      <td>0.658654</td>\n",
       "      <td>-0.586692</td>\n",
       "    </tr>\n",
       "    <tr>\n",
       "      <th>1</th>\n",
       "      <td>-0.856555</td>\n",
       "      <td>-1.599681</td>\n",
       "      <td>-0.322326</td>\n",
       "      <td>-1.697258</td>\n",
       "      <td>-0.966858</td>\n",
       "      <td>-0.165901</td>\n",
       "      <td>0.340296</td>\n",
       "      <td>-0.224060</td>\n",
       "      <td>-0.073248</td>\n",
       "      <td>-0.167058</td>\n",
       "      <td>...</td>\n",
       "      <td>0.444830</td>\n",
       "      <td>-0.115587</td>\n",
       "      <td>-0.059225</td>\n",
       "      <td>-0.409999</td>\n",
       "      <td>-0.197466</td>\n",
       "      <td>-0.137653</td>\n",
       "      <td>-0.095702</td>\n",
       "      <td>-0.066478</td>\n",
       "      <td>0.658654</td>\n",
       "      <td>-0.586692</td>\n",
       "    </tr>\n",
       "    <tr>\n",
       "      <th>2</th>\n",
       "      <td>-1.002196</td>\n",
       "      <td>-1.599681</td>\n",
       "      <td>-0.322326</td>\n",
       "      <td>-1.697258</td>\n",
       "      <td>-0.966858</td>\n",
       "      <td>-0.165901</td>\n",
       "      <td>0.340296</td>\n",
       "      <td>-0.224060</td>\n",
       "      <td>-0.073248</td>\n",
       "      <td>-0.167058</td>\n",
       "      <td>...</td>\n",
       "      <td>-2.248051</td>\n",
       "      <td>-0.115587</td>\n",
       "      <td>16.884671</td>\n",
       "      <td>-0.409999</td>\n",
       "      <td>-0.197466</td>\n",
       "      <td>-0.137653</td>\n",
       "      <td>-0.095702</td>\n",
       "      <td>-0.066478</td>\n",
       "      <td>0.658654</td>\n",
       "      <td>-0.586692</td>\n",
       "    </tr>\n",
       "    <tr>\n",
       "      <th>3</th>\n",
       "      <td>-0.908570</td>\n",
       "      <td>-1.599681</td>\n",
       "      <td>-0.322326</td>\n",
       "      <td>-1.697258</td>\n",
       "      <td>-0.966858</td>\n",
       "      <td>-0.165901</td>\n",
       "      <td>0.340296</td>\n",
       "      <td>-0.224060</td>\n",
       "      <td>-0.073248</td>\n",
       "      <td>-0.167058</td>\n",
       "      <td>...</td>\n",
       "      <td>-2.248051</td>\n",
       "      <td>-0.115587</td>\n",
       "      <td>16.884671</td>\n",
       "      <td>-0.409999</td>\n",
       "      <td>-0.197466</td>\n",
       "      <td>-0.137653</td>\n",
       "      <td>-0.095702</td>\n",
       "      <td>-0.066478</td>\n",
       "      <td>0.658654</td>\n",
       "      <td>-0.586692</td>\n",
       "    </tr>\n",
       "    <tr>\n",
       "      <th>4</th>\n",
       "      <td>-0.117948</td>\n",
       "      <td>-1.599681</td>\n",
       "      <td>-0.322326</td>\n",
       "      <td>-1.697258</td>\n",
       "      <td>-0.966858</td>\n",
       "      <td>0.572116</td>\n",
       "      <td>0.340296</td>\n",
       "      <td>-0.224060</td>\n",
       "      <td>-0.073248</td>\n",
       "      <td>-0.167058</td>\n",
       "      <td>...</td>\n",
       "      <td>0.444830</td>\n",
       "      <td>-0.115587</td>\n",
       "      <td>-0.059225</td>\n",
       "      <td>-0.409999</td>\n",
       "      <td>-0.197466</td>\n",
       "      <td>-0.137653</td>\n",
       "      <td>-0.095702</td>\n",
       "      <td>-0.066478</td>\n",
       "      <td>0.658654</td>\n",
       "      <td>-0.586692</td>\n",
       "    </tr>\n",
       "    <tr>\n",
       "      <th>5</th>\n",
       "      <td>-0.221977</td>\n",
       "      <td>-1.599681</td>\n",
       "      <td>-0.322326</td>\n",
       "      <td>-1.697258</td>\n",
       "      <td>-0.966858</td>\n",
       "      <td>0.572116</td>\n",
       "      <td>0.340296</td>\n",
       "      <td>-0.224060</td>\n",
       "      <td>-0.073248</td>\n",
       "      <td>-0.167058</td>\n",
       "      <td>...</td>\n",
       "      <td>0.444830</td>\n",
       "      <td>-0.115587</td>\n",
       "      <td>-0.059225</td>\n",
       "      <td>2.439030</td>\n",
       "      <td>-0.197466</td>\n",
       "      <td>-0.137653</td>\n",
       "      <td>-0.095702</td>\n",
       "      <td>-0.066478</td>\n",
       "      <td>0.658654</td>\n",
       "      <td>-0.586692</td>\n",
       "    </tr>\n",
       "    <tr>\n",
       "      <th>6</th>\n",
       "      <td>-0.762929</td>\n",
       "      <td>-1.599681</td>\n",
       "      <td>-0.322326</td>\n",
       "      <td>-1.697258</td>\n",
       "      <td>-0.966858</td>\n",
       "      <td>1.310134</td>\n",
       "      <td>0.340296</td>\n",
       "      <td>-0.224060</td>\n",
       "      <td>-0.073248</td>\n",
       "      <td>-0.167058</td>\n",
       "      <td>...</td>\n",
       "      <td>0.444830</td>\n",
       "      <td>-0.115587</td>\n",
       "      <td>-0.059225</td>\n",
       "      <td>-0.409999</td>\n",
       "      <td>5.064172</td>\n",
       "      <td>-0.137653</td>\n",
       "      <td>-0.095702</td>\n",
       "      <td>-0.066478</td>\n",
       "      <td>0.658654</td>\n",
       "      <td>-0.586692</td>\n",
       "    </tr>\n",
       "    <tr>\n",
       "      <th>7</th>\n",
       "      <td>-0.814943</td>\n",
       "      <td>-1.599681</td>\n",
       "      <td>-0.322326</td>\n",
       "      <td>-1.697258</td>\n",
       "      <td>-0.966858</td>\n",
       "      <td>1.310134</td>\n",
       "      <td>0.340296</td>\n",
       "      <td>2.767799</td>\n",
       "      <td>-0.073248</td>\n",
       "      <td>-0.167058</td>\n",
       "      <td>...</td>\n",
       "      <td>0.444830</td>\n",
       "      <td>-0.115587</td>\n",
       "      <td>-0.059225</td>\n",
       "      <td>-0.409999</td>\n",
       "      <td>-0.197466</td>\n",
       "      <td>-0.137653</td>\n",
       "      <td>10.449121</td>\n",
       "      <td>-0.066478</td>\n",
       "      <td>0.658654</td>\n",
       "      <td>-0.586692</td>\n",
       "    </tr>\n",
       "    <tr>\n",
       "      <th>8</th>\n",
       "      <td>-0.294797</td>\n",
       "      <td>-1.599681</td>\n",
       "      <td>-0.322326</td>\n",
       "      <td>-1.697258</td>\n",
       "      <td>-0.966858</td>\n",
       "      <td>1.310134</td>\n",
       "      <td>0.340296</td>\n",
       "      <td>-0.224060</td>\n",
       "      <td>-0.073248</td>\n",
       "      <td>-0.167058</td>\n",
       "      <td>...</td>\n",
       "      <td>0.444830</td>\n",
       "      <td>-0.115587</td>\n",
       "      <td>-0.059225</td>\n",
       "      <td>2.439030</td>\n",
       "      <td>-0.197466</td>\n",
       "      <td>-0.137653</td>\n",
       "      <td>-0.095702</td>\n",
       "      <td>-0.066478</td>\n",
       "      <td>0.658654</td>\n",
       "      <td>-0.586692</td>\n",
       "    </tr>\n",
       "    <tr>\n",
       "      <th>9</th>\n",
       "      <td>-0.617288</td>\n",
       "      <td>-1.599681</td>\n",
       "      <td>-0.322326</td>\n",
       "      <td>-1.697258</td>\n",
       "      <td>-0.966858</td>\n",
       "      <td>1.310134</td>\n",
       "      <td>0.340296</td>\n",
       "      <td>-0.224060</td>\n",
       "      <td>-0.073248</td>\n",
       "      <td>-0.167058</td>\n",
       "      <td>...</td>\n",
       "      <td>0.444830</td>\n",
       "      <td>-0.115587</td>\n",
       "      <td>-0.059225</td>\n",
       "      <td>-0.409999</td>\n",
       "      <td>5.064172</td>\n",
       "      <td>-0.137653</td>\n",
       "      <td>-0.095702</td>\n",
       "      <td>-0.066478</td>\n",
       "      <td>-1.518248</td>\n",
       "      <td>-0.586692</td>\n",
       "    </tr>\n",
       "  </tbody>\n",
       "</table>\n",
       "<p>10 rows × 197 columns</p>\n",
       "</div>"
      ],
      "text/plain": [
       "    lead_time  arrival_date_year  arrival_date_week_number  \\\n",
       "id                                                           \n",
       "0   -0.929376          -1.599681                 -0.322326   \n",
       "1   -0.856555          -1.599681                 -0.322326   \n",
       "2   -1.002196          -1.599681                 -0.322326   \n",
       "3   -0.908570          -1.599681                 -0.322326   \n",
       "4   -0.117948          -1.599681                 -0.322326   \n",
       "5   -0.221977          -1.599681                 -0.322326   \n",
       "6   -0.762929          -1.599681                 -0.322326   \n",
       "7   -0.814943          -1.599681                 -0.322326   \n",
       "8   -0.294797          -1.599681                 -0.322326   \n",
       "9   -0.617288          -1.599681                 -0.322326   \n",
       "\n",
       "    arrival_date_day_of_month  stays_in_weekend_nights  stays_in_week_nights  \\\n",
       "id                                                                             \n",
       "0                   -1.697258                -0.966858             -0.903918   \n",
       "1                   -1.697258                -0.966858             -0.165901   \n",
       "2                   -1.697258                -0.966858             -0.165901   \n",
       "3                   -1.697258                -0.966858             -0.165901   \n",
       "4                   -1.697258                -0.966858              0.572116   \n",
       "5                   -1.697258                -0.966858              0.572116   \n",
       "6                   -1.697258                -0.966858              1.310134   \n",
       "7                   -1.697258                -0.966858              1.310134   \n",
       "8                   -1.697258                -0.966858              1.310134   \n",
       "9                   -1.697258                -0.966858              1.310134   \n",
       "\n",
       "      adults  children    babies  is_repeated_guest  ...  \\\n",
       "id                                                   ...   \n",
       "0  -1.741989 -0.224060 -0.073248          -0.167058  ...   \n",
       "1   0.340296 -0.224060 -0.073248          -0.167058  ...   \n",
       "2   0.340296 -0.224060 -0.073248          -0.167058  ...   \n",
       "3   0.340296 -0.224060 -0.073248          -0.167058  ...   \n",
       "4   0.340296 -0.224060 -0.073248          -0.167058  ...   \n",
       "5   0.340296 -0.224060 -0.073248          -0.167058  ...   \n",
       "6   0.340296 -0.224060 -0.073248          -0.167058  ...   \n",
       "7   0.340296  2.767799 -0.073248          -0.167058  ...   \n",
       "8   0.340296 -0.224060 -0.073248          -0.167058  ...   \n",
       "9   0.340296 -0.224060 -0.073248          -0.167058  ...   \n",
       "\n",
       "    distribution_channel_TA/TO  reserved_room_type_B                 \\\n",
       "id                                                                    \n",
       "0                    -2.248051                            -0.115587   \n",
       "1                     0.444830                            -0.115587   \n",
       "2                    -2.248051                            -0.115587   \n",
       "3                    -2.248051                            -0.115587   \n",
       "4                     0.444830                            -0.115587   \n",
       "5                     0.444830                            -0.115587   \n",
       "6                     0.444830                            -0.115587   \n",
       "7                     0.444830                            -0.115587   \n",
       "8                     0.444830                            -0.115587   \n",
       "9                     0.444830                            -0.115587   \n",
       "\n",
       "    reserved_room_type_C                 reserved_room_type_D                 \\\n",
       "id                                                                             \n",
       "0                             -0.059225                            -0.409999   \n",
       "1                             -0.059225                            -0.409999   \n",
       "2                             16.884671                            -0.409999   \n",
       "3                             16.884671                            -0.409999   \n",
       "4                             -0.059225                            -0.409999   \n",
       "5                             -0.059225                             2.439030   \n",
       "6                             -0.059225                            -0.409999   \n",
       "7                             -0.059225                            -0.409999   \n",
       "8                             -0.059225                             2.439030   \n",
       "9                             -0.059225                            -0.409999   \n",
       "\n",
       "    reserved_room_type_E                 reserved_room_type_F                 \\\n",
       "id                                                                             \n",
       "0                             -0.197466                            -0.137653   \n",
       "1                             -0.197466                            -0.137653   \n",
       "2                             -0.197466                            -0.137653   \n",
       "3                             -0.197466                            -0.137653   \n",
       "4                             -0.197466                            -0.137653   \n",
       "5                             -0.197466                            -0.137653   \n",
       "6                              5.064172                            -0.137653   \n",
       "7                             -0.197466                            -0.137653   \n",
       "8                             -0.197466                            -0.137653   \n",
       "9                              5.064172                            -0.137653   \n",
       "\n",
       "    reserved_room_type_G                 customer_type_Group  \\\n",
       "id                                                             \n",
       "0                             -0.095702            -0.066478   \n",
       "1                             -0.095702            -0.066478   \n",
       "2                             -0.095702            -0.066478   \n",
       "3                             -0.095702            -0.066478   \n",
       "4                             -0.095702            -0.066478   \n",
       "5                             -0.095702            -0.066478   \n",
       "6                             -0.095702            -0.066478   \n",
       "7                             10.449121            -0.066478   \n",
       "8                             -0.095702            -0.066478   \n",
       "9                             -0.095702            -0.066478   \n",
       "\n",
       "    customer_type_Transient  customer_type_Transient-Party  \n",
       "id                                                          \n",
       "0                  0.658654                      -0.586692  \n",
       "1                  0.658654                      -0.586692  \n",
       "2                  0.658654                      -0.586692  \n",
       "3                  0.658654                      -0.586692  \n",
       "4                  0.658654                      -0.586692  \n",
       "5                  0.658654                      -0.586692  \n",
       "6                  0.658654                      -0.586692  \n",
       "7                  0.658654                      -0.586692  \n",
       "8                  0.658654                      -0.586692  \n",
       "9                 -1.518248                      -0.586692  \n",
       "\n",
       "[10 rows x 197 columns]"
      ]
     },
     "metadata": {},
     "output_type": "display_data"
    },
    {
     "name": "stdout",
     "output_type": "stream",
     "text": [
      "<class 'pandas.core.frame.DataFrame'>\n",
      "Int64Index: 65229 entries, 0 to 84121\n",
      "Columns: 197 entries, lead_time to customer_type_Transient-Party\n",
      "dtypes: float64(197)\n",
      "memory usage: 98.5 MB\n"
     ]
    },
    {
     "data": {
      "text/plain": [
       "None"
      ]
     },
     "metadata": {},
     "output_type": "display_data"
    },
    {
     "data": {
      "text/html": [
       "<div>\n",
       "<style scoped>\n",
       "    .dataframe tbody tr th:only-of-type {\n",
       "        vertical-align: middle;\n",
       "    }\n",
       "\n",
       "    .dataframe tbody tr th {\n",
       "        vertical-align: top;\n",
       "    }\n",
       "\n",
       "    .dataframe thead th {\n",
       "        text-align: right;\n",
       "    }\n",
       "</style>\n",
       "<table border=\"1\" class=\"dataframe\">\n",
       "  <thead>\n",
       "    <tr style=\"text-align: right;\">\n",
       "      <th></th>\n",
       "      <th>count</th>\n",
       "      <th>mean</th>\n",
       "      <th>std</th>\n",
       "      <th>min</th>\n",
       "      <th>50%</th>\n",
       "      <th>max</th>\n",
       "    </tr>\n",
       "  </thead>\n",
       "  <tbody>\n",
       "    <tr>\n",
       "      <th>lead_time</th>\n",
       "      <td>65229.0</td>\n",
       "      <td>-3.311487e-17</td>\n",
       "      <td>1.000008</td>\n",
       "      <td>-1.002196</td>\n",
       "      <td>-0.336409</td>\n",
       "      <td>2.888498</td>\n",
       "    </tr>\n",
       "    <tr>\n",
       "      <th>arrival_date_year</th>\n",
       "      <td>65229.0</td>\n",
       "      <td>-1.588817e-13</td>\n",
       "      <td>1.000008</td>\n",
       "      <td>-1.599681</td>\n",
       "      <td>0.625124</td>\n",
       "      <td>0.625124</td>\n",
       "    </tr>\n",
       "    <tr>\n",
       "      <th>arrival_date_week_number</th>\n",
       "      <td>65229.0</td>\n",
       "      <td>0.000000e+00</td>\n",
       "      <td>1.000008</td>\n",
       "      <td>-2.253413</td>\n",
       "      <td>0.197582</td>\n",
       "      <td>1.608761</td>\n",
       "    </tr>\n",
       "    <tr>\n",
       "      <th>arrival_date_day_of_month</th>\n",
       "      <td>65229.0</td>\n",
       "      <td>2.091466e-17</td>\n",
       "      <td>1.000008</td>\n",
       "      <td>-1.697258</td>\n",
       "      <td>0.017397</td>\n",
       "      <td>1.732052</td>\n",
       "    </tr>\n",
       "    <tr>\n",
       "      <th>stays_in_weekend_nights</th>\n",
       "      <td>65229.0</td>\n",
       "      <td>1.067519e-17</td>\n",
       "      <td>1.000008</td>\n",
       "      <td>-0.966858</td>\n",
       "      <td>0.204828</td>\n",
       "      <td>3.719888</td>\n",
       "    </tr>\n",
       "    <tr>\n",
       "      <th>...</th>\n",
       "      <td>...</td>\n",
       "      <td>...</td>\n",
       "      <td>...</td>\n",
       "      <td>...</td>\n",
       "      <td>...</td>\n",
       "      <td>...</td>\n",
       "    </tr>\n",
       "    <tr>\n",
       "      <th>reserved_room_type_F</th>\n",
       "      <td>65229.0</td>\n",
       "      <td>-1.612171e-17</td>\n",
       "      <td>1.000008</td>\n",
       "      <td>-0.137653</td>\n",
       "      <td>-0.137653</td>\n",
       "      <td>7.264636</td>\n",
       "    </tr>\n",
       "    <tr>\n",
       "      <th>reserved_room_type_G</th>\n",
       "      <td>65229.0</td>\n",
       "      <td>-1.132877e-17</td>\n",
       "      <td>1.000008</td>\n",
       "      <td>-0.095702</td>\n",
       "      <td>-0.095702</td>\n",
       "      <td>10.449121</td>\n",
       "    </tr>\n",
       "    <tr>\n",
       "      <th>customer_type_Group</th>\n",
       "      <td>65229.0</td>\n",
       "      <td>-1.830032e-17</td>\n",
       "      <td>1.000008</td>\n",
       "      <td>-0.066478</td>\n",
       "      <td>-0.066478</td>\n",
       "      <td>15.042564</td>\n",
       "    </tr>\n",
       "    <tr>\n",
       "      <th>customer_type_Transient</th>\n",
       "      <td>65229.0</td>\n",
       "      <td>4.182931e-17</td>\n",
       "      <td>1.000008</td>\n",
       "      <td>-1.518248</td>\n",
       "      <td>0.658654</td>\n",
       "      <td>0.658654</td>\n",
       "    </tr>\n",
       "    <tr>\n",
       "      <th>customer_type_Transient-Party</th>\n",
       "      <td>65229.0</td>\n",
       "      <td>4.182931e-17</td>\n",
       "      <td>1.000008</td>\n",
       "      <td>-0.586692</td>\n",
       "      <td>-0.586692</td>\n",
       "      <td>1.704473</td>\n",
       "    </tr>\n",
       "  </tbody>\n",
       "</table>\n",
       "<p>197 rows × 6 columns</p>\n",
       "</div>"
      ],
      "text/plain": [
       "                                       count          mean       std  \\\n",
       "lead_time                            65229.0 -3.311487e-17  1.000008   \n",
       "arrival_date_year                    65229.0 -1.588817e-13  1.000008   \n",
       "arrival_date_week_number             65229.0  0.000000e+00  1.000008   \n",
       "arrival_date_day_of_month            65229.0  2.091466e-17  1.000008   \n",
       "stays_in_weekend_nights              65229.0  1.067519e-17  1.000008   \n",
       "...                                      ...           ...       ...   \n",
       "reserved_room_type_F                 65229.0 -1.612171e-17  1.000008   \n",
       "reserved_room_type_G                 65229.0 -1.132877e-17  1.000008   \n",
       "customer_type_Group                  65229.0 -1.830032e-17  1.000008   \n",
       "customer_type_Transient              65229.0  4.182931e-17  1.000008   \n",
       "customer_type_Transient-Party        65229.0  4.182931e-17  1.000008   \n",
       "\n",
       "                                          min       50%        max  \n",
       "lead_time                           -1.002196 -0.336409   2.888498  \n",
       "arrival_date_year                   -1.599681  0.625124   0.625124  \n",
       "arrival_date_week_number            -2.253413  0.197582   1.608761  \n",
       "arrival_date_day_of_month           -1.697258  0.017397   1.732052  \n",
       "stays_in_weekend_nights             -0.966858  0.204828   3.719888  \n",
       "...                                       ...       ...        ...  \n",
       "reserved_room_type_F                -0.137653 -0.137653   7.264636  \n",
       "reserved_room_type_G                -0.095702 -0.095702  10.449121  \n",
       "customer_type_Group                 -0.066478 -0.066478  15.042564  \n",
       "customer_type_Transient             -1.518248  0.658654   0.658654  \n",
       "customer_type_Transient-Party       -0.586692 -0.586692   1.704473  \n",
       "\n",
       "[197 rows x 6 columns]"
      ]
     },
     "metadata": {},
     "output_type": "display_data"
    },
    {
     "name": "stdout",
     "output_type": "stream",
     "text": [
      "Количество дублированных строк: 21606\n"
     ]
    }
   ],
   "source": [
    "scaler = StandardScaler()\n",
    "scaler.fit(features_train)\n",
    "\n",
    "features_train = pd.DataFrame(\n",
    "    scaler.transform(features_train),\n",
    "    columns=features_train.columns,\n",
    "    index=features_train.index)\n",
    "\n",
    "features_test = pd.DataFrame(\n",
    "    scaler.transform(features_test),\n",
    "    columns=features_test.columns,\n",
    "    index=features_test.index)\n",
    "\n",
    "describe_dataframe(features_train)"
   ]
  },
  {
   "cell_type": "markdown",
   "metadata": {},
   "source": [
    "#### <b>Выводы к параграфу:</b> \n",
    "    Был проведен исследовательский анализ данных, в ходе которого были устранены недочеты данных, такие как пробелы и символы табуляции в колонках и значениях датафреймов. Также были исследованы аномальные значения в колонках с количество постояльцев, временем подтверждения заказа, машино-мест и общим временем пребывания. Данные не имеют неестественных или явно ошибочных значений, 10 детей и 8 машин - это не частое, но возможное требование. Модель машинного обучения должна учитывать экстравагантные предпочтения постаяльцев, поэтому данные будут приняты в работы наряду с остальными.\n",
    "    Далее данные были кодированы и нормализованы для оптимизации параметров моделей машинного обучения."
   ]
  },
  {
   "cell_type": "markdown",
   "metadata": {},
   "source": [
    "<div class=\"alert alert-success\">\n",
    "<h2> Комментарий ревьюера <a class=\"tocSkip\"> </h2>\n",
    "\n",
    "<b>Все отлично!👍:</b> \n",
    "    \n",
    "Масштабирование проведено корректно, молодец."
   ]
  },
  {
   "cell_type": "markdown",
   "metadata": {},
   "source": [
    "### Шаг 3. Формулировка ML-задачи на основе бизнес-задачи"
   ]
  },
  {
   "cell_type": "markdown",
   "metadata": {},
   "source": [
    "Основная бизнес-метрика для любой сети отелей — её прибыль. Прибыль отеля — это разница между стоимостью номера за все ночи и затраты на обслуживание: как при подготовке номера, так и при проживании постояльца.\n",
    "В отеле есть несколько типов номеров. В зависимости от типа номера назначается стоимость за одну ночь. Есть также затраты на уборку. Если клиент снял номер надолго, то убираются каждые два дня.\n",
    "Стоимость номеров отеля:\n",
    "категория A: за ночь — 1 000, разовое обслуживание — 400;\n",
    "категория B: за ночь — 800, разовое обслуживание — 350;\n",
    "категория C: за ночь — 600, разовое обслуживание — 350;\n",
    "категория D: за ночь — 550, разовое обслуживание — 150;\n",
    "категория E: за ночь — 500, разовое обслуживание — 150;\n",
    "категория F: за ночь — 450, разовое обслуживание — 150;\n",
    "категория G: за ночь — 350, разовое обслуживание — 150.\n",
    "В ценовой политике отеля используются сезонные коэффициенты: весной и осенью цены повышаются на 20%, летом — на 40%.\n",
    "Убытки отеля в случае отмены брони номера — это стоимость одной уборки и одной ночи с учётом сезонного коэффициента.\n",
    "На разработку системы прогнозирования заложен бюджет — 400 000. При этом необходимо учесть, что внедрение модели должно окупиться за тестовый период. Затраты на разработку должны быть меньше той выручки, которую система принесёт компании."
   ]
  },
  {
   "cell_type": "markdown",
   "metadata": {},
   "source": [
    "Вычислим прибыль отеля и оцените прибыль отеля без внедрения депозитов."
   ]
  },
  {
   "cell_type": "code",
   "execution_count": 26,
   "metadata": {},
   "outputs": [],
   "source": [
    "room_service_costs = {  # reserved_room_type\n",
    "    \"A\": 400,\n",
    "    \"B\": 350,\n",
    "    \"C\": 350,\n",
    "    \"D\": 150,\n",
    "    \"E\": 150,\n",
    "    \"F\": 150,\n",
    "    \"G\": 150\n",
    "}\n",
    "season_coefficients = {  # arrival_date_month\n",
    "    \"October\": 1.2,\n",
    "    \"September\": 1.2,\n",
    "    \"August\": 1.4,\n",
    "    \"November\": 1.2,\n",
    "    \"July\": 1.4,\n",
    "    \"December\": 1,\n",
    "    \"April\": 1.2,\n",
    "    \"May\": 1.2,\n",
    "    \"June\": 1.4,\n",
    "    \"March\": 1.2,\n",
    "    \"February\": 1,\n",
    "    \"January\": 1\n",
    "}\n",
    "room_costs = {\n",
    "    \"A\": 1000,\n",
    "    \"B\": 800,\n",
    "    \"C\": 600,\n",
    "    \"D\": 550,\n",
    "    \"E\": 500,\n",
    "    \"F\": 450,\n",
    "    \"G\": 350\n",
    "}"
   ]
  },
  {
   "cell_type": "code",
   "execution_count": 27,
   "metadata": {},
   "outputs": [],
   "source": [
    "def get_profit(row):\n",
    "    service_cost = room_service_costs[row['reserved_room_type'].strip()]\n",
    "    room_cost = room_costs[row['reserved_room_type']]\n",
    "    season_coefficient = season_coefficients[row['arrival_date_month']]\n",
    "    if not row['is_canceled']:\n",
    "        revenue = row['total_nights'] * room_cost * season_coefficient\n",
    "        losses = service_cost * row['num_cleaning']\n",
    "        return revenue - losses\n",
    "    return -(service_cost + room_cost * season_coefficient)\n",
    "\n",
    "# после этого просто суммируем столбец через sum"
   ]
  },
  {
   "cell_type": "code",
   "execution_count": 28,
   "metadata": {},
   "outputs": [],
   "source": [
    "hotel_test['reserved_room_type'] = hotel_test['reserved_room_type'].str.strip()"
   ]
  },
  {
   "cell_type": "code",
   "execution_count": 29,
   "metadata": {},
   "outputs": [],
   "source": [
    "hotel_test['num_cleaning'] = hotel_test['total_nights'].apply(lambda x: ceil(x / 2))"
   ]
  },
  {
   "cell_type": "code",
   "execution_count": 30,
   "metadata": {},
   "outputs": [],
   "source": [
    "hotel_test['profit'] = hotel_test.apply(get_profit, axis=1)"
   ]
  },
  {
   "cell_type": "code",
   "execution_count": 31,
   "metadata": {},
   "outputs": [
    {
     "data": {
      "text/plain": [
       "'Прибыль компании без учета убытков от отмены бронирования: 53342330.0 у.е.'"
      ]
     },
     "execution_count": 31,
     "metadata": {},
     "output_type": "execute_result"
    }
   ],
   "source": [
    "full_revenue = hotel_test['profit'][hotel_test['profit'] > 0].sum()\n",
    "f\"Прибыль компании без учета убытков от отмены бронирования: {full_revenue} у.е.\""
   ]
  },
  {
   "cell_type": "code",
   "execution_count": 32,
   "metadata": {},
   "outputs": [
    {
     "data": {
      "text/plain": [
       "'Убыток компании от отмены бронирования: -18041560.0 у.е.'"
      ]
     },
     "execution_count": 32,
     "metadata": {},
     "output_type": "execute_result"
    }
   ],
   "source": [
    "full_losses = hotel_test['profit'][hotel_test['profit'] < 0].sum()\n",
    "f\"Убыток компании от отмены бронирования: {full_losses} у.е.\""
   ]
  },
  {
   "cell_type": "code",
   "execution_count": 33,
   "metadata": {},
   "outputs": [],
   "source": [
    "revenue_without_deposite = full_revenue + full_losses"
   ]
  },
  {
   "cell_type": "code",
   "execution_count": 34,
   "metadata": {},
   "outputs": [
    {
     "data": {
      "text/plain": [
       "'Прибыль компании без внедрения депозита: 35300770.0 у.е.'"
      ]
     },
     "execution_count": 34,
     "metadata": {},
     "output_type": "execute_result"
    }
   ],
   "source": [
    "f\"Прибыль компании без внедрения депозита: {revenue_without_deposite} у.е.\""
   ]
  },
  {
   "cell_type": "code",
   "execution_count": 35,
   "metadata": {},
   "outputs": [
    {
     "data": {
      "text/plain": [
       "'Средняя прибыль компании от одного бронирования:  1089.1 у.е.'"
      ]
     },
     "execution_count": 35,
     "metadata": {},
     "output_type": "execute_result"
    }
   ],
   "source": [
    "mean_profit = hotel_test['profit'].mean()\n",
    "f\"Средняя прибыль компании от одного бронирования: {mean_profit: .5} у.е.\""
   ]
  },
  {
   "cell_type": "markdown",
   "metadata": {},
   "source": [
    "С помощью внедрения депозитов планируется увеличить прибыль компании более чем на 400т.у.е. за 8 месяцев (представленных в тестовом датафрейме).\n",
    "Также необходимо повысить среднюю прибыль с одного бронирования."
   ]
  },
  {
   "cell_type": "markdown",
   "metadata": {},
   "source": [
    "<div class=\"alert alert-success\">\n",
    "<h2> Комментарий ревьюера <a class=\"tocSkip\"> </h2>\n",
    "\n",
    "<b>Все отлично!👍:</b> \n",
    "    \n",
    "    \n",
    "прибыль до внедрения депозитов расчитана верно."
   ]
  },
  {
   "cell_type": "markdown",
   "metadata": {},
   "source": [
    "### Шаг 4. Разработка модели ML"
   ]
  },
  {
   "cell_type": "markdown",
   "metadata": {},
   "source": [
    "Рассмотрим 4 метрики для оценки точности модели:\n",
    "- accuracy\n",
    "- precision\n",
    "- recall\n",
    "- f1score"
   ]
  },
  {
   "cell_type": "markdown",
   "metadata": {},
   "source": [
    "Полнота (recall) и точность (precision) оценивают качество прогноза положительного класса с разных позиций. Recall описывает, как хорошо модель разобралась в особенностях этого класса и распознала его. Precision выявляет, не переусердствует ли модель, присваивая положительные метки. Accuracy показывает насколько часто модель предсказывает целевую метрику.\n",
    "В данном случае важны все 3 метрики. Контролировать их параллельно помогают агрегирующие метрики, одна из которых — F1-мера (англ. F1-score), а также метрика auc_roc. Это среднее гармоническое полноты и точности. Единица в F1 означает, что соотношение полноты и точности равно 1:1.\n",
    "Выберем f1score определяющей метрикой, в дополнение к ней рассмотрим метрику roc_auc."
   ]
  },
  {
   "cell_type": "markdown",
   "metadata": {},
   "source": [
    "<div class=\"alert alert-success\">\n",
    "<h2> Комментарий ревьюера <a class=\"tocSkip\"> </h2>\n",
    "\n",
    "<b>Все отлично!👍:</b> \n",
    "   \n",
    "Отлично, что есть обоснование выбора метрики."
   ]
  },
  {
   "cell_type": "code",
   "execution_count": 36,
   "metadata": {},
   "outputs": [],
   "source": [
    "def roc_graph(tv, pv):\n",
    "    fpr, tpr, thresholds = roc_curve(tv, pv)\n",
    "    roc_auc = auc(fpr, tpr)\n",
    "    plt.title('Receiver Operating Characteristic')\n",
    "    plt.plot(fpr, tpr, 'b', label = 'AUC = %0.2f' % roc_auc)\n",
    "    plt.legend(loc = 'lower right')\n",
    "    plt.plot([0, 1], [0, 1],'r--')\n",
    "    plt.xlim([0, 1])\n",
    "    plt.ylim([0, 1])\n",
    "    plt.ylabel('True Positive Rate')\n",
    "    plt.xlabel('False Positive Rate')\n",
    "    plt.grid()\n",
    "    plt.show()"
   ]
  },
  {
   "cell_type": "markdown",
   "metadata": {},
   "source": [
    "Для начала проверим модель на адекватность."
   ]
  },
  {
   "cell_type": "code",
   "execution_count": 37,
   "metadata": {},
   "outputs": [
    {
     "data": {
      "text/plain": [
       "0.5595626958202786"
      ]
     },
     "metadata": {},
     "output_type": "display_data"
    },
    {
     "data": {
      "image/png": "[encoded data removed]",
      "text/plain": [
       "<Figure size 432x288 with 1 Axes>"
      ]
     },
     "metadata": {
      "needs_background": "light"
     },
     "output_type": "display_data"
    }
   ],
   "source": [
    "display(f1_score(target_test, pd.Series(1, index=target_test.index)))\n",
    "roc_graph(target_test, pd.Series(1, index=target_test.index))"
   ]
  },
  {
   "cell_type": "markdown",
   "metadata": {},
   "source": [
    "f1 метрика неадекватной модели высока, но график AUC-ROC лежит по диагонали."
   ]
  },
  {
   "cell_type": "markdown",
   "metadata": {},
   "source": [
    "Оценим дисбаланс классов в целевой метрике, в этом нам поможет accuracy_score:"
   ]
  },
  {
   "cell_type": "code",
   "execution_count": 38,
   "metadata": {},
   "outputs": [
    {
     "data": {
      "text/plain": [
       "0.3884672343576453"
      ]
     },
     "execution_count": 38,
     "metadata": {},
     "output_type": "execute_result"
    }
   ],
   "source": [
    "accuracy_score(target_test, pd.Series(1, index=target_test.index))"
   ]
  },
  {
   "cell_type": "markdown",
   "metadata": {},
   "source": [
    "Наблюдается явный дисбаланс классов в сторону отсутствия отмены бронирования."
   ]
  },
  {
   "cell_type": "code",
   "execution_count": 39,
   "metadata": {},
   "outputs": [
    {
     "data": {
      "text/plain": [
       "<AxesSubplot:>"
      ]
     },
     "execution_count": 39,
     "metadata": {},
     "output_type": "execute_result"
    },
    {
     "data": {
      "image/png": "[encoded data removed]",
      "text/plain": [
       "<Figure size 432x288 with 1 Axes>"
      ]
     },
     "metadata": {
      "needs_background": "light"
     },
     "output_type": "display_data"
    }
   ],
   "source": [
    "target_test.hist()"
   ]
  },
  {
   "cell_type": "markdown",
   "metadata": {},
   "source": [
    "<div class=\"alert alert-success\">\n",
    "<h2> Комментарий ревьюера <a class=\"tocSkip\"> </h2>\n",
    "\n",
    "<b>Все отлично!👍:</b> \n",
    "    \n",
    "Отлично, что есть сравнение с константной моделью."
   ]
  },
  {
   "cell_type": "markdown",
   "metadata": {},
   "source": [
    "\n",
    "<div class=\"alert alert-block alert-danger\">\n",
    "<h2> Комментарий ревьюера <a class=\"tocSkip\"></h2>\n",
    "\n",
    "    \n",
    "<b>На доработку🤔:</b>\n",
    "    \n",
    "Стоит также проверить целевую переменную на ниличие дисбаланса классов.\n",
    "    \n",
    "<div class=\"alert alert-info\", padding: 15px>\n",
    "<strong>Комментарий студента:</strong>\n",
    "    Добавил проверку дисбаланса классов, добавил график для целевого признака.\n",
    "</div>"
   ]
  },
  {
   "cell_type": "markdown",
   "metadata": {},
   "source": [
    "<div class=\"alert alert-success\">\n",
    "<h2> Комментарий ревьюера №2<a class=\"tocSkip\"> </h2>\n",
    "\n",
    "<b>Все отлично!👍</b> "
   ]
  },
  {
   "cell_type": "markdown",
   "metadata": {},
   "source": [
    "#### Борьба с дисбалансом"
   ]
  },
  {
   "cell_type": "markdown",
   "metadata": {},
   "source": [
    "Для борьбы с дисбалансом будем использовать класс SMOTE, а для апскейлинга при кросс-валидации используем **pipeline** из библиотеки imblearn."
   ]
  },
  {
   "cell_type": "markdown",
   "metadata": {},
   "source": [
    "Определим фолд для однородной разбивки данных:"
   ]
  },
  {
   "cell_type": "code",
   "execution_count": 40,
   "metadata": {},
   "outputs": [],
   "source": [
    "kf = KFold(n_splits=5, random_state=32123, shuffle=True)"
   ]
  },
  {
   "cell_type": "markdown",
   "metadata": {},
   "source": [
    "\n",
    "<div class=\"alert alert-block alert-danger\">\n",
    "<h2> Комментарий ревьюера №3<a class=\"tocSkip\"></h2>\n",
    "\n",
    "    \n",
    "<b>На доработку🤔:</b>\n",
    "    \n",
    "Посмотри, пожалуйста, сейчас код выдает ошибку.\n",
    "    \n",
    "Кроме того изменение баланса классов в первоначальных данных нужно производить только на обучающей выборке, а в случае кросс-валидации ещё и только на фолдах в состоянии обучения. Этот момент учитывает **pipeline** в своей работе.\n",
    "    \n",
    "В тестовом фолде ведь баланс классов должен соответствовать балансу на исходной выборке, чтобы была возможность оценить потенциальное смещение модели\n",
    "    \n",
    "Если используешь кросс-валидацию, то upsampling или downsampling надо вписывать в pipeline с cv. Посмотри, пожалуйста, pipeline из библиотеки imblearn, там он учитывает эту проблему.\n",
    "\n",
    "Вот здесь можно прочесть про это и посмотреть примеры.   \n",
    "    \n",
    "https://academy.yandex.ru/handbook/ml/article/kross-validaciya\n",
    "    \n",
    "https://imbalanced-learn.org/stable/common_pitfalls.html\n",
    "    \n",
    "https://datascience.xyz/practice/kak-delat-kross-validaciju-pri-apsemplinge-dannyh.html\n",
    "    \n",
    "<div class=\"alert alert-info\", padding: 15px>\n",
    "<strong>Комментарий студента:</strong>\n",
    "    Ошибку устранил. Всё переделал.\n",
    "</div>"
   ]
  },
  {
   "cell_type": "markdown",
   "metadata": {},
   "source": [
    "#### Исследование различных моделей машинного обучения"
   ]
  },
  {
   "cell_type": "markdown",
   "metadata": {},
   "source": [
    "##### Модель дерева решений"
   ]
  },
  {
   "cell_type": "markdown",
   "metadata": {},
   "source": [
    "Определим набор параметров для модели дерева решений:"
   ]
  },
  {
   "cell_type": "code",
   "execution_count": 41,
   "metadata": {},
   "outputs": [],
   "source": [
    "params = {\n",
    "    'criterion': ['gini', 'entropy'],\n",
    "    'max_depth': range(2, 18, 2),\n",
    "    'random_state': [32123]\n",
    "}"
   ]
  },
  {
   "cell_type": "markdown",
   "metadata": {},
   "source": [
    "Создадим пайплайн:"
   ]
  },
  {
   "cell_type": "code",
   "execution_count": 42,
   "metadata": {},
   "outputs": [],
   "source": [
    "dt_pipeline = make_pipeline(SMOTE(random_state=32123),\n",
    "                            DecisionTreeClassifier())"
   ]
  },
  {
   "cell_type": "markdown",
   "metadata": {},
   "source": [
    "Создадим сетку моделей:"
   ]
  },
  {
   "cell_type": "code",
   "execution_count": 43,
   "metadata": {},
   "outputs": [],
   "source": [
    "new_params = {'decisiontreeclassifier__' + key: params[key] for key in params}\n",
    "grid_dt = GridSearchCV(dt_pipeline, param_grid=new_params, cv=kf, scoring='roc_auc',\n",
    "                         return_train_score=True)"
   ]
  },
  {
   "cell_type": "markdown",
   "metadata": {},
   "source": [
    "Определим наилучшие параметры модели дерева решений:"
   ]
  },
  {
   "cell_type": "code",
   "execution_count": 44,
   "metadata": {},
   "outputs": [
    {
     "data": {
      "text/plain": [
       "{'decisiontreeclassifier__criterion': 'entropy',\n",
       " 'decisiontreeclassifier__max_depth': 12,\n",
       " 'decisiontreeclassifier__random_state': 32123}"
      ]
     },
     "execution_count": 44,
     "metadata": {},
     "output_type": "execute_result"
    }
   ],
   "source": [
    "grid_dt.fit(features_train, target_train)\n",
    "grid_dt.best_params_"
   ]
  },
  {
   "cell_type": "code",
   "execution_count": 45,
   "metadata": {},
   "outputs": [
    {
     "data": {
      "text/plain": [
       "'Средняя оценка лучшей dt модели: 0.9157977512904674, Глубина дерева: 12, Лучший критерий: entropy'"
      ]
     },
     "execution_count": 45,
     "metadata": {},
     "output_type": "execute_result"
    }
   ],
   "source": [
    "f\"Средняя оценка лучшей dt модели: {grid_dt.best_score_}, Глубина дерева: {grid_dt.best_params_['decisiontreeclassifier__max_depth']}, Лучший критерий: {grid_dt.best_params_['decisiontreeclassifier__criterion']}\""
   ]
  },
  {
   "cell_type": "markdown",
   "metadata": {},
   "source": [
    "\n",
    "<div class=\"alert alert-block alert-danger\">\n",
    "<h2> Комментарий ревьюера <a class=\"tocSkip\"></h2>\n",
    "\n",
    "    \n",
    "<b>На доработку🤔:</b>\n",
    "    \n",
    "    \n",
    "В процессе анализа качество моделей стоит проверить на кросс-валидации.\n",
    "    \n",
    "Выбрать лучшую модель, исходя из полученных результатов.\n",
    "    \n",
    "И затем только ее проверить на тестовой выборке.\n",
    "    \n",
    "Использование тестовой выборки до этапа тестирования стоит исключить.\n",
    "    \n",
    "<div class=\"alert alert-info\", padding: 15px>\n",
    "<strong>Комментарий студента:</strong>\n",
    "    Исправил исследование, тестирование и выводы.\n",
    "</div>"
   ]
  },
  {
   "cell_type": "markdown",
   "metadata": {},
   "source": [
    "<div class=\"alert alert-success\">\n",
    "<h2> Комментарий ревьюера №2<a class=\"tocSkip\"> </h2>\n",
    "\n",
    "<b>Все отлично!👍</b> "
   ]
  },
  {
   "cell_type": "markdown",
   "metadata": {},
   "source": [
    "<div class=\"alert alert-warning\">\n",
    "    <h2> Комментарий ревьюера №2<a class=\"tocSkip\"> </h2>\n",
    "    \n",
    "<b>Некоторые замечания и рекомендации💡:</b> \n",
    "        \n",
    "Для вычисления среднего результата кросс-валидации можно использовать метод mean"
   ]
  },
  {
   "cell_type": "markdown",
   "metadata": {},
   "source": [
    "##### Модель случайного леса"
   ]
  },
  {
   "cell_type": "markdown",
   "metadata": {},
   "source": [
    "Определим набор параметров для модели случайного леса:"
   ]
  },
  {
   "cell_type": "code",
   "execution_count": 46,
   "metadata": {},
   "outputs": [],
   "source": [
    "params = {'n_estimators': range(50, 250, 50),\n",
    " 'max_depth': range(4, 14, 2),\n",
    " 'random_state': [32123]}"
   ]
  },
  {
   "cell_type": "markdown",
   "metadata": {},
   "source": [
    "Создадим пайплайн:"
   ]
  },
  {
   "cell_type": "code",
   "execution_count": 47,
   "metadata": {},
   "outputs": [],
   "source": [
    "rf_pipeline = make_pipeline(SMOTE(random_state=32123),\n",
    "                            RandomForestClassifier())"
   ]
  },
  {
   "cell_type": "markdown",
   "metadata": {},
   "source": [
    "Создадим сетку моделей:"
   ]
  },
  {
   "cell_type": "code",
   "execution_count": 48,
   "metadata": {},
   "outputs": [],
   "source": [
    "rf_params = {'randomforestclassifier__' + key: params[key] for key in params}\n",
    "grid_rf = GridSearchCV(rf_pipeline, param_grid=rf_params, cv=kf, scoring='roc_auc',\n",
    "                       return_train_score=True)"
   ]
  },
  {
   "cell_type": "markdown",
   "metadata": {},
   "source": [
    "Определим наилучшие параметры модели случайного леса:"
   ]
  },
  {
   "cell_type": "code",
   "execution_count": 49,
   "metadata": {},
   "outputs": [
    {
     "data": {
      "text/plain": [
       "{'randomforestclassifier__max_depth': 12,\n",
       " 'randomforestclassifier__n_estimators': 200,\n",
       " 'randomforestclassifier__random_state': 32123}"
      ]
     },
     "execution_count": 49,
     "metadata": {},
     "output_type": "execute_result"
    }
   ],
   "source": [
    "grid_rf.fit(features_train, target_train)\n",
    "grid_rf.best_params_"
   ]
  },
  {
   "cell_type": "code",
   "execution_count": 50,
   "metadata": {},
   "outputs": [
    {
     "data": {
      "text/plain": [
       "'Средняя оценка лучшей rf модели: 0.9178589181865462, Глубина дерева: 12, Измерители: 200'"
      ]
     },
     "execution_count": 50,
     "metadata": {},
     "output_type": "execute_result"
    }
   ],
   "source": [
    "f\"Средняя оценка лучшей rf модели: {grid_rf.best_score_}, Глубина дерева: {grid_rf.best_params_['randomforestclassifier__max_depth']}, Измерители: {grid_rf.best_params_['randomforestclassifier__n_estimators']}\""
   ]
  },
  {
   "cell_type": "markdown",
   "metadata": {},
   "source": [
    "##### Модель логистической регрессии"
   ]
  },
  {
   "cell_type": "markdown",
   "metadata": {},
   "source": [
    "Определим набор параметров для модели логистической регрессии:"
   ]
  },
  {
   "cell_type": "code",
   "execution_count": 51,
   "metadata": {},
   "outputs": [],
   "source": [
    "params = {'solver': ['liblinear'],\n",
    "          'random_state': [32123]}"
   ]
  },
  {
   "cell_type": "markdown",
   "metadata": {},
   "source": [
    "Создадим пайплайн:"
   ]
  },
  {
   "cell_type": "code",
   "execution_count": 52,
   "metadata": {},
   "outputs": [],
   "source": [
    "lr_pipeline = make_pipeline(SMOTE(random_state=32123),\n",
    "                            LogisticRegression())"
   ]
  },
  {
   "cell_type": "markdown",
   "metadata": {},
   "source": [
    "Создадим сетку моделей:"
   ]
  },
  {
   "cell_type": "code",
   "execution_count": 53,
   "metadata": {},
   "outputs": [],
   "source": [
    "lr_params = {'logisticregression__' + key: params[key] for key in params}\n",
    "grid_lr = GridSearchCV(lr_pipeline, param_grid=lr_params, cv=kf, scoring='roc_auc',\n",
    "                       return_train_score=True)"
   ]
  },
  {
   "cell_type": "markdown",
   "metadata": {},
   "source": [
    "Определим наилучшие параметры модели логистической регрессии:"
   ]
  },
  {
   "cell_type": "code",
   "execution_count": 54,
   "metadata": {},
   "outputs": [
    {
     "data": {
      "text/plain": [
       "{'logisticregression__random_state': 32123,\n",
       " 'logisticregression__solver': 'liblinear'}"
      ]
     },
     "execution_count": 54,
     "metadata": {},
     "output_type": "execute_result"
    }
   ],
   "source": [
    "grid_lr.fit(features_train, target_train)\n",
    "grid_lr.best_params_"
   ]
  },
  {
   "cell_type": "code",
   "execution_count": 55,
   "metadata": {},
   "outputs": [
    {
     "data": {
      "text/plain": [
       "'Средняя оценка лучшей lr модели: 0.8773445615378282'"
      ]
     },
     "execution_count": 55,
     "metadata": {},
     "output_type": "execute_result"
    }
   ],
   "source": [
    "f\"Средняя оценка лучшей lr модели: {grid_lr.best_score_}\""
   ]
  },
  {
   "cell_type": "markdown",
   "metadata": {},
   "source": [
    "<div class=\"alert alert-block alert-danger\">\n",
    "<h2> Комментарий ревьюера <a class=\"tocSkip\"></h2>\n",
    "\n",
    "    \n",
    "<b>На доработку🤔:</b>\n",
    "    \n",
    "Как минимум для 2х моделей стоит перебрать как минимум по 2 гиперпараметра. \n",
    "<div class=\"alert alert-info\", padding: 15px>\n",
    "<strong>Комментарий студента:</strong>\n",
    "    Добавил подбор criterion для DT модели.\n",
    "</div>"
   ]
  },
  {
   "cell_type": "markdown",
   "metadata": {},
   "source": [
    "<div class=\"alert alert-success\">\n",
    "<h2> Комментарий ревьюера №2 <a class=\"tocSkip\"> </h2>\n",
    "\n",
    "<b>Все отлично!👍</b> \n",
    "    "
   ]
  },
  {
   "cell_type": "markdown",
   "metadata": {},
   "source": [
    "<div class=\"alert alert-block alert-danger\">\n",
    "<h2> Комментарий ревьюера №2<a class=\"tocSkip\"></h2>\n",
    "\n",
    "    \n",
    "<b>На доработку🤔:</b>\n",
    "    \n",
    "Так как выяснилось, что есть дисбаланс, то стоит проводить обучение (кросс-валидацию) моделей с учетом дисбаланса. То есть стоит использовать тот или иной метод борьбы с дисбалансом.\n",
    "\n",
    "<div class=\"alert alert-info\", padding: 15px>\n",
    "<strong>Комментарий студента:</strong>\n",
    "    Борьба добавлена. Исмользовал готовую функциию SMOTE. Для теста соответственно никакой дисбаланс не учитывался, только при обучнии. Качество модели заметно повысилась! Спасибо!\n",
    "</div>"
   ]
  },
  {
   "cell_type": "markdown",
   "metadata": {},
   "source": [
    "<div class=\"alert alert-success\">\n",
    "<h2> Комментарий ревьюера №3 <a class=\"tocSkip\"> </h2>\n",
    "\n",
    "<b>Все отлично!👍</b> \n",
    "    \n",
    "Спасибо за борьбу)\n",
    "    \n",
    "Да, молодец, что не меняешь изначальный баланс классов в тестовой выборке. Также еще нужно учесть, чтобы не менялся баланс классов у валидационных фолдов в процессе кросс-валидации. С этим поможет pipeline.\n",
    "    \n",
    "Выше написала подробнее."
   ]
  },
  {
   "cell_type": "markdown",
   "metadata": {},
   "source": [
    "##### Выводы: \n",
    "Наилучшими моделями, показавшими идентичный результат оказались DecisionTree и RandomForest. Обе модели показали метрику roc_auc = 0.92. Выберем для теста модель DecisionTree как самую легковесную."
   ]
  },
  {
   "cell_type": "markdown",
   "metadata": {},
   "source": [
    "#### Тестирование наилучшей модели"
   ]
  },
  {
   "cell_type": "markdown",
   "metadata": {},
   "source": [
    "##### Тестирование модели дерева решений"
   ]
  },
  {
   "cell_type": "code",
   "execution_count": 56,
   "metadata": {},
   "outputs": [],
   "source": [
    "best_dt_model = DecisionTreeClassifier(\n",
    "    random_state=32123,\n",
    "    max_depth=grid_dt.best_params_['decisiontreeclassifier__max_depth'],\n",
    "    criterion=grid_dt.best_params_['decisiontreeclassifier__criterion'],\n",
    "    splitter='best')\n",
    "best_dt_model.fit(features_train, target_train)\n",
    "best_predicted_valid = best_dt_model.predict(features_test)"
   ]
  },
  {
   "cell_type": "code",
   "execution_count": 57,
   "metadata": {},
   "outputs": [
    {
     "data": {
      "text/plain": [
       "'f1 score наилучшей модели на тестовой выборке: 0.6288420554108454'"
      ]
     },
     "metadata": {},
     "output_type": "display_data"
    }
   ],
   "source": [
    "best_dt_model_f1 = f1_score(target_test, best_predicted_valid)\n",
    "display(f\"f1 score наилучшей модели на тестовой выборке: {best_dt_model_f1}\")"
   ]
  },
  {
   "cell_type": "code",
   "execution_count": 58,
   "metadata": {},
   "outputs": [
    {
     "data": {
      "image/png": "[encoded data removed]",
      "text/plain": [
       "<Figure size 432x288 with 1 Axes>"
      ]
     },
     "metadata": {
      "needs_background": "light"
     },
     "output_type": "display_data"
    }
   ],
   "source": [
    "roc_graph(target_test, best_predicted_valid)"
   ]
  },
  {
   "cell_type": "code",
   "execution_count": 59,
   "metadata": {},
   "outputs": [
    {
     "data": {
      "text/html": [
       "<div>\n",
       "<style scoped>\n",
       "    .dataframe tbody tr th:only-of-type {\n",
       "        vertical-align: middle;\n",
       "    }\n",
       "\n",
       "    .dataframe tbody tr th {\n",
       "        vertical-align: top;\n",
       "    }\n",
       "\n",
       "    .dataframe thead th {\n",
       "        text-align: right;\n",
       "    }\n",
       "</style>\n",
       "<table border=\"1\" class=\"dataframe\">\n",
       "  <thead>\n",
       "    <tr style=\"text-align: right;\">\n",
       "      <th></th>\n",
       "      <th>id</th>\n",
       "      <th>is_canceled</th>\n",
       "      <th>lead_time</th>\n",
       "      <th>arrival_date_year</th>\n",
       "      <th>arrival_date_month</th>\n",
       "      <th>arrival_date_week_number</th>\n",
       "      <th>arrival_date_day_of_month</th>\n",
       "      <th>stays_in_weekend_nights</th>\n",
       "      <th>stays_in_week_nights</th>\n",
       "      <th>adults</th>\n",
       "      <th>...</th>\n",
       "      <th>reserved_room_type</th>\n",
       "      <th>booking_changes</th>\n",
       "      <th>days_in_waiting_list</th>\n",
       "      <th>customer_type</th>\n",
       "      <th>required_car_parking_spaces</th>\n",
       "      <th>total_of_special_requests</th>\n",
       "      <th>total_nights</th>\n",
       "      <th>num_cleaning</th>\n",
       "      <th>profit</th>\n",
       "      <th>best_dt_model_predicted_valid</th>\n",
       "    </tr>\n",
       "  </thead>\n",
       "  <tbody>\n",
       "    <tr>\n",
       "      <th>0</th>\n",
       "      <td>6086</td>\n",
       "      <td>1</td>\n",
       "      <td>74.0</td>\n",
       "      <td>2017</td>\n",
       "      <td>January</td>\n",
       "      <td>1</td>\n",
       "      <td>1</td>\n",
       "      <td>1</td>\n",
       "      <td>0</td>\n",
       "      <td>2.0</td>\n",
       "      <td>...</td>\n",
       "      <td>A</td>\n",
       "      <td>0</td>\n",
       "      <td>0</td>\n",
       "      <td>Transient</td>\n",
       "      <td>0</td>\n",
       "      <td>0</td>\n",
       "      <td>1</td>\n",
       "      <td>1</td>\n",
       "      <td>-1400.0</td>\n",
       "      <td>1</td>\n",
       "    </tr>\n",
       "    <tr>\n",
       "      <th>9</th>\n",
       "      <td>6095</td>\n",
       "      <td>1</td>\n",
       "      <td>48.0</td>\n",
       "      <td>2017</td>\n",
       "      <td>January</td>\n",
       "      <td>1</td>\n",
       "      <td>2</td>\n",
       "      <td>1</td>\n",
       "      <td>4</td>\n",
       "      <td>2.0</td>\n",
       "      <td>...</td>\n",
       "      <td>A</td>\n",
       "      <td>1</td>\n",
       "      <td>0</td>\n",
       "      <td>Transient</td>\n",
       "      <td>0</td>\n",
       "      <td>2</td>\n",
       "      <td>5</td>\n",
       "      <td>3</td>\n",
       "      <td>-1400.0</td>\n",
       "      <td>1</td>\n",
       "    </tr>\n",
       "    <tr>\n",
       "      <th>10</th>\n",
       "      <td>6096</td>\n",
       "      <td>1</td>\n",
       "      <td>31.0</td>\n",
       "      <td>2017</td>\n",
       "      <td>January</td>\n",
       "      <td>1</td>\n",
       "      <td>2</td>\n",
       "      <td>1</td>\n",
       "      <td>4</td>\n",
       "      <td>2.0</td>\n",
       "      <td>...</td>\n",
       "      <td>G</td>\n",
       "      <td>0</td>\n",
       "      <td>0</td>\n",
       "      <td>Transient</td>\n",
       "      <td>0</td>\n",
       "      <td>0</td>\n",
       "      <td>5</td>\n",
       "      <td>3</td>\n",
       "      <td>-500.0</td>\n",
       "      <td>1</td>\n",
       "    </tr>\n",
       "    <tr>\n",
       "      <th>12</th>\n",
       "      <td>6098</td>\n",
       "      <td>1</td>\n",
       "      <td>173.0</td>\n",
       "      <td>2017</td>\n",
       "      <td>January</td>\n",
       "      <td>1</td>\n",
       "      <td>2</td>\n",
       "      <td>1</td>\n",
       "      <td>5</td>\n",
       "      <td>2.0</td>\n",
       "      <td>...</td>\n",
       "      <td>G</td>\n",
       "      <td>2</td>\n",
       "      <td>0</td>\n",
       "      <td>Transient</td>\n",
       "      <td>0</td>\n",
       "      <td>1</td>\n",
       "      <td>6</td>\n",
       "      <td>3</td>\n",
       "      <td>-500.0</td>\n",
       "      <td>1</td>\n",
       "    </tr>\n",
       "    <tr>\n",
       "      <th>13</th>\n",
       "      <td>6099</td>\n",
       "      <td>1</td>\n",
       "      <td>23.0</td>\n",
       "      <td>2017</td>\n",
       "      <td>January</td>\n",
       "      <td>1</td>\n",
       "      <td>3</td>\n",
       "      <td>0</td>\n",
       "      <td>2</td>\n",
       "      <td>2.0</td>\n",
       "      <td>...</td>\n",
       "      <td>D</td>\n",
       "      <td>0</td>\n",
       "      <td>0</td>\n",
       "      <td>Transient</td>\n",
       "      <td>0</td>\n",
       "      <td>0</td>\n",
       "      <td>2</td>\n",
       "      <td>1</td>\n",
       "      <td>-700.0</td>\n",
       "      <td>1</td>\n",
       "    </tr>\n",
       "    <tr>\n",
       "      <th>...</th>\n",
       "      <td>...</td>\n",
       "      <td>...</td>\n",
       "      <td>...</td>\n",
       "      <td>...</td>\n",
       "      <td>...</td>\n",
       "      <td>...</td>\n",
       "      <td>...</td>\n",
       "      <td>...</td>\n",
       "      <td>...</td>\n",
       "      <td>...</td>\n",
       "      <td>...</td>\n",
       "      <td>...</td>\n",
       "      <td>...</td>\n",
       "      <td>...</td>\n",
       "      <td>...</td>\n",
       "      <td>...</td>\n",
       "      <td>...</td>\n",
       "      <td>...</td>\n",
       "      <td>...</td>\n",
       "      <td>...</td>\n",
       "      <td>...</td>\n",
       "    </tr>\n",
       "    <tr>\n",
       "      <th>18301</th>\n",
       "      <td>70397</td>\n",
       "      <td>1</td>\n",
       "      <td>194.0</td>\n",
       "      <td>2017</td>\n",
       "      <td>May</td>\n",
       "      <td>21</td>\n",
       "      <td>25</td>\n",
       "      <td>0</td>\n",
       "      <td>3</td>\n",
       "      <td>2.0</td>\n",
       "      <td>...</td>\n",
       "      <td>D</td>\n",
       "      <td>0</td>\n",
       "      <td>0</td>\n",
       "      <td>Transient</td>\n",
       "      <td>0</td>\n",
       "      <td>0</td>\n",
       "      <td>3</td>\n",
       "      <td>2</td>\n",
       "      <td>-810.0</td>\n",
       "      <td>1</td>\n",
       "    </tr>\n",
       "    <tr>\n",
       "      <th>22331</th>\n",
       "      <td>87823</td>\n",
       "      <td>1</td>\n",
       "      <td>16.0</td>\n",
       "      <td>2017</td>\n",
       "      <td>April</td>\n",
       "      <td>15</td>\n",
       "      <td>12</td>\n",
       "      <td>0</td>\n",
       "      <td>1</td>\n",
       "      <td>1.0</td>\n",
       "      <td>...</td>\n",
       "      <td>A</td>\n",
       "      <td>0</td>\n",
       "      <td>0</td>\n",
       "      <td>Transient</td>\n",
       "      <td>0</td>\n",
       "      <td>0</td>\n",
       "      <td>1</td>\n",
       "      <td>1</td>\n",
       "      <td>-1600.0</td>\n",
       "      <td>1</td>\n",
       "    </tr>\n",
       "    <tr>\n",
       "      <th>22347</th>\n",
       "      <td>87839</td>\n",
       "      <td>1</td>\n",
       "      <td>13.0</td>\n",
       "      <td>2017</td>\n",
       "      <td>May</td>\n",
       "      <td>22</td>\n",
       "      <td>29</td>\n",
       "      <td>1</td>\n",
       "      <td>2</td>\n",
       "      <td>1.0</td>\n",
       "      <td>...</td>\n",
       "      <td>A</td>\n",
       "      <td>0</td>\n",
       "      <td>0</td>\n",
       "      <td>Transient</td>\n",
       "      <td>0</td>\n",
       "      <td>0</td>\n",
       "      <td>3</td>\n",
       "      <td>2</td>\n",
       "      <td>-1600.0</td>\n",
       "      <td>1</td>\n",
       "    </tr>\n",
       "    <tr>\n",
       "      <th>22350</th>\n",
       "      <td>87842</td>\n",
       "      <td>1</td>\n",
       "      <td>13.0</td>\n",
       "      <td>2017</td>\n",
       "      <td>May</td>\n",
       "      <td>22</td>\n",
       "      <td>29</td>\n",
       "      <td>1</td>\n",
       "      <td>2</td>\n",
       "      <td>1.0</td>\n",
       "      <td>...</td>\n",
       "      <td>A</td>\n",
       "      <td>0</td>\n",
       "      <td>0</td>\n",
       "      <td>Transient</td>\n",
       "      <td>0</td>\n",
       "      <td>0</td>\n",
       "      <td>3</td>\n",
       "      <td>2</td>\n",
       "      <td>-1600.0</td>\n",
       "      <td>1</td>\n",
       "    </tr>\n",
       "    <tr>\n",
       "      <th>26085</th>\n",
       "      <td>91577</td>\n",
       "      <td>1</td>\n",
       "      <td>6.0</td>\n",
       "      <td>2017</td>\n",
       "      <td>July</td>\n",
       "      <td>29</td>\n",
       "      <td>17</td>\n",
       "      <td>1</td>\n",
       "      <td>0</td>\n",
       "      <td>1.0</td>\n",
       "      <td>...</td>\n",
       "      <td>A</td>\n",
       "      <td>0</td>\n",
       "      <td>0</td>\n",
       "      <td>Transient</td>\n",
       "      <td>0</td>\n",
       "      <td>0</td>\n",
       "      <td>1</td>\n",
       "      <td>1</td>\n",
       "      <td>-1800.0</td>\n",
       "      <td>1</td>\n",
       "    </tr>\n",
       "  </tbody>\n",
       "</table>\n",
       "<p>6639 rows × 28 columns</p>\n",
       "</div>"
      ],
      "text/plain": [
       "          id  is_canceled  lead_time  arrival_date_year arrival_date_month  \\\n",
       "0       6086            1       74.0               2017            January   \n",
       "9       6095            1       48.0               2017            January   \n",
       "10      6096            1       31.0               2017            January   \n",
       "12      6098            1      173.0               2017            January   \n",
       "13      6099            1       23.0               2017            January   \n",
       "...      ...          ...        ...                ...                ...   \n",
       "18301  70397            1      194.0               2017                May   \n",
       "22331  87823            1       16.0               2017              April   \n",
       "22347  87839            1       13.0               2017                May   \n",
       "22350  87842            1       13.0               2017                May   \n",
       "26085  91577            1        6.0               2017               July   \n",
       "\n",
       "       arrival_date_week_number  arrival_date_day_of_month  \\\n",
       "0                             1                          1   \n",
       "9                             1                          2   \n",
       "10                            1                          2   \n",
       "12                            1                          2   \n",
       "13                            1                          3   \n",
       "...                         ...                        ...   \n",
       "18301                        21                         25   \n",
       "22331                        15                         12   \n",
       "22347                        22                         29   \n",
       "22350                        22                         29   \n",
       "26085                        29                         17   \n",
       "\n",
       "       stays_in_weekend_nights  stays_in_week_nights  adults  ...  \\\n",
       "0                            1                     0     2.0  ...   \n",
       "9                            1                     4     2.0  ...   \n",
       "10                           1                     4     2.0  ...   \n",
       "12                           1                     5     2.0  ...   \n",
       "13                           0                     2     2.0  ...   \n",
       "...                        ...                   ...     ...  ...   \n",
       "18301                        0                     3     2.0  ...   \n",
       "22331                        0                     1     1.0  ...   \n",
       "22347                        1                     2     1.0  ...   \n",
       "22350                        1                     2     1.0  ...   \n",
       "26085                        1                     0     1.0  ...   \n",
       "\n",
       "       reserved_room_type  booking_changes days_in_waiting_list customer_type  \\\n",
       "0                       A                0                    0     Transient   \n",
       "9                       A                1                    0     Transient   \n",
       "10                      G                0                    0     Transient   \n",
       "12                      G                2                    0     Transient   \n",
       "13                      D                0                    0     Transient   \n",
       "...                   ...              ...                  ...           ...   \n",
       "18301                   D                0                    0     Transient   \n",
       "22331                   A                0                    0     Transient   \n",
       "22347                   A                0                    0     Transient   \n",
       "22350                   A                0                    0     Transient   \n",
       "26085                   A                0                    0     Transient   \n",
       "\n",
       "      required_car_parking_spaces  total_of_special_requests  total_nights  \\\n",
       "0                               0                          0             1   \n",
       "9                               0                          2             5   \n",
       "10                              0                          0             5   \n",
       "12                              0                          1             6   \n",
       "13                              0                          0             2   \n",
       "...                           ...                        ...           ...   \n",
       "18301                           0                          0             3   \n",
       "22331                           0                          0             1   \n",
       "22347                           0                          0             3   \n",
       "22350                           0                          0             3   \n",
       "26085                           0                          0             1   \n",
       "\n",
       "       num_cleaning  profit  best_dt_model_predicted_valid  \n",
       "0                 1 -1400.0                              1  \n",
       "9                 3 -1400.0                              1  \n",
       "10                3  -500.0                              1  \n",
       "12                3  -500.0                              1  \n",
       "13                1  -700.0                              1  \n",
       "...             ...     ...                            ...  \n",
       "18301             2  -810.0                              1  \n",
       "22331             1 -1600.0                              1  \n",
       "22347             2 -1600.0                              1  \n",
       "22350             2 -1600.0                              1  \n",
       "26085             1 -1800.0                              1  \n",
       "\n",
       "[6639 rows x 28 columns]"
      ]
     },
     "execution_count": 59,
     "metadata": {},
     "output_type": "execute_result"
    }
   ],
   "source": [
    "hotel_test['best_dt_model_predicted_valid'] = best_predicted_valid\n",
    "hotel_test.query('best_dt_model_predicted_valid > 0 and profit < 0')"
   ]
  },
  {
   "cell_type": "markdown",
   "metadata": {},
   "source": [
    "Вычиcлим полученную с данных предсказаний прибыль: Так как депозит составляет 80% от суммы бронирования и уборки, следовательно, убытки составят только 20% от убытков в предсказанных моделью случаях."
   ]
  },
  {
   "cell_type": "code",
   "execution_count": 60,
   "metadata": {},
   "outputs": [],
   "source": [
    "hotel_test.loc[(hotel_test['best_dt_model_predicted_valid'] > 0) & (hotel_test['profit'] < 0), 'profit'] = hotel_test.query('best_dt_model_predicted_valid > 0 and profit < 0')['profit'] * 0.2"
   ]
  },
  {
   "cell_type": "markdown",
   "metadata": {},
   "source": [
    "<div class=\"alert alert-success\">\n",
    "<h2> Комментарий ревьюера <a class=\"tocSkip\"> </h2>\n",
    "\n",
    "<b>Все отлично!👍:</b> \n",
    "    \n",
    "Молодец, что не проводишь весь расчет заново, а учитываешь только разницу в размере депозита."
   ]
  },
  {
   "cell_type": "code",
   "execution_count": 61,
   "metadata": {},
   "outputs": [
    {
     "data": {
      "text/plain": [
       "'Прибыль компании без учета убытков от отмены бронирования: 53342330.0 у.е.'"
      ]
     },
     "execution_count": 61,
     "metadata": {},
     "output_type": "execute_result"
    }
   ],
   "source": [
    "full_revenue = hotel_test['profit'][hotel_test['profit'] > 0].sum()\n",
    "f\"Прибыль компании без учета убытков от отмены бронирования: {full_revenue} у.е.\""
   ]
  },
  {
   "cell_type": "code",
   "execution_count": 62,
   "metadata": {},
   "outputs": [
    {
     "data": {
      "text/plain": [
       "'Убыток компании от отмены бронирования: -10302912.0 у.е.'"
      ]
     },
     "execution_count": 62,
     "metadata": {},
     "output_type": "execute_result"
    }
   ],
   "source": [
    "full_losses = hotel_test['profit'][hotel_test['profit'] < 0].sum()\n",
    "f\"Убыток компании от отмены бронирования: {full_losses} у.е.\""
   ]
  },
  {
   "cell_type": "code",
   "execution_count": 63,
   "metadata": {},
   "outputs": [],
   "source": [
    "revenue_with_deposite = full_revenue + full_losses"
   ]
  },
  {
   "cell_type": "code",
   "execution_count": 64,
   "metadata": {},
   "outputs": [
    {
     "data": {
      "text/plain": [
       "'Прибыль компании с внедрением депозита: 43039418.0 у.е.'"
      ]
     },
     "execution_count": 64,
     "metadata": {},
     "output_type": "execute_result"
    }
   ],
   "source": [
    "f\"Прибыль компании с внедрением депозита: {revenue_with_deposite} у.е.\""
   ]
  },
  {
   "cell_type": "code",
   "execution_count": 65,
   "metadata": {},
   "outputs": [
    {
     "data": {
      "text/plain": [
       "'Прибыль компании от внедрения депозита: 7738648.0 у.е.'"
      ]
     },
     "execution_count": 65,
     "metadata": {},
     "output_type": "execute_result"
    }
   ],
   "source": [
    "f\"Прибыль компании от внедрения депозита: {revenue_with_deposite - revenue_without_deposite} у.е.\""
   ]
  },
  {
   "cell_type": "code",
   "execution_count": 66,
   "metadata": {},
   "outputs": [
    {
     "data": {
      "text/plain": [
       "'Средняя прибыль компании от одного бронирования:  1327.9 у.е.'"
      ]
     },
     "execution_count": 66,
     "metadata": {},
     "output_type": "execute_result"
    }
   ],
   "source": [
    "mean_profit = hotel_test['profit'].mean()\n",
    "f\"Средняя прибыль компании от одного бронирования: {mean_profit: .5} у.е.\""
   ]
  },
  {
   "cell_type": "markdown",
   "metadata": {},
   "source": [
    "Результат таков: На протяжении 8 месяцев тестирования модели машинного обучения чистая прибыль компании увеличилась на 8 млн. 812 тыс. у.е., что в 22 раза превышает затраты на разработку и внедрение модели машинного обучения. Также средняя прибыль компании увеличилась на 280 у.е. или на 27%."
   ]
  },
  {
   "cell_type": "markdown",
   "metadata": {},
   "source": [
    "### Шаг 5. Опишите портрет «ненадёжного» клиента"
   ]
  },
  {
   "cell_type": "markdown",
   "metadata": {},
   "source": [
    "Отделим клиентов, которым была предсказана отмена бронирования и изучим их особенности."
   ]
  },
  {
   "cell_type": "code",
   "execution_count": 67,
   "metadata": {},
   "outputs": [],
   "source": [
    "predicted = hotel_test[hotel_test['best_dt_model_predicted_valid'] > 0]"
   ]
  },
  {
   "cell_type": "markdown",
   "metadata": {},
   "source": [
    "Проведем исследовательский анализ данных."
   ]
  },
  {
   "cell_type": "code",
   "execution_count": 68,
   "metadata": {},
   "outputs": [
    {
     "data": {
      "text/plain": [
       "'1 Колонка: arrival_date_month'"
      ]
     },
     "metadata": {},
     "output_type": "display_data"
    },
    {
     "data": {
      "text/plain": [
       "May         1549\n",
       "April       1507\n",
       "June        1479\n",
       "March       1124\n",
       "July         768\n",
       "February     756\n",
       "January      698\n",
       "August       643\n",
       "Name: arrival_date_month, dtype: int64"
      ]
     },
     "metadata": {},
     "output_type": "display_data"
    },
    {
     "data": {
      "text/plain": [
       "'2 Колонка: meal'"
      ]
     },
     "metadata": {},
     "output_type": "display_data"
    },
    {
     "data": {
      "text/plain": [
       "BB    6668\n",
       "SC    1383\n",
       "HB     455\n",
       "FB      18\n",
       "Name: meal, dtype: int64"
      ]
     },
     "metadata": {},
     "output_type": "display_data"
    },
    {
     "data": {
      "text/plain": [
       "'3 Колонка: country'"
      ]
     },
     "metadata": {},
     "output_type": "display_data"
    },
    {
     "data": {
      "text/plain": [
       "PRT    5511\n",
       "GBR     495\n",
       "FRA     450\n",
       "ESP     246\n",
       "ITA     236\n",
       "       ... \n",
       "TZA       1\n",
       "MDV       1\n",
       "IDN       1\n",
       "PER       1\n",
       "GNB       1\n",
       "Name: country, Length: 82, dtype: int64"
      ]
     },
     "metadata": {},
     "output_type": "display_data"
    },
    {
     "data": {
      "text/plain": [
       "'4 Колонка: distribution_channel'"
      ]
     },
     "metadata": {},
     "output_type": "display_data"
    },
    {
     "data": {
      "text/plain": [
       "TA/TO        7856\n",
       "Corporate     339\n",
       "Direct        324\n",
       "GDS             5\n",
       "Name: distribution_channel, dtype: int64"
      ]
     },
     "metadata": {},
     "output_type": "display_data"
    },
    {
     "data": {
      "text/plain": [
       "'5 Колонка: reserved_room_type'"
      ]
     },
     "metadata": {},
     "output_type": "display_data"
    },
    {
     "data": {
      "text/plain": [
       "A    6314\n",
       "D    1754\n",
       "F     150\n",
       "E     129\n",
       "G      89\n",
       "C      53\n",
       "B      35\n",
       "Name: reserved_room_type, dtype: int64"
      ]
     },
     "metadata": {},
     "output_type": "display_data"
    },
    {
     "data": {
      "text/plain": [
       "'6 Колонка: customer_type'"
      ]
     },
     "metadata": {},
     "output_type": "display_data"
    },
    {
     "data": {
      "text/plain": [
       "Transient          7790\n",
       "Transient-Party     680\n",
       "Contract             40\n",
       "Group                14\n",
       "Name: customer_type, dtype: int64"
      ]
     },
     "metadata": {},
     "output_type": "display_data"
    }
   ],
   "source": [
    "display_objects(predicted)"
   ]
  },
  {
   "cell_type": "code",
   "execution_count": 69,
   "metadata": {},
   "outputs": [
    {
     "data": {
      "text/plain": [
       "'1 Колонка: id'"
      ]
     },
     "metadata": {},
     "output_type": "display_data"
    },
    {
     "data": {
      "text/plain": [
       "20482    1\n",
       "49789    1\n",
       "90777    1\n",
       "6806     1\n",
       "45715    1\n",
       "        ..\n",
       "50514    1\n",
       "46412    1\n",
       "52555    1\n",
       "50506    1\n",
       "53246    1\n",
       "Name: id, Length: 8524, dtype: int64"
      ]
     },
     "metadata": {},
     "output_type": "display_data"
    },
    {
     "data": {
      "text/plain": [
       "'2 Колонка: is_canceled'"
      ]
     },
     "metadata": {},
     "output_type": "display_data"
    },
    {
     "data": {
      "text/plain": [
       "1    6639\n",
       "0    1885\n",
       "Name: is_canceled, dtype: int64"
      ]
     },
     "metadata": {},
     "output_type": "display_data"
    },
    {
     "data": {
      "text/plain": [
       "'3 Колонка: lead_time'"
      ]
     },
     "metadata": {},
     "output_type": "display_data"
    },
    {
     "data": {
      "text/plain": [
       "56.0     151\n",
       "28.0     140\n",
       "38.0     120\n",
       "156.0    118\n",
       "175.0    110\n",
       "        ... \n",
       "353.0      1\n",
       "346.0      1\n",
       "285.0      1\n",
       "356.0      1\n",
       "245.0      1\n",
       "Name: lead_time, Length: 350, dtype: int64"
      ]
     },
     "metadata": {},
     "output_type": "display_data"
    },
    {
     "data": {
      "text/plain": [
       "'4 Колонка: arrival_date_year'"
      ]
     },
     "metadata": {},
     "output_type": "display_data"
    },
    {
     "data": {
      "text/plain": [
       "2017    8524\n",
       "Name: arrival_date_year, dtype: int64"
      ]
     },
     "metadata": {},
     "output_type": "display_data"
    },
    {
     "data": {
      "text/plain": [
       "'5 Колонка: arrival_date_week_number'"
      ]
     },
     "metadata": {},
     "output_type": "display_data"
    },
    {
     "data": {
      "text/plain": [
       "20    532\n",
       "17    434\n",
       "23    385\n",
       "18    380\n",
       "14    376\n",
       "22    371\n",
       "15    359\n",
       "24    349\n",
       "11    321\n",
       "25    310\n",
       "16    291\n",
       "26    290\n",
       "12    262\n",
       "7     251\n",
       "9     250\n",
       "4     228\n",
       "21    227\n",
       "19    225\n",
       "13    205\n",
       "28    203\n",
       "30    196\n",
       "10    195\n",
       "33    195\n",
       "8     188\n",
       "2     183\n",
       "27    169\n",
       "3     155\n",
       "31    151\n",
       "5     144\n",
       "29    135\n",
       "32    134\n",
       "34    129\n",
       "6     120\n",
       "1     104\n",
       "35     77\n",
       "Name: arrival_date_week_number, dtype: int64"
      ]
     },
     "metadata": {},
     "output_type": "display_data"
    },
    {
     "data": {
      "text/plain": [
       "'6 Колонка: arrival_date_day_of_month'"
      ]
     },
     "metadata": {},
     "output_type": "display_data"
    },
    {
     "data": {
      "text/plain": [
       "15    475\n",
       "26    408\n",
       "19    353\n",
       "9     349\n",
       "14    334\n",
       "23    331\n",
       "8     329\n",
       "1     328\n",
       "20    308\n",
       "17    304\n",
       "25    291\n",
       "6     279\n",
       "21    275\n",
       "13    273\n",
       "28    272\n",
       "2     271\n",
       "3     266\n",
       "4     263\n",
       "16    260\n",
       "12    253\n",
       "27    245\n",
       "5     244\n",
       "30    244\n",
       "18    240\n",
       "11    237\n",
       "24    225\n",
       "10    207\n",
       "22    199\n",
       "29    175\n",
       "7     165\n",
       "31    121\n",
       "Name: arrival_date_day_of_month, dtype: int64"
      ]
     },
     "metadata": {},
     "output_type": "display_data"
    },
    {
     "data": {
      "text/plain": [
       "'7 Колонка: stays_in_weekend_nights'"
      ]
     },
     "metadata": {},
     "output_type": "display_data"
    },
    {
     "data": {
      "text/plain": [
       "0    3791\n",
       "2    2404\n",
       "1    2295\n",
       "4      20\n",
       "3      14\n",
       "Name: stays_in_weekend_nights, dtype: int64"
      ]
     },
     "metadata": {},
     "output_type": "display_data"
    },
    {
     "data": {
      "text/plain": [
       "'8 Колонка: stays_in_week_nights'"
      ]
     },
     "metadata": {},
     "output_type": "display_data"
    },
    {
     "data": {
      "text/plain": [
       "2    2618\n",
       "3    2254\n",
       "1    1886\n",
       "4     716\n",
       "5     597\n",
       "0     405\n",
       "6      48\n",
       "Name: stays_in_week_nights, dtype: int64"
      ]
     },
     "metadata": {},
     "output_type": "display_data"
    },
    {
     "data": {
      "text/plain": [
       "'9 Колонка: adults'"
      ]
     },
     "metadata": {},
     "output_type": "display_data"
    },
    {
     "data": {
      "text/plain": [
       "2.0    6600\n",
       "1.0    1350\n",
       "3.0     550\n",
       "0.0      20\n",
       "4.0       4\n",
       "Name: adults, dtype: int64"
      ]
     },
     "metadata": {},
     "output_type": "display_data"
    },
    {
     "data": {
      "text/plain": [
       "'10 Колонка: children'"
      ]
     },
     "metadata": {},
     "output_type": "display_data"
    },
    {
     "data": {
      "text/plain": [
       "0.0    7875\n",
       "1.0     381\n",
       "2.0     266\n",
       "3.0       2\n",
       "Name: children, dtype: int64"
      ]
     },
     "metadata": {},
     "output_type": "display_data"
    },
    {
     "data": {
      "text/plain": [
       "'11 Колонка: babies'"
      ]
     },
     "metadata": {},
     "output_type": "display_data"
    },
    {
     "data": {
      "text/plain": [
       "0.0    8507\n",
       "1.0      16\n",
       "2.0       1\n",
       "Name: babies, dtype: int64"
      ]
     },
     "metadata": {},
     "output_type": "display_data"
    },
    {
     "data": {
      "text/plain": [
       "'12 Колонка: is_repeated_guest'"
      ]
     },
     "metadata": {},
     "output_type": "display_data"
    },
    {
     "data": {
      "text/plain": [
       "0    8463\n",
       "1      61\n",
       "Name: is_repeated_guest, dtype: int64"
      ]
     },
     "metadata": {},
     "output_type": "display_data"
    },
    {
     "data": {
      "text/plain": [
       "'13 Колонка: previous_cancellations'"
      ]
     },
     "metadata": {},
     "output_type": "display_data"
    },
    {
     "data": {
      "text/plain": [
       "0    8480\n",
       "1      36\n",
       "2       3\n",
       "4       2\n",
       "6       2\n",
       "3       1\n",
       "Name: previous_cancellations, dtype: int64"
      ]
     },
     "metadata": {},
     "output_type": "display_data"
    },
    {
     "data": {
      "text/plain": [
       "'14 Колонка: previous_bookings_not_canceled'"
      ]
     },
     "metadata": {},
     "output_type": "display_data"
    },
    {
     "data": {
      "text/plain": [
       "0     8454\n",
       "1       28\n",
       "2        7\n",
       "7        5\n",
       "4        5\n",
       "6        4\n",
       "3        3\n",
       "5        3\n",
       "9        2\n",
       "14       2\n",
       "21       1\n",
       "15       1\n",
       "30       1\n",
       "27       1\n",
       "13       1\n",
       "8        1\n",
       "19       1\n",
       "18       1\n",
       "64       1\n",
       "16       1\n",
       "71       1\n",
       "Name: previous_bookings_not_canceled, dtype: int64"
      ]
     },
     "metadata": {},
     "output_type": "display_data"
    },
    {
     "data": {
      "text/plain": [
       "'15 Колонка: booking_changes'"
      ]
     },
     "metadata": {},
     "output_type": "display_data"
    },
    {
     "data": {
      "text/plain": [
       "0    8067\n",
       "1     302\n",
       "2     120\n",
       "3      23\n",
       "4       6\n",
       "5       3\n",
       "6       3\n",
       "Name: booking_changes, dtype: int64"
      ]
     },
     "metadata": {},
     "output_type": "display_data"
    },
    {
     "data": {
      "text/plain": [
       "'16 Колонка: days_in_waiting_list'"
      ]
     },
     "metadata": {},
     "output_type": "display_data"
    },
    {
     "data": {
      "text/plain": [
       "0      8420\n",
       "71        6\n",
       "46        5\n",
       "59        5\n",
       "26        4\n",
       "44        4\n",
       "16        4\n",
       "28        4\n",
       "17        4\n",
       "7         3\n",
       "5         3\n",
       "60        3\n",
       "34        3\n",
       "11        2\n",
       "14        2\n",
       "22        2\n",
       "9         2\n",
       "20        2\n",
       "56        2\n",
       "27        2\n",
       "21        2\n",
       "23        2\n",
       "18        2\n",
       "30        1\n",
       "117       1\n",
       "175       1\n",
       "165       1\n",
       "111       1\n",
       "32        1\n",
       "63        1\n",
       "47        1\n",
       "15        1\n",
       "39        1\n",
       "38        1\n",
       "54        1\n",
       "31        1\n",
       "93        1\n",
       "33        1\n",
       "84        1\n",
       "53        1\n",
       "13        1\n",
       "57        1\n",
       "73        1\n",
       "113       1\n",
       "121       1\n",
       "2         1\n",
       "10        1\n",
       "25        1\n",
       "50        1\n",
       "35        1\n",
       "43        1\n",
       "99        1\n",
       "4         1\n",
       "12        1\n",
       "80        1\n",
       "76        1\n",
       "49        1\n",
       "100       1\n",
       "183       1\n",
       "Name: days_in_waiting_list, dtype: int64"
      ]
     },
     "metadata": {},
     "output_type": "display_data"
    },
    {
     "data": {
      "text/plain": [
       "'17 Колонка: required_car_parking_spaces'"
      ]
     },
     "metadata": {},
     "output_type": "display_data"
    },
    {
     "data": {
      "text/plain": [
       "0    8507\n",
       "1      17\n",
       "Name: required_car_parking_spaces, dtype: int64"
      ]
     },
     "metadata": {},
     "output_type": "display_data"
    },
    {
     "data": {
      "text/plain": [
       "'18 Колонка: total_of_special_requests'"
      ]
     },
     "metadata": {},
     "output_type": "display_data"
    },
    {
     "data": {
      "text/plain": [
       "0    8008\n",
       "1     383\n",
       "2     118\n",
       "3      13\n",
       "4       2\n",
       "Name: total_of_special_requests, dtype: int64"
      ]
     },
     "metadata": {},
     "output_type": "display_data"
    },
    {
     "data": {
      "text/plain": [
       "'19 Колонка: total_nights'"
      ]
     },
     "metadata": {},
     "output_type": "display_data"
    },
    {
     "data": {
      "text/plain": [
       "3     2752\n",
       "2     2171\n",
       "4     1443\n",
       "1      819\n",
       "5      622\n",
       "7      480\n",
       "6      174\n",
       "8       38\n",
       "10      14\n",
       "9       11\n",
       "Name: total_nights, dtype: int64"
      ]
     },
     "metadata": {},
     "output_type": "display_data"
    },
    {
     "data": {
      "text/plain": [
       "'20 Колонка: num_cleaning'"
      ]
     },
     "metadata": {},
     "output_type": "display_data"
    },
    {
     "data": {
      "text/plain": [
       "2    4195\n",
       "1    2990\n",
       "3     796\n",
       "4     518\n",
       "5      25\n",
       "Name: num_cleaning, dtype: int64"
      ]
     },
     "metadata": {},
     "output_type": "display_data"
    },
    {
     "data": {
      "text/plain": [
       "'21 Колонка: profit'"
      ]
     },
     "metadata": {},
     "output_type": "display_data"
    },
    {
     "data": {
      "text/plain": [
       "-320.0      2730\n",
       "-360.0      1620\n",
       "-280.0       874\n",
       "-162.0       514\n",
       "-184.0       401\n",
       "            ... \n",
       " 12000.0       1\n",
       " 8330.0        1\n",
       " 5560.0        1\n",
       " 1460.0        1\n",
       " 450.0         1\n",
       "Name: profit, Length: 116, dtype: int64"
      ]
     },
     "metadata": {},
     "output_type": "display_data"
    },
    {
     "data": {
      "text/plain": [
       "'22 Колонка: best_dt_model_predicted_valid'"
      ]
     },
     "metadata": {},
     "output_type": "display_data"
    },
    {
     "data": {
      "text/plain": [
       "1    8524\n",
       "Name: best_dt_model_predicted_valid, dtype: int64"
      ]
     },
     "metadata": {},
     "output_type": "display_data"
    }
   ],
   "source": [
    "display_digits(hotel_test[hotel_test['best_dt_model_predicted_valid'] > 0])"
   ]
  },
  {
   "cell_type": "markdown",
   "metadata": {},
   "source": [
    "На основе исследовательского анализа данных оцени портрет клиента, склонного к отказу от брони:\n",
    " В основном это компании из 2х человек, которые бронируют номер первый раз на пару ночей. Номер в основном самый дешевый, а самые частые месяцы для отказа - это май и июнь.\n",
    " В основном отказываются от бронирования португальцы и граждане США."
   ]
  },
  {
   "cell_type": "markdown",
   "metadata": {},
   "source": [
    "<div class=\"alert alert-success\">\n",
    "<h2> Комментарий ревьюера <a class=\"tocSkip\"> </h2>\n",
    "\n",
    "<b>Все отлично!👍:</b> \n",
    "    \n",
    "Отлично, что есть описание ненадежного клиента."
   ]
  },
  {
   "cell_type": "markdown",
   "metadata": {},
   "source": [
    "### Шаг 6. Напишите общий вывод"
   ]
  },
  {
   "cell_type": "markdown",
   "metadata": {},
   "source": [
    "В данной работе была проведена комплексная работа по исследованию данных и разработке оптимальной модели машинного обучения для выполнения поставленной бизнес-задачи уменьшения убытков компании от отмены забронированных номеров отеля.\n",
    "В начале был проведен исследовательский анализ данных, в ходе которого были устранены недочеты данных, такие как пробелы и символы табуляции в колонках и значениях датафреймов. Далее данные были кодированы и нормализованы для оптимизации параметров моделей машинного обучения.\n",
    "После исследования адекватности общей модели и определения параметров 3х различных моделей ML, для работы была выбрана модель DecisionTree с глубиной = 12 и критерием выбора 'entropy'.\n",
    "Для выбора оптимальной модели была выбрана комплексная метрика F1 score, т.к. нас интересует баланс между полнотой и точностью определения отказа от бронирования. Данный продиктован тем, что излишняя полнота с недостатком точности определения может даже снизить прибыль компании. Падение прибыли в данном случаем может возникнуть из-за того, что неверно навязанный депозит может отпугнуть клиента, который не собирался отказываться от брони.\n",
    "В итоге тестирования модели в 8ми месячный период прибыль отеля увеличилась на 8.800 млн. у.е., что более чем в 22 раза больше бюджета, выделенного на разработку модели. Также средняя прибыль от одного чека увеличилась на 27%.\n",
    "Судя по предсказаниям лучшей модели в основном отказываются от номеров компании из 2х человек, которые бронируют номер первый раз на пару ночей. Номер в основном самый дешевый, а самые частые месяцы для отказа - это май и июнь.\n",
    " Чаще всего отказываются от бронирования португальцы и граждане США.\n",
    " По итогам работы затраты на разработку оказались гораздо меньше (в 22 раза) выручки компании от внедрения депозитов. Модель была введена успешно."
   ]
  },
  {
   "cell_type": "markdown",
   "metadata": {},
   "source": [
    "<div style=\"border:solid Chocolate 2px; padding: 40px\">\n",
    "    \n",
    "<b>Общий вывод по проекту</b>\n",
    "\n",
    "Александр, спасибо за работу! Проект хороший, продуманный, структурно выдержанный, аккуратный. Однако стоит внести некоторые исправления, чтобы можно было считать работу завершенной.\n",
    "\n",
    "**Положительные моменты проекта, которые хочу еще раз подчеркнуть:**\n",
    "\n",
    "1. Есть первичный анализ данных \n",
    "2. Есть описание клиента склонного к отмене брони\n",
    "3. Исследовано 3 модели  ML\n",
    "4. Есть обоснование выбора метрики\n",
    "5. Расчет прибыли до и после внедрения системы депозитов верный\n",
    "\n",
    "\n",
    "\n",
    "**Замечания, на которые стоит обратить внимание при будущей работе:**\n",
    "    \n",
    "\n",
    "    \n",
    "    1. Как минимум для 2х моделей стоит подобрать как минимум по 2 гиперпараметра\n",
    "    2. На тестовой выборке стоит проверить только лучшую модель\n",
    "    3. Качество всех изучаемых моделей стоит оценить на кросс-валидации\n",
    "    4. Стоит оценить баланс классов в целевой переменной\n",
    "    5. Исправить порядковое кодирование\n",
    "    6. Проверить данные на наличие аномальных значений, построить графики\n",
    "\n",
    "\n",
    "Остальные комментарии ты найдешь выше.\n",
    "\n",
    "**Желаю удачи и жду твой проект на повторное ревью!**"
   ]
  },
  {
   "cell_type": "markdown",
   "metadata": {},
   "source": [
    "<div style=\"border:solid Chocolate 2px; padding: 40px\">\n",
    "    \n",
    "<b>Общий вывод по проекту №2</b>\n",
    "\n",
    "Александр, спасибо за работу,\n",
    "    \n",
    "в целом все отлично, осталось только учесть наличие дисбаланса при обучении моделей.\n",
    "    \n",
    "**Жду твой проект на следующее ревью**"
   ]
  },
  {
   "cell_type": "markdown",
   "metadata": {},
   "source": [
    "<div style=\"border:solid Chocolate 2px; padding: 40px\">\n",
    "    \n",
    "<b>Общий вывод по проекту №3</b>\n",
    "\n",
    "Александр, спасибо за работу,\n",
    "    \n",
    "посмотри, пожалуйста:\n",
    "    \n",
    "    1. код выдает ошибку\n",
    "    \n",
    "    2. стоит вписать изменение баланса классов и cv в pipeline\n",
    "    \n",
    "**Жду твой проект на следующее ревью**"
   ]
  },
  {
   "cell_type": "markdown",
   "metadata": {},
   "source": [
    "<div style=\"border:solid Chocolate 2px; padding: 40px\">\n",
    "    \n",
    "<b>Общий вывод по проекту №4</b>\n",
    "\n",
    "Александр, спасибо за работу,\n",
    "    \n",
    "**все хорошо, проект принимаю и жеалю успехов в дальнейшем!**"
   ]
  }
 ],
 "metadata": {
  "ExecuteTimeLog": [
   {
    "duration": 1780,
    "start_time": "2023-05-08T17:19:19.920Z"
   },
   {
    "duration": 9,
    "start_time": "2023-05-08T17:19:21.703Z"
   },
   {
    "duration": 983,
    "start_time": "2023-05-08T17:19:21.714Z"
   },
   {
    "duration": 13,
    "start_time": "2023-05-08T17:19:22.699Z"
   },
   {
    "duration": 153,
    "start_time": "2023-05-08T17:19:22.716Z"
   },
   {
    "duration": 4,
    "start_time": "2023-05-08T17:19:22.871Z"
   },
   {
    "duration": 4,
    "start_time": "2023-05-08T17:19:22.877Z"
   },
   {
    "duration": 60,
    "start_time": "2023-05-08T17:19:22.883Z"
   },
   {
    "duration": 30,
    "start_time": "2023-05-08T17:19:22.945Z"
   },
   {
    "duration": 235,
    "start_time": "2023-05-08T17:19:22.977Z"
   },
   {
    "duration": 59,
    "start_time": "2023-05-08T17:19:23.214Z"
   },
   {
    "duration": 71,
    "start_time": "2023-05-08T17:19:23.275Z"
   },
   {
    "duration": 8,
    "start_time": "2023-05-08T17:19:23.348Z"
   },
   {
    "duration": 9,
    "start_time": "2023-05-08T17:19:23.359Z"
   },
   {
    "duration": 296,
    "start_time": "2023-05-08T17:19:23.370Z"
   },
   {
    "duration": 317,
    "start_time": "2023-05-08T17:19:23.668Z"
   },
   {
    "duration": 4,
    "start_time": "2023-05-08T17:19:23.987Z"
   },
   {
    "duration": 20,
    "start_time": "2023-05-08T17:19:23.992Z"
   },
   {
    "duration": 17,
    "start_time": "2023-05-08T17:19:24.014Z"
   },
   {
    "duration": 15,
    "start_time": "2023-05-08T17:19:24.033Z"
   },
   {
    "duration": 650,
    "start_time": "2023-05-08T17:19:24.050Z"
   },
   {
    "duration": 12,
    "start_time": "2023-05-08T17:19:24.702Z"
   },
   {
    "duration": 6,
    "start_time": "2023-05-08T17:19:24.716Z"
   },
   {
    "duration": 6,
    "start_time": "2023-05-08T17:19:24.724Z"
   },
   {
    "duration": 15,
    "start_time": "2023-05-08T17:19:24.732Z"
   },
   {
    "duration": 6,
    "start_time": "2023-05-08T17:19:24.749Z"
   },
   {
    "duration": 198,
    "start_time": "2023-05-08T17:19:24.757Z"
   },
   {
    "duration": 3755,
    "start_time": "2023-05-08T17:19:24.957Z"
   },
   {
    "duration": 174,
    "start_time": "2023-05-08T17:19:28.714Z"
   },
   {
    "duration": 6,
    "start_time": "2023-05-08T17:19:28.890Z"
   },
   {
    "duration": 14,
    "start_time": "2023-05-08T17:19:28.898Z"
   },
   {
    "duration": 383662,
    "start_time": "2023-05-08T17:19:28.915Z"
   },
   {
    "duration": 167,
    "start_time": "2023-05-08T17:25:52.579Z"
   },
   {
    "duration": 4,
    "start_time": "2023-05-08T17:25:52.748Z"
   },
   {
    "duration": 977,
    "start_time": "2023-05-08T17:25:52.754Z"
   },
   {
    "duration": 309,
    "start_time": "2023-05-08T17:25:53.733Z"
   },
   {
    "duration": 44,
    "start_time": "2023-05-08T17:25:54.045Z"
   },
   {
    "duration": 27,
    "start_time": "2023-05-08T17:25:54.090Z"
   },
   {
    "duration": 5,
    "start_time": "2023-05-08T17:25:54.119Z"
   },
   {
    "duration": 11,
    "start_time": "2023-05-08T17:25:54.126Z"
   },
   {
    "duration": 4,
    "start_time": "2023-05-08T17:25:54.141Z"
   },
   {
    "duration": 5,
    "start_time": "2023-05-08T17:25:54.147Z"
   },
   {
    "duration": 7,
    "start_time": "2023-05-08T17:25:54.153Z"
   },
   {
    "duration": 68,
    "start_time": "2023-05-08T17:25:54.162Z"
   },
   {
    "duration": 131,
    "start_time": "2023-05-08T17:25:54.232Z"
   },
   {
    "duration": 1584,
    "start_time": "2023-05-09T10:10:36.075Z"
   },
   {
    "duration": 3,
    "start_time": "2023-05-09T10:10:37.663Z"
   },
   {
    "duration": 1035,
    "start_time": "2023-05-09T10:10:37.667Z"
   },
   {
    "duration": 4,
    "start_time": "2023-05-09T10:10:38.705Z"
   },
   {
    "duration": 153,
    "start_time": "2023-05-09T10:10:38.711Z"
   },
   {
    "duration": 4,
    "start_time": "2023-05-09T10:10:38.866Z"
   },
   {
    "duration": 20,
    "start_time": "2023-05-09T10:10:38.884Z"
   },
   {
    "duration": 100,
    "start_time": "2023-05-09T10:10:38.906Z"
   },
   {
    "duration": 31,
    "start_time": "2023-05-09T10:10:39.008Z"
   },
   {
    "duration": 244,
    "start_time": "2023-05-09T10:10:39.041Z"
   },
   {
    "duration": 96,
    "start_time": "2023-05-09T10:10:39.287Z"
   },
   {
    "duration": 37,
    "start_time": "2023-05-09T10:10:39.385Z"
   },
   {
    "duration": 9,
    "start_time": "2023-05-09T10:10:39.425Z"
   },
   {
    "duration": 15,
    "start_time": "2023-05-09T10:10:39.439Z"
   },
   {
    "duration": 314,
    "start_time": "2023-05-09T10:10:44.982Z"
   },
   {
    "duration": 105,
    "start_time": "2023-05-09T10:11:38.545Z"
   },
   {
    "duration": 194,
    "start_time": "2023-05-09T10:12:13.931Z"
   },
   {
    "duration": 355,
    "start_time": "2023-05-09T10:13:09.851Z"
   },
   {
    "duration": 290,
    "start_time": "2023-05-09T10:13:31.897Z"
   },
   {
    "duration": 248,
    "start_time": "2023-05-09T10:14:35.404Z"
   },
   {
    "duration": 221,
    "start_time": "2023-05-09T10:17:41.072Z"
   },
   {
    "duration": 297,
    "start_time": "2023-05-09T10:17:49.754Z"
   },
   {
    "duration": 250,
    "start_time": "2023-05-09T10:19:39.213Z"
   },
   {
    "duration": 370,
    "start_time": "2023-05-09T10:20:10.780Z"
   },
   {
    "duration": 5,
    "start_time": "2023-05-09T10:20:29.832Z"
   },
   {
    "duration": 14,
    "start_time": "2023-05-09T10:20:29.839Z"
   },
   {
    "duration": 1086,
    "start_time": "2023-05-09T10:20:29.854Z"
   },
   {
    "duration": 4,
    "start_time": "2023-05-09T10:20:30.941Z"
   },
   {
    "duration": 189,
    "start_time": "2023-05-09T10:20:30.948Z"
   },
   {
    "duration": 4,
    "start_time": "2023-05-09T10:20:31.139Z"
   },
   {
    "duration": 37,
    "start_time": "2023-05-09T10:20:31.145Z"
   },
   {
    "duration": 88,
    "start_time": "2023-05-09T10:20:31.184Z"
   },
   {
    "duration": 31,
    "start_time": "2023-05-09T10:20:31.274Z"
   },
   {
    "duration": 244,
    "start_time": "2023-05-09T10:20:31.308Z"
   },
   {
    "duration": 107,
    "start_time": "2023-05-09T10:20:31.555Z"
   },
   {
    "duration": 62,
    "start_time": "2023-05-09T10:20:31.685Z"
   },
   {
    "duration": 34,
    "start_time": "2023-05-09T10:20:31.750Z"
   },
   {
    "duration": 41,
    "start_time": "2023-05-09T10:20:31.788Z"
   },
   {
    "duration": 230,
    "start_time": "2023-05-09T10:20:32.843Z"
   },
   {
    "duration": 5,
    "start_time": "2023-05-09T10:20:37.494Z"
   },
   {
    "duration": 30,
    "start_time": "2023-05-09T10:20:37.502Z"
   },
   {
    "duration": 641,
    "start_time": "2023-05-09T10:20:37.534Z"
   },
   {
    "duration": 3,
    "start_time": "2023-05-09T10:20:38.183Z"
   },
   {
    "duration": 156,
    "start_time": "2023-05-09T10:20:38.188Z"
   },
   {
    "duration": 5,
    "start_time": "2023-05-09T10:20:38.347Z"
   },
   {
    "duration": 15,
    "start_time": "2023-05-09T10:20:38.353Z"
   },
   {
    "duration": 62,
    "start_time": "2023-05-09T10:20:38.369Z"
   },
   {
    "duration": 63,
    "start_time": "2023-05-09T10:20:38.433Z"
   },
   {
    "duration": 198,
    "start_time": "2023-05-09T10:20:38.499Z"
   },
   {
    "duration": 109,
    "start_time": "2023-05-09T10:20:38.699Z"
   },
   {
    "duration": 74,
    "start_time": "2023-05-09T10:20:38.810Z"
   },
   {
    "duration": 8,
    "start_time": "2023-05-09T10:20:38.886Z"
   },
   {
    "duration": 15,
    "start_time": "2023-05-09T10:20:38.896Z"
   },
   {
    "duration": 288,
    "start_time": "2023-05-09T10:20:41.736Z"
   },
   {
    "duration": 15,
    "start_time": "2023-05-09T10:22:05.766Z"
   },
   {
    "duration": 4,
    "start_time": "2023-05-09T10:23:14.142Z"
   },
   {
    "duration": 14,
    "start_time": "2023-05-09T10:23:17.788Z"
   },
   {
    "duration": 359,
    "start_time": "2023-05-09T10:24:33.737Z"
   },
   {
    "duration": 336,
    "start_time": "2023-05-09T10:27:10.641Z"
   },
   {
    "duration": 6,
    "start_time": "2023-05-09T10:27:48.708Z"
   },
   {
    "duration": 16,
    "start_time": "2023-05-09T10:27:55.350Z"
   },
   {
    "duration": 198,
    "start_time": "2023-05-09T10:27:57.189Z"
   },
   {
    "duration": 200,
    "start_time": "2023-05-09T10:36:40.669Z"
   },
   {
    "duration": 6,
    "start_time": "2023-05-09T10:38:11.350Z"
   },
   {
    "duration": 9,
    "start_time": "2023-05-09T10:38:11.358Z"
   },
   {
    "duration": 753,
    "start_time": "2023-05-09T10:38:11.369Z"
   },
   {
    "duration": 4,
    "start_time": "2023-05-09T10:38:12.123Z"
   },
   {
    "duration": 140,
    "start_time": "2023-05-09T10:38:12.131Z"
   },
   {
    "duration": 3,
    "start_time": "2023-05-09T10:38:12.283Z"
   },
   {
    "duration": 6,
    "start_time": "2023-05-09T10:38:12.288Z"
   },
   {
    "duration": 54,
    "start_time": "2023-05-09T10:38:12.296Z"
   },
   {
    "duration": 47,
    "start_time": "2023-05-09T10:38:12.352Z"
   },
   {
    "duration": 183,
    "start_time": "2023-05-09T10:38:12.400Z"
   },
   {
    "duration": 56,
    "start_time": "2023-05-09T10:38:12.585Z"
   },
   {
    "duration": 68,
    "start_time": "2023-05-09T10:38:12.643Z"
   },
   {
    "duration": 10,
    "start_time": "2023-05-09T10:38:12.715Z"
   },
   {
    "duration": 9,
    "start_time": "2023-05-09T10:38:12.728Z"
   },
   {
    "duration": 19,
    "start_time": "2023-05-09T10:38:12.739Z"
   },
   {
    "duration": 203,
    "start_time": "2023-05-09T10:38:14.205Z"
   },
   {
    "duration": 6,
    "start_time": "2023-05-09T10:55:00.072Z"
   },
   {
    "duration": 37,
    "start_time": "2023-05-09T10:55:00.080Z"
   },
   {
    "duration": 854,
    "start_time": "2023-05-09T10:55:00.120Z"
   },
   {
    "duration": 3,
    "start_time": "2023-05-09T10:55:00.976Z"
   },
   {
    "duration": 182,
    "start_time": "2023-05-09T10:55:00.984Z"
   },
   {
    "duration": 4,
    "start_time": "2023-05-09T10:55:01.168Z"
   },
   {
    "duration": 18,
    "start_time": "2023-05-09T10:55:01.185Z"
   },
   {
    "duration": 69,
    "start_time": "2023-05-09T10:55:01.205Z"
   },
   {
    "duration": 21,
    "start_time": "2023-05-09T10:55:03.135Z"
   },
   {
    "duration": 12,
    "start_time": "2023-05-09T11:15:01.140Z"
   },
   {
    "duration": 905,
    "start_time": "2023-05-09T11:15:08.353Z"
   },
   {
    "duration": 836,
    "start_time": "2023-05-09T11:19:35.849Z"
   },
   {
    "duration": 973,
    "start_time": "2023-05-09T11:20:18.299Z"
   },
   {
    "duration": 67,
    "start_time": "2023-05-09T11:30:46.692Z"
   },
   {
    "duration": 6,
    "start_time": "2023-05-09T11:36:53.301Z"
   },
   {
    "duration": 226,
    "start_time": "2023-05-09T11:40:23.841Z"
   },
   {
    "duration": 5,
    "start_time": "2023-05-09T11:41:40.810Z"
   },
   {
    "duration": 18,
    "start_time": "2023-05-09T11:41:40.817Z"
   },
   {
    "duration": 761,
    "start_time": "2023-05-09T11:41:40.837Z"
   },
   {
    "duration": 4,
    "start_time": "2023-05-09T11:41:41.601Z"
   },
   {
    "duration": 145,
    "start_time": "2023-05-09T11:41:41.607Z"
   },
   {
    "duration": 3,
    "start_time": "2023-05-09T11:41:41.754Z"
   },
   {
    "duration": 21,
    "start_time": "2023-05-09T11:41:41.759Z"
   },
   {
    "duration": 55,
    "start_time": "2023-05-09T11:41:41.784Z"
   },
   {
    "duration": 19,
    "start_time": "2023-05-09T11:41:41.841Z"
   },
   {
    "duration": 997,
    "start_time": "2023-05-09T11:41:41.862Z"
   },
   {
    "duration": 174,
    "start_time": "2023-05-09T11:41:42.861Z"
   },
   {
    "duration": 70,
    "start_time": "2023-05-09T11:41:43.037Z"
   },
   {
    "duration": 34,
    "start_time": "2023-05-09T11:41:43.108Z"
   },
   {
    "duration": 59,
    "start_time": "2023-05-09T11:41:43.144Z"
   },
   {
    "duration": 0,
    "start_time": "2023-05-09T11:41:43.205Z"
   },
   {
    "duration": 0,
    "start_time": "2023-05-09T11:41:43.206Z"
   },
   {
    "duration": 0,
    "start_time": "2023-05-09T11:41:43.207Z"
   },
   {
    "duration": 0,
    "start_time": "2023-05-09T11:41:43.208Z"
   },
   {
    "duration": 0,
    "start_time": "2023-05-09T11:41:43.210Z"
   },
   {
    "duration": 0,
    "start_time": "2023-05-09T11:41:43.211Z"
   },
   {
    "duration": 0,
    "start_time": "2023-05-09T11:41:43.212Z"
   },
   {
    "duration": 0,
    "start_time": "2023-05-09T11:41:43.213Z"
   },
   {
    "duration": 0,
    "start_time": "2023-05-09T11:41:43.214Z"
   },
   {
    "duration": 0,
    "start_time": "2023-05-09T11:41:43.215Z"
   },
   {
    "duration": 0,
    "start_time": "2023-05-09T11:41:43.216Z"
   },
   {
    "duration": 0,
    "start_time": "2023-05-09T11:41:43.217Z"
   },
   {
    "duration": 0,
    "start_time": "2023-05-09T11:41:43.218Z"
   },
   {
    "duration": 0,
    "start_time": "2023-05-09T11:41:43.219Z"
   },
   {
    "duration": 0,
    "start_time": "2023-05-09T11:41:43.220Z"
   },
   {
    "duration": 0,
    "start_time": "2023-05-09T11:41:43.221Z"
   },
   {
    "duration": 0,
    "start_time": "2023-05-09T11:41:43.222Z"
   },
   {
    "duration": 0,
    "start_time": "2023-05-09T11:41:43.223Z"
   },
   {
    "duration": 0,
    "start_time": "2023-05-09T11:41:43.224Z"
   },
   {
    "duration": 15,
    "start_time": "2023-05-09T11:41:46.001Z"
   },
   {
    "duration": 11,
    "start_time": "2023-05-09T11:42:30.637Z"
   },
   {
    "duration": 31,
    "start_time": "2023-05-09T11:42:37.116Z"
   },
   {
    "duration": 5,
    "start_time": "2023-05-09T11:42:47.098Z"
   },
   {
    "duration": 7,
    "start_time": "2023-05-09T11:42:47.105Z"
   },
   {
    "duration": 499,
    "start_time": "2023-05-09T11:42:47.113Z"
   },
   {
    "duration": 4,
    "start_time": "2023-05-09T11:42:47.614Z"
   },
   {
    "duration": 127,
    "start_time": "2023-05-09T11:42:47.620Z"
   },
   {
    "duration": 4,
    "start_time": "2023-05-09T11:42:47.749Z"
   },
   {
    "duration": 16,
    "start_time": "2023-05-09T11:42:47.754Z"
   },
   {
    "duration": 60,
    "start_time": "2023-05-09T11:42:47.772Z"
   },
   {
    "duration": 19,
    "start_time": "2023-05-09T11:42:47.833Z"
   },
   {
    "duration": 928,
    "start_time": "2023-05-09T11:42:47.855Z"
   },
   {
    "duration": 313,
    "start_time": "2023-05-09T11:42:48.785Z"
   },
   {
    "duration": 100,
    "start_time": "2023-05-09T11:42:49.100Z"
   },
   {
    "duration": 39,
    "start_time": "2023-05-09T11:42:49.202Z"
   },
   {
    "duration": 954,
    "start_time": "2023-05-09T11:42:49.244Z"
   },
   {
    "duration": 9,
    "start_time": "2023-05-09T11:42:50.199Z"
   },
   {
    "duration": 35,
    "start_time": "2023-05-09T11:42:50.209Z"
   },
   {
    "duration": 242,
    "start_time": "2023-05-09T11:42:50.245Z"
   },
   {
    "duration": 289,
    "start_time": "2023-05-09T11:42:50.488Z"
   },
   {
    "duration": 4,
    "start_time": "2023-05-09T11:42:50.783Z"
   },
   {
    "duration": 12,
    "start_time": "2023-05-09T11:42:50.789Z"
   },
   {
    "duration": 37,
    "start_time": "2023-05-09T11:42:50.803Z"
   },
   {
    "duration": 15,
    "start_time": "2023-05-09T11:42:50.842Z"
   },
   {
    "duration": 520,
    "start_time": "2023-05-09T11:42:50.858Z"
   },
   {
    "duration": 7,
    "start_time": "2023-05-09T11:42:51.379Z"
   },
   {
    "duration": 14,
    "start_time": "2023-05-09T11:42:51.387Z"
   },
   {
    "duration": 9,
    "start_time": "2023-05-09T11:42:51.402Z"
   },
   {
    "duration": 16,
    "start_time": "2023-05-09T11:42:51.412Z"
   },
   {
    "duration": 6,
    "start_time": "2023-05-09T11:42:51.431Z"
   },
   {
    "duration": 144,
    "start_time": "2023-05-09T11:42:51.439Z"
   },
   {
    "duration": 7,
    "start_time": "2023-05-09T11:42:51.584Z"
   },
   {
    "duration": 48,
    "start_time": "2023-05-09T11:42:51.592Z"
   },
   {
    "duration": 0,
    "start_time": "2023-05-09T11:42:51.642Z"
   },
   {
    "duration": 3566,
    "start_time": "2023-05-09T11:42:52.664Z"
   },
   {
    "duration": 140,
    "start_time": "2023-05-09T11:43:00.277Z"
   },
   {
    "duration": 4,
    "start_time": "2023-05-09T11:43:01.960Z"
   },
   {
    "duration": 15,
    "start_time": "2023-05-09T12:01:30.083Z"
   },
   {
    "duration": 5,
    "start_time": "2023-05-09T12:01:47.799Z"
   },
   {
    "duration": 8283,
    "start_time": "2023-05-09T12:01:54.401Z"
   },
   {
    "duration": 7,
    "start_time": "2023-05-09T12:02:02.686Z"
   },
   {
    "duration": 41,
    "start_time": "2023-05-09T12:02:02.695Z"
   },
   {
    "duration": 844,
    "start_time": "2023-05-09T12:02:02.739Z"
   },
   {
    "duration": 3,
    "start_time": "2023-05-09T12:02:03.585Z"
   },
   {
    "duration": 154,
    "start_time": "2023-05-09T12:02:03.590Z"
   },
   {
    "duration": 5,
    "start_time": "2023-05-09T12:02:03.747Z"
   },
   {
    "duration": 9,
    "start_time": "2023-05-09T12:02:03.754Z"
   },
   {
    "duration": 70,
    "start_time": "2023-05-09T12:02:03.765Z"
   },
   {
    "duration": 47,
    "start_time": "2023-05-09T12:02:03.838Z"
   },
   {
    "duration": 930,
    "start_time": "2023-05-09T12:02:03.887Z"
   },
   {
    "duration": 220,
    "start_time": "2023-05-09T12:02:04.820Z"
   },
   {
    "duration": 91,
    "start_time": "2023-05-09T12:02:05.042Z"
   },
   {
    "duration": 79,
    "start_time": "2023-05-09T12:02:05.135Z"
   },
   {
    "duration": 1176,
    "start_time": "2023-05-09T12:02:05.216Z"
   },
   {
    "duration": 11,
    "start_time": "2023-05-09T12:02:06.394Z"
   },
   {
    "duration": 13,
    "start_time": "2023-05-09T12:02:06.407Z"
   },
   {
    "duration": 272,
    "start_time": "2023-05-09T12:02:06.422Z"
   },
   {
    "duration": 326,
    "start_time": "2023-05-09T12:02:06.696Z"
   },
   {
    "duration": 4,
    "start_time": "2023-05-09T12:02:07.024Z"
   },
   {
    "duration": 18,
    "start_time": "2023-05-09T12:02:07.030Z"
   },
   {
    "duration": 40,
    "start_time": "2023-05-09T12:02:07.051Z"
   },
   {
    "duration": 31,
    "start_time": "2023-05-09T12:02:07.093Z"
   },
   {
    "duration": 642,
    "start_time": "2023-05-09T12:02:07.126Z"
   },
   {
    "duration": 12,
    "start_time": "2023-05-09T12:02:07.771Z"
   },
   {
    "duration": 10,
    "start_time": "2023-05-09T12:02:07.786Z"
   },
   {
    "duration": 29,
    "start_time": "2023-05-09T12:02:07.798Z"
   },
   {
    "duration": 9,
    "start_time": "2023-05-09T12:02:07.830Z"
   },
   {
    "duration": 5,
    "start_time": "2023-05-09T12:02:07.841Z"
   },
   {
    "duration": 150,
    "start_time": "2023-05-09T12:02:07.848Z"
   },
   {
    "duration": 6,
    "start_time": "2023-05-09T12:02:08.000Z"
   },
   {
    "duration": 44,
    "start_time": "2023-05-09T12:02:08.007Z"
   },
   {
    "duration": 0,
    "start_time": "2023-05-09T12:02:08.052Z"
   },
   {
    "duration": 0,
    "start_time": "2023-05-09T12:02:08.054Z"
   },
   {
    "duration": 31339,
    "start_time": "2023-05-09T12:02:14.697Z"
   },
   {
    "duration": 3,
    "start_time": "2023-05-09T12:06:23.763Z"
   },
   {
    "duration": 59524,
    "start_time": "2023-05-09T12:06:24.851Z"
   },
   {
    "duration": 6,
    "start_time": "2023-05-09T12:07:40.767Z"
   },
   {
    "duration": 17,
    "start_time": "2023-05-09T12:07:40.777Z"
   },
   {
    "duration": 631,
    "start_time": "2023-05-09T12:07:40.796Z"
   },
   {
    "duration": 4,
    "start_time": "2023-05-09T12:07:41.429Z"
   },
   {
    "duration": 187,
    "start_time": "2023-05-09T12:07:41.435Z"
   },
   {
    "duration": 3,
    "start_time": "2023-05-09T12:07:41.624Z"
   },
   {
    "duration": 12,
    "start_time": "2023-05-09T12:07:41.629Z"
   },
   {
    "duration": 70,
    "start_time": "2023-05-09T12:07:41.642Z"
   },
   {
    "duration": 27,
    "start_time": "2023-05-09T12:07:41.715Z"
   },
   {
    "duration": 1102,
    "start_time": "2023-05-09T12:07:41.746Z"
   },
   {
    "duration": 234,
    "start_time": "2023-05-09T12:07:42.849Z"
   },
   {
    "duration": 103,
    "start_time": "2023-05-09T12:07:43.085Z"
   },
   {
    "duration": 54,
    "start_time": "2023-05-09T12:07:43.191Z"
   },
   {
    "duration": 1220,
    "start_time": "2023-05-09T12:07:43.247Z"
   },
   {
    "duration": 22,
    "start_time": "2023-05-09T12:07:44.469Z"
   },
   {
    "duration": 17,
    "start_time": "2023-05-09T12:07:44.494Z"
   },
   {
    "duration": 296,
    "start_time": "2023-05-09T12:07:44.514Z"
   },
   {
    "duration": 332,
    "start_time": "2023-05-09T12:07:44.812Z"
   },
   {
    "duration": 5,
    "start_time": "2023-05-09T12:07:45.146Z"
   },
   {
    "duration": 13,
    "start_time": "2023-05-09T12:07:45.154Z"
   },
   {
    "duration": 34,
    "start_time": "2023-05-09T12:07:45.184Z"
   },
   {
    "duration": 33,
    "start_time": "2023-05-09T12:07:45.222Z"
   },
   {
    "duration": 641,
    "start_time": "2023-05-09T12:07:45.258Z"
   },
   {
    "duration": 6,
    "start_time": "2023-05-09T12:07:45.901Z"
   },
   {
    "duration": 20,
    "start_time": "2023-05-09T12:07:45.909Z"
   },
   {
    "duration": 13,
    "start_time": "2023-05-09T12:07:45.931Z"
   },
   {
    "duration": 13,
    "start_time": "2023-05-09T12:07:45.946Z"
   },
   {
    "duration": 24,
    "start_time": "2023-05-09T12:07:45.963Z"
   },
   {
    "duration": 163,
    "start_time": "2023-05-09T12:07:45.989Z"
   },
   {
    "duration": 6,
    "start_time": "2023-05-09T12:07:46.154Z"
   },
   {
    "duration": 57,
    "start_time": "2023-05-09T12:07:46.162Z"
   },
   {
    "duration": 0,
    "start_time": "2023-05-09T12:07:46.220Z"
   },
   {
    "duration": 0,
    "start_time": "2023-05-09T12:07:46.222Z"
   },
   {
    "duration": 0,
    "start_time": "2023-05-09T12:07:46.223Z"
   },
   {
    "duration": 0,
    "start_time": "2023-05-09T12:07:46.225Z"
   },
   {
    "duration": 0,
    "start_time": "2023-05-09T12:07:46.227Z"
   },
   {
    "duration": 0,
    "start_time": "2023-05-09T12:07:46.228Z"
   },
   {
    "duration": 0,
    "start_time": "2023-05-09T12:07:46.230Z"
   },
   {
    "duration": 5,
    "start_time": "2023-05-09T12:08:11.552Z"
   },
   {
    "duration": 27,
    "start_time": "2023-05-09T12:08:11.560Z"
   },
   {
    "duration": 781,
    "start_time": "2023-05-09T12:08:11.589Z"
   },
   {
    "duration": 11,
    "start_time": "2023-05-09T12:08:12.372Z"
   },
   {
    "duration": 186,
    "start_time": "2023-05-09T12:08:12.385Z"
   },
   {
    "duration": 13,
    "start_time": "2023-05-09T12:08:12.572Z"
   },
   {
    "duration": 30,
    "start_time": "2023-05-09T12:08:12.588Z"
   },
   {
    "duration": 96,
    "start_time": "2023-05-09T12:08:12.620Z"
   },
   {
    "duration": 25,
    "start_time": "2023-05-09T12:08:12.718Z"
   },
   {
    "duration": 1003,
    "start_time": "2023-05-09T12:08:12.745Z"
   },
   {
    "duration": 223,
    "start_time": "2023-05-09T12:08:13.751Z"
   },
   {
    "duration": 63,
    "start_time": "2023-05-09T12:08:13.983Z"
   },
   {
    "duration": 34,
    "start_time": "2023-05-09T12:08:14.084Z"
   },
   {
    "duration": 1042,
    "start_time": "2023-05-09T12:08:14.121Z"
   },
   {
    "duration": 19,
    "start_time": "2023-05-09T12:08:15.165Z"
   },
   {
    "duration": 26,
    "start_time": "2023-05-09T12:08:15.186Z"
   },
   {
    "duration": 249,
    "start_time": "2023-05-09T12:08:15.215Z"
   },
   {
    "duration": 314,
    "start_time": "2023-05-09T12:08:15.466Z"
   },
   {
    "duration": 4,
    "start_time": "2023-05-09T12:08:15.783Z"
   },
   {
    "duration": 11,
    "start_time": "2023-05-09T12:08:15.789Z"
   },
   {
    "duration": 26,
    "start_time": "2023-05-09T12:08:15.802Z"
   },
   {
    "duration": 17,
    "start_time": "2023-05-09T12:08:15.829Z"
   },
   {
    "duration": 586,
    "start_time": "2023-05-09T12:08:15.849Z"
   },
   {
    "duration": 7,
    "start_time": "2023-05-09T12:08:16.437Z"
   },
   {
    "duration": 51,
    "start_time": "2023-05-09T12:08:16.445Z"
   },
   {
    "duration": 23,
    "start_time": "2023-05-09T12:08:16.499Z"
   },
   {
    "duration": 25,
    "start_time": "2023-05-09T12:08:16.524Z"
   },
   {
    "duration": 12,
    "start_time": "2023-05-09T12:08:16.552Z"
   },
   {
    "duration": 196,
    "start_time": "2023-05-09T12:08:16.566Z"
   },
   {
    "duration": 7,
    "start_time": "2023-05-09T12:08:16.764Z"
   },
   {
    "duration": 152,
    "start_time": "2023-05-09T12:08:16.784Z"
   },
   {
    "duration": 3,
    "start_time": "2023-05-09T12:08:16.937Z"
   },
   {
    "duration": 14935,
    "start_time": "2023-05-09T12:08:16.942Z"
   },
   {
    "duration": 8,
    "start_time": "2023-05-09T12:08:31.878Z"
   },
   {
    "duration": 11,
    "start_time": "2023-05-09T12:08:31.888Z"
   },
   {
    "duration": 208642,
    "start_time": "2023-05-09T12:08:31.901Z"
   },
   {
    "duration": 3,
    "start_time": "2023-05-09T12:12:00.545Z"
   },
   {
    "duration": 14995,
    "start_time": "2023-05-09T12:23:32.563Z"
   },
   {
    "duration": 5,
    "start_time": "2023-05-09T12:23:49.911Z"
   },
   {
    "duration": 12,
    "start_time": "2023-05-09T12:24:04.813Z"
   },
   {
    "duration": 51,
    "start_time": "2023-05-09T12:24:04.828Z"
   },
   {
    "duration": 1411,
    "start_time": "2023-05-09T12:24:04.882Z"
   },
   {
    "duration": 4,
    "start_time": "2023-05-09T12:24:06.295Z"
   },
   {
    "duration": 190,
    "start_time": "2023-05-09T12:24:06.301Z"
   },
   {
    "duration": 6,
    "start_time": "2023-05-09T12:24:06.494Z"
   },
   {
    "duration": 20,
    "start_time": "2023-05-09T12:24:06.502Z"
   },
   {
    "duration": 72,
    "start_time": "2023-05-09T12:24:06.524Z"
   },
   {
    "duration": 32,
    "start_time": "2023-05-09T12:24:06.599Z"
   },
   {
    "duration": 1084,
    "start_time": "2023-05-09T12:24:06.633Z"
   },
   {
    "duration": 433,
    "start_time": "2023-05-09T12:24:07.721Z"
   },
   {
    "duration": 137,
    "start_time": "2023-05-09T12:24:08.157Z"
   },
   {
    "duration": 40,
    "start_time": "2023-05-09T12:24:08.299Z"
   },
   {
    "duration": 1109,
    "start_time": "2023-05-09T12:24:08.341Z"
   },
   {
    "duration": 11,
    "start_time": "2023-05-09T12:24:09.453Z"
   },
   {
    "duration": 21,
    "start_time": "2023-05-09T12:24:09.467Z"
   },
   {
    "duration": 360,
    "start_time": "2023-05-09T12:24:09.491Z"
   },
   {
    "duration": 361,
    "start_time": "2023-05-09T12:24:09.855Z"
   },
   {
    "duration": 8,
    "start_time": "2023-05-09T12:24:10.219Z"
   },
   {
    "duration": 41,
    "start_time": "2023-05-09T12:24:10.229Z"
   },
   {
    "duration": 77,
    "start_time": "2023-05-09T12:24:10.273Z"
   },
   {
    "duration": 43,
    "start_time": "2023-05-09T12:24:10.352Z"
   },
   {
    "duration": 727,
    "start_time": "2023-05-09T12:24:10.396Z"
   },
   {
    "duration": 7,
    "start_time": "2023-05-09T12:24:11.125Z"
   },
   {
    "duration": 21,
    "start_time": "2023-05-09T12:24:11.134Z"
   },
   {
    "duration": 6,
    "start_time": "2023-05-09T12:24:11.158Z"
   },
   {
    "duration": 12,
    "start_time": "2023-05-09T12:24:11.187Z"
   },
   {
    "duration": 23,
    "start_time": "2023-05-09T12:24:11.201Z"
   },
   {
    "duration": 185,
    "start_time": "2023-05-09T12:24:11.227Z"
   },
   {
    "duration": 8,
    "start_time": "2023-05-09T12:24:11.418Z"
   },
   {
    "duration": 216,
    "start_time": "2023-05-09T12:24:11.429Z"
   },
   {
    "duration": 3,
    "start_time": "2023-05-09T12:24:11.647Z"
   },
   {
    "duration": 16104,
    "start_time": "2023-05-09T12:24:11.652Z"
   },
   {
    "duration": 4,
    "start_time": "2023-05-09T12:24:27.758Z"
   },
   {
    "duration": 41,
    "start_time": "2023-05-09T12:24:27.764Z"
   },
   {
    "duration": 4,
    "start_time": "2023-05-09T12:24:31.347Z"
   },
   {
    "duration": 217453,
    "start_time": "2023-05-09T12:24:32.581Z"
   },
   {
    "duration": 4,
    "start_time": "2023-05-09T12:28:10.036Z"
   },
   {
    "duration": 5,
    "start_time": "2023-05-09T12:30:42.758Z"
   },
   {
    "duration": 3,
    "start_time": "2023-05-09T12:43:07.377Z"
   },
   {
    "duration": 5,
    "start_time": "2023-05-09T12:43:16.997Z"
   },
   {
    "duration": 4,
    "start_time": "2023-05-09T12:43:52.513Z"
   },
   {
    "duration": 1491774,
    "start_time": "2023-05-09T12:44:38.062Z"
   },
   {
    "duration": 8,
    "start_time": "2023-05-09T13:09:29.838Z"
   },
   {
    "duration": 0,
    "start_time": "2023-05-09T13:09:33.289Z"
   },
   {
    "duration": 3111,
    "start_time": "2023-05-09T13:10:44.505Z"
   },
   {
    "duration": 3385,
    "start_time": "2023-05-09T13:10:51.302Z"
   },
   {
    "duration": 3238,
    "start_time": "2023-05-09T13:17:40.161Z"
   },
   {
    "duration": 21,
    "start_time": "2023-05-09T13:17:43.494Z"
   },
   {
    "duration": 13,
    "start_time": "2023-05-09T13:17:46.390Z"
   },
   {
    "duration": 11,
    "start_time": "2023-05-09T13:19:10.802Z"
   },
   {
    "duration": 106,
    "start_time": "2023-05-09T13:19:29.766Z"
   },
   {
    "duration": 38,
    "start_time": "2023-05-09T13:19:31.301Z"
   },
   {
    "duration": 11,
    "start_time": "2023-05-09T13:19:34.445Z"
   },
   {
    "duration": 6,
    "start_time": "2023-05-09T13:19:36.256Z"
   },
   {
    "duration": 6,
    "start_time": "2023-05-09T13:19:37.643Z"
   },
   {
    "duration": 4,
    "start_time": "2023-05-09T13:19:39.131Z"
   },
   {
    "duration": 5,
    "start_time": "2023-05-09T13:19:40.715Z"
   },
   {
    "duration": 3,
    "start_time": "2023-05-09T13:22:01.051Z"
   },
   {
    "duration": 80,
    "start_time": "2023-05-09T13:22:08.301Z"
   },
   {
    "duration": 57,
    "start_time": "2023-05-09T13:22:09.690Z"
   },
   {
    "duration": 4,
    "start_time": "2023-05-09T13:23:31.376Z"
   },
   {
    "duration": 159,
    "start_time": "2023-05-09T13:40:01.251Z"
   },
   {
    "duration": 11,
    "start_time": "2023-05-09T13:40:40.244Z"
   },
   {
    "duration": 16,
    "start_time": "2023-05-09T13:40:47.712Z"
   },
   {
    "duration": 13,
    "start_time": "2023-05-09T13:41:09.931Z"
   },
   {
    "duration": 3,
    "start_time": "2023-05-09T13:43:33.907Z"
   },
   {
    "duration": 5,
    "start_time": "2023-05-09T13:43:35.304Z"
   },
   {
    "duration": 23,
    "start_time": "2023-05-09T13:44:06.675Z"
   },
   {
    "duration": 21,
    "start_time": "2023-05-09T13:44:07.873Z"
   },
   {
    "duration": 613,
    "start_time": "2023-05-09T13:44:09.073Z"
   },
   {
    "duration": 7,
    "start_time": "2023-05-09T13:44:10.305Z"
   },
   {
    "duration": 7,
    "start_time": "2023-05-09T13:44:11.466Z"
   },
   {
    "duration": 8,
    "start_time": "2023-05-09T13:44:12.691Z"
   },
   {
    "duration": 10,
    "start_time": "2023-05-09T13:44:13.875Z"
   },
   {
    "duration": 7,
    "start_time": "2023-05-09T13:44:15.173Z"
   },
   {
    "duration": 3,
    "start_time": "2023-05-09T13:45:29.300Z"
   },
   {
    "duration": 4,
    "start_time": "2023-05-09T13:45:30.545Z"
   },
   {
    "duration": 7,
    "start_time": "2023-05-09T13:45:34.081Z"
   },
   {
    "duration": 6,
    "start_time": "2023-05-09T13:45:35.259Z"
   },
   {
    "duration": 3,
    "start_time": "2023-05-09T13:45:36.552Z"
   },
   {
    "duration": 4,
    "start_time": "2023-05-09T13:45:37.710Z"
   },
   {
    "duration": 10,
    "start_time": "2023-05-09T13:45:39.952Z"
   },
   {
    "duration": 5,
    "start_time": "2023-05-09T13:45:41.222Z"
   },
   {
    "duration": 6,
    "start_time": "2023-05-09T13:45:42.529Z"
   },
   {
    "duration": 4,
    "start_time": "2023-05-09T13:45:43.644Z"
   },
   {
    "duration": 4,
    "start_time": "2023-05-09T13:45:44.745Z"
   },
   {
    "duration": 4,
    "start_time": "2023-05-09T13:45:45.960Z"
   },
   {
    "duration": 4,
    "start_time": "2023-05-09T13:45:47.939Z"
   },
   {
    "duration": 44,
    "start_time": "2023-05-09T13:49:14.978Z"
   },
   {
    "duration": 11,
    "start_time": "2023-05-09T13:49:16.908Z"
   },
   {
    "duration": 6,
    "start_time": "2023-05-09T13:49:18.807Z"
   },
   {
    "duration": 8,
    "start_time": "2023-05-09T13:49:19.980Z"
   },
   {
    "duration": 4,
    "start_time": "2023-05-09T13:49:25.347Z"
   },
   {
    "duration": 4,
    "start_time": "2023-05-09T13:49:26.534Z"
   },
   {
    "duration": 5,
    "start_time": "2023-05-09T13:49:27.575Z"
   },
   {
    "duration": 4,
    "start_time": "2023-05-09T13:49:29.938Z"
   },
   {
    "duration": 2027,
    "start_time": "2023-05-09T13:49:50.855Z"
   },
   {
    "duration": 22,
    "start_time": "2023-05-09T13:49:52.884Z"
   },
   {
    "duration": 155,
    "start_time": "2023-05-09T13:49:53.067Z"
   },
   {
    "duration": 30,
    "start_time": "2023-05-09T13:49:55.909Z"
   },
   {
    "duration": 351,
    "start_time": "2023-05-09T13:50:36.252Z"
   },
   {
    "duration": 15,
    "start_time": "2023-05-09T13:50:37.873Z"
   },
   {
    "duration": 169,
    "start_time": "2023-05-09T13:50:40.745Z"
   },
   {
    "duration": 5,
    "start_time": "2023-05-09T13:52:49.001Z"
   },
   {
    "duration": 17,
    "start_time": "2023-05-09T13:52:49.014Z"
   },
   {
    "duration": 975,
    "start_time": "2023-05-09T13:52:49.033Z"
   },
   {
    "duration": 4,
    "start_time": "2023-05-09T13:52:50.010Z"
   },
   {
    "duration": 181,
    "start_time": "2023-05-09T13:52:50.016Z"
   },
   {
    "duration": 6,
    "start_time": "2023-05-09T13:52:50.200Z"
   },
   {
    "duration": 12,
    "start_time": "2023-05-09T13:52:50.208Z"
   },
   {
    "duration": 82,
    "start_time": "2023-05-09T13:52:50.222Z"
   },
   {
    "duration": 21,
    "start_time": "2023-05-09T13:52:50.305Z"
   },
   {
    "duration": 1053,
    "start_time": "2023-05-09T13:52:50.328Z"
   },
   {
    "duration": 222,
    "start_time": "2023-05-09T13:52:51.383Z"
   },
   {
    "duration": 105,
    "start_time": "2023-05-09T13:52:51.610Z"
   },
   {
    "duration": 77,
    "start_time": "2023-05-09T13:52:51.718Z"
   },
   {
    "duration": 1430,
    "start_time": "2023-05-09T13:52:51.797Z"
   },
   {
    "duration": 11,
    "start_time": "2023-05-09T13:52:53.232Z"
   },
   {
    "duration": 33,
    "start_time": "2023-05-09T13:52:53.246Z"
   },
   {
    "duration": 443,
    "start_time": "2023-05-09T13:52:53.282Z"
   },
   {
    "duration": 409,
    "start_time": "2023-05-09T13:52:53.727Z"
   },
   {
    "duration": 7,
    "start_time": "2023-05-09T13:52:54.138Z"
   },
   {
    "duration": 12,
    "start_time": "2023-05-09T13:52:54.147Z"
   },
   {
    "duration": 33,
    "start_time": "2023-05-09T13:52:54.161Z"
   },
   {
    "duration": 29,
    "start_time": "2023-05-09T13:52:54.202Z"
   },
   {
    "duration": 750,
    "start_time": "2023-05-09T13:52:54.234Z"
   },
   {
    "duration": 7,
    "start_time": "2023-05-09T13:52:54.986Z"
   },
   {
    "duration": 40,
    "start_time": "2023-05-09T13:52:54.995Z"
   },
   {
    "duration": 39,
    "start_time": "2023-05-09T13:52:55.037Z"
   },
   {
    "duration": 50,
    "start_time": "2023-05-09T13:52:55.079Z"
   },
   {
    "duration": 32,
    "start_time": "2023-05-09T13:52:55.131Z"
   },
   {
    "duration": 13,
    "start_time": "2023-05-09T13:52:55.165Z"
   },
   {
    "duration": 194,
    "start_time": "2023-05-09T13:52:55.180Z"
   },
   {
    "duration": 13,
    "start_time": "2023-05-09T13:52:55.388Z"
   },
   {
    "duration": 190,
    "start_time": "2023-05-09T13:52:55.402Z"
   },
   {
    "duration": 15439,
    "start_time": "2023-05-09T13:52:55.593Z"
   },
   {
    "duration": 5,
    "start_time": "2023-05-09T13:53:11.033Z"
   },
   {
    "duration": 9,
    "start_time": "2023-05-09T13:53:11.039Z"
   },
   {
    "duration": 1430188,
    "start_time": "2023-05-09T13:53:11.050Z"
   },
   {
    "duration": 4,
    "start_time": "2023-05-09T14:17:01.240Z"
   },
   {
    "duration": 3048,
    "start_time": "2023-05-09T14:17:01.245Z"
   },
   {
    "duration": 8,
    "start_time": "2023-05-09T14:17:04.295Z"
   },
   {
    "duration": 184,
    "start_time": "2023-05-09T14:17:04.305Z"
   },
   {
    "duration": 15,
    "start_time": "2023-05-09T14:17:04.494Z"
   },
   {
    "duration": 151,
    "start_time": "2023-05-09T14:17:04.514Z"
   },
   {
    "duration": 42,
    "start_time": "2023-05-09T14:17:04.666Z"
   },
   {
    "duration": 13,
    "start_time": "2023-05-09T14:17:04.710Z"
   },
   {
    "duration": 40,
    "start_time": "2023-05-09T14:17:04.725Z"
   },
   {
    "duration": 44,
    "start_time": "2023-05-09T14:17:04.767Z"
   },
   {
    "duration": 26,
    "start_time": "2023-05-09T14:17:04.814Z"
   },
   {
    "duration": 37,
    "start_time": "2023-05-09T14:17:04.841Z"
   },
   {
    "duration": 39,
    "start_time": "2023-05-09T14:17:04.881Z"
   },
   {
    "duration": 39,
    "start_time": "2023-05-09T14:17:04.922Z"
   },
   {
    "duration": 397,
    "start_time": "2023-05-09T14:17:04.963Z"
   },
   {
    "duration": 11,
    "start_time": "2023-05-09T14:17:05.361Z"
   },
   {
    "duration": 184,
    "start_time": "2023-05-09T14:17:05.373Z"
   },
   {
    "duration": 3383,
    "start_time": "2023-05-09T14:17:22.215Z"
   },
   {
    "duration": 88,
    "start_time": "2023-05-09T14:17:25.603Z"
   },
   {
    "duration": 178,
    "start_time": "2023-05-09T14:17:57.998Z"
   },
   {
    "duration": 12,
    "start_time": "2023-05-09T14:17:59.595Z"
   },
   {
    "duration": 148,
    "start_time": "2023-05-09T14:18:01.601Z"
   },
   {
    "duration": 814,
    "start_time": "2023-05-09T14:18:35.147Z"
   },
   {
    "duration": 12,
    "start_time": "2023-05-09T14:18:36.609Z"
   },
   {
    "duration": 167,
    "start_time": "2023-05-09T14:18:38.112Z"
   },
   {
    "duration": 179,
    "start_time": "2023-05-09T14:19:06.177Z"
   },
   {
    "duration": 12,
    "start_time": "2023-05-09T14:19:07.897Z"
   },
   {
    "duration": 148,
    "start_time": "2023-05-09T14:19:09.181Z"
   },
   {
    "duration": 34,
    "start_time": "2023-05-09T14:19:13.044Z"
   },
   {
    "duration": 8,
    "start_time": "2023-05-09T14:19:17.757Z"
   },
   {
    "duration": 7,
    "start_time": "2023-05-09T14:19:19.702Z"
   },
   {
    "duration": 6,
    "start_time": "2023-05-09T14:19:21.097Z"
   },
   {
    "duration": 2,
    "start_time": "2023-05-09T14:19:22.636Z"
   },
   {
    "duration": 5,
    "start_time": "2023-05-09T14:19:23.993Z"
   },
   {
    "duration": 5,
    "start_time": "2023-05-09T14:19:25.347Z"
   },
   {
    "duration": 5,
    "start_time": "2023-05-09T14:20:45.044Z"
   },
   {
    "duration": 28152,
    "start_time": "2023-05-09T14:27:06.257Z"
   },
   {
    "duration": 4,
    "start_time": "2023-05-09T14:27:43.820Z"
   },
   {
    "duration": 166,
    "start_time": "2023-05-09T14:28:10.140Z"
   },
   {
    "duration": 12,
    "start_time": "2023-05-09T14:28:12.346Z"
   },
   {
    "duration": 145,
    "start_time": "2023-05-09T14:28:14.888Z"
   },
   {
    "duration": 32,
    "start_time": "2023-05-09T14:28:17.733Z"
   },
   {
    "duration": 9,
    "start_time": "2023-05-09T14:28:19.704Z"
   },
   {
    "duration": 6,
    "start_time": "2023-05-09T14:28:21.433Z"
   },
   {
    "duration": 6,
    "start_time": "2023-05-09T14:28:22.840Z"
   },
   {
    "duration": 3,
    "start_time": "2023-05-09T14:28:24.403Z"
   },
   {
    "duration": 4,
    "start_time": "2023-05-09T14:28:25.960Z"
   },
   {
    "duration": 4,
    "start_time": "2023-05-09T14:28:27.339Z"
   },
   {
    "duration": 4,
    "start_time": "2023-05-09T14:28:32.096Z"
   },
   {
    "duration": 20130,
    "start_time": "2023-05-09T14:33:27.710Z"
   },
   {
    "duration": 31398,
    "start_time": "2023-05-09T14:33:53.205Z"
   },
   {
    "duration": 6,
    "start_time": "2023-05-09T14:34:30.356Z"
   },
   {
    "duration": 86,
    "start_time": "2023-05-09T14:34:41.810Z"
   },
   {
    "duration": 12,
    "start_time": "2023-05-09T14:34:43.500Z"
   },
   {
    "duration": 28964,
    "start_time": "2023-05-09T14:35:01.451Z"
   },
   {
    "duration": 4,
    "start_time": "2023-05-09T14:36:16.121Z"
   },
   {
    "duration": 27660,
    "start_time": "2023-05-09T14:36:35.088Z"
   },
   {
    "duration": 4,
    "start_time": "2023-05-09T14:37:04.688Z"
   },
   {
    "duration": 152,
    "start_time": "2023-05-09T14:38:13.741Z"
   },
   {
    "duration": 12,
    "start_time": "2023-05-09T14:38:15.508Z"
   },
   {
    "duration": 130,
    "start_time": "2023-05-09T14:38:17.656Z"
   },
   {
    "duration": 5,
    "start_time": "2023-05-10T13:21:38.351Z"
   },
   {
    "duration": 2094,
    "start_time": "2023-05-10T13:24:34.735Z"
   },
   {
    "duration": 25,
    "start_time": "2023-05-10T13:32:39.291Z"
   },
   {
    "duration": 0,
    "start_time": "2023-05-10T13:32:39.319Z"
   },
   {
    "duration": 0,
    "start_time": "2023-05-10T13:32:39.320Z"
   },
   {
    "duration": 0,
    "start_time": "2023-05-10T13:32:39.322Z"
   },
   {
    "duration": 0,
    "start_time": "2023-05-10T13:32:39.324Z"
   },
   {
    "duration": 0,
    "start_time": "2023-05-10T13:32:39.325Z"
   },
   {
    "duration": 0,
    "start_time": "2023-05-10T13:32:39.327Z"
   },
   {
    "duration": 0,
    "start_time": "2023-05-10T13:32:39.328Z"
   },
   {
    "duration": 1,
    "start_time": "2023-05-10T13:32:39.329Z"
   },
   {
    "duration": 0,
    "start_time": "2023-05-10T13:32:39.331Z"
   },
   {
    "duration": 0,
    "start_time": "2023-05-10T13:32:39.332Z"
   },
   {
    "duration": 12,
    "start_time": "2023-05-10T13:32:39.335Z"
   },
   {
    "duration": 0,
    "start_time": "2023-05-10T13:32:39.349Z"
   },
   {
    "duration": 0,
    "start_time": "2023-05-10T13:32:39.350Z"
   },
   {
    "duration": 0,
    "start_time": "2023-05-10T13:32:39.352Z"
   },
   {
    "duration": 0,
    "start_time": "2023-05-10T13:32:39.353Z"
   },
   {
    "duration": 0,
    "start_time": "2023-05-10T13:32:39.354Z"
   },
   {
    "duration": 0,
    "start_time": "2023-05-10T13:32:39.355Z"
   },
   {
    "duration": 43,
    "start_time": "2023-05-10T13:32:39.357Z"
   },
   {
    "duration": 0,
    "start_time": "2023-05-10T13:32:39.402Z"
   },
   {
    "duration": 0,
    "start_time": "2023-05-10T13:32:39.404Z"
   },
   {
    "duration": 0,
    "start_time": "2023-05-10T13:32:39.406Z"
   },
   {
    "duration": 0,
    "start_time": "2023-05-10T13:32:39.442Z"
   },
   {
    "duration": 0,
    "start_time": "2023-05-10T13:32:39.443Z"
   },
   {
    "duration": 0,
    "start_time": "2023-05-10T13:32:39.445Z"
   },
   {
    "duration": 0,
    "start_time": "2023-05-10T13:32:39.446Z"
   },
   {
    "duration": 0,
    "start_time": "2023-05-10T13:32:39.447Z"
   },
   {
    "duration": 0,
    "start_time": "2023-05-10T13:32:39.449Z"
   },
   {
    "duration": 0,
    "start_time": "2023-05-10T13:32:39.455Z"
   },
   {
    "duration": 0,
    "start_time": "2023-05-10T13:32:39.462Z"
   },
   {
    "duration": 0,
    "start_time": "2023-05-10T13:32:39.464Z"
   },
   {
    "duration": 0,
    "start_time": "2023-05-10T13:32:39.466Z"
   },
   {
    "duration": 0,
    "start_time": "2023-05-10T13:32:39.468Z"
   },
   {
    "duration": 0,
    "start_time": "2023-05-10T13:32:39.470Z"
   },
   {
    "duration": 0,
    "start_time": "2023-05-10T13:32:39.471Z"
   },
   {
    "duration": 0,
    "start_time": "2023-05-10T13:32:39.473Z"
   },
   {
    "duration": 0,
    "start_time": "2023-05-10T13:32:39.474Z"
   },
   {
    "duration": 0,
    "start_time": "2023-05-10T13:32:39.476Z"
   },
   {
    "duration": 357,
    "start_time": "2023-05-10T13:32:39.480Z"
   },
   {
    "duration": 0,
    "start_time": "2023-05-10T13:32:39.840Z"
   },
   {
    "duration": 0,
    "start_time": "2023-05-10T13:32:39.842Z"
   },
   {
    "duration": 0,
    "start_time": "2023-05-10T13:32:39.844Z"
   },
   {
    "duration": 0,
    "start_time": "2023-05-10T13:32:39.845Z"
   },
   {
    "duration": 15,
    "start_time": "2023-05-10T13:32:47.001Z"
   },
   {
    "duration": 0,
    "start_time": "2023-05-10T13:32:47.018Z"
   },
   {
    "duration": 0,
    "start_time": "2023-05-10T13:32:47.019Z"
   },
   {
    "duration": 0,
    "start_time": "2023-05-10T13:32:47.020Z"
   },
   {
    "duration": 0,
    "start_time": "2023-05-10T13:32:47.022Z"
   },
   {
    "duration": 0,
    "start_time": "2023-05-10T13:32:47.023Z"
   },
   {
    "duration": 0,
    "start_time": "2023-05-10T13:32:47.025Z"
   },
   {
    "duration": 0,
    "start_time": "2023-05-10T13:32:47.027Z"
   },
   {
    "duration": 0,
    "start_time": "2023-05-10T13:32:47.028Z"
   },
   {
    "duration": 43,
    "start_time": "2023-05-10T13:32:47.031Z"
   },
   {
    "duration": 0,
    "start_time": "2023-05-10T13:32:47.077Z"
   },
   {
    "duration": 0,
    "start_time": "2023-05-10T13:32:47.078Z"
   },
   {
    "duration": 0,
    "start_time": "2023-05-10T13:32:47.080Z"
   },
   {
    "duration": 0,
    "start_time": "2023-05-10T13:32:47.081Z"
   },
   {
    "duration": 0,
    "start_time": "2023-05-10T13:32:47.083Z"
   },
   {
    "duration": 0,
    "start_time": "2023-05-10T13:32:47.085Z"
   },
   {
    "duration": 0,
    "start_time": "2023-05-10T13:32:47.087Z"
   },
   {
    "duration": 0,
    "start_time": "2023-05-10T13:32:47.088Z"
   },
   {
    "duration": 0,
    "start_time": "2023-05-10T13:32:47.092Z"
   },
   {
    "duration": 0,
    "start_time": "2023-05-10T13:32:47.093Z"
   },
   {
    "duration": 0,
    "start_time": "2023-05-10T13:32:47.095Z"
   },
   {
    "duration": 0,
    "start_time": "2023-05-10T13:32:47.097Z"
   },
   {
    "duration": 0,
    "start_time": "2023-05-10T13:32:47.098Z"
   },
   {
    "duration": 0,
    "start_time": "2023-05-10T13:32:47.099Z"
   },
   {
    "duration": 0,
    "start_time": "2023-05-10T13:32:47.101Z"
   },
   {
    "duration": 0,
    "start_time": "2023-05-10T13:32:47.102Z"
   },
   {
    "duration": 0,
    "start_time": "2023-05-10T13:32:47.104Z"
   },
   {
    "duration": 14,
    "start_time": "2023-05-10T13:32:47.149Z"
   },
   {
    "duration": 0,
    "start_time": "2023-05-10T13:32:47.166Z"
   },
   {
    "duration": 0,
    "start_time": "2023-05-10T13:32:47.167Z"
   },
   {
    "duration": 0,
    "start_time": "2023-05-10T13:32:47.169Z"
   },
   {
    "duration": 0,
    "start_time": "2023-05-10T13:32:47.170Z"
   },
   {
    "duration": 0,
    "start_time": "2023-05-10T13:32:47.171Z"
   },
   {
    "duration": 0,
    "start_time": "2023-05-10T13:32:47.173Z"
   },
   {
    "duration": 0,
    "start_time": "2023-05-10T13:32:47.175Z"
   },
   {
    "duration": 0,
    "start_time": "2023-05-10T13:32:47.176Z"
   },
   {
    "duration": 0,
    "start_time": "2023-05-10T13:32:47.177Z"
   },
   {
    "duration": 0,
    "start_time": "2023-05-10T13:32:47.178Z"
   },
   {
    "duration": 0,
    "start_time": "2023-05-10T13:32:47.180Z"
   },
   {
    "duration": 0,
    "start_time": "2023-05-10T13:32:47.181Z"
   },
   {
    "duration": 0,
    "start_time": "2023-05-10T13:32:47.183Z"
   },
   {
    "duration": 0,
    "start_time": "2023-05-10T13:32:47.184Z"
   },
   {
    "duration": 16,
    "start_time": "2023-05-10T13:33:24.585Z"
   },
   {
    "duration": 13,
    "start_time": "2023-05-10T13:33:26.585Z"
   },
   {
    "duration": 0,
    "start_time": "2023-05-10T13:58:35.147Z"
   },
   {
    "duration": 0,
    "start_time": "2023-05-10T13:58:35.149Z"
   },
   {
    "duration": 1731,
    "start_time": "2023-05-11T10:45:42.125Z"
   },
   {
    "duration": 0,
    "start_time": "2023-05-11T10:45:43.859Z"
   },
   {
    "duration": 0,
    "start_time": "2023-05-11T10:45:43.861Z"
   },
   {
    "duration": 0,
    "start_time": "2023-05-11T10:45:43.862Z"
   },
   {
    "duration": 0,
    "start_time": "2023-05-11T10:45:43.863Z"
   },
   {
    "duration": 0,
    "start_time": "2023-05-11T10:45:43.864Z"
   },
   {
    "duration": 0,
    "start_time": "2023-05-11T10:45:43.865Z"
   },
   {
    "duration": 0,
    "start_time": "2023-05-11T10:45:43.866Z"
   },
   {
    "duration": 0,
    "start_time": "2023-05-11T10:45:43.867Z"
   },
   {
    "duration": 0,
    "start_time": "2023-05-11T10:45:43.868Z"
   },
   {
    "duration": 0,
    "start_time": "2023-05-11T10:45:43.869Z"
   },
   {
    "duration": 0,
    "start_time": "2023-05-11T10:45:43.870Z"
   },
   {
    "duration": 0,
    "start_time": "2023-05-11T10:45:43.892Z"
   },
   {
    "duration": 0,
    "start_time": "2023-05-11T10:45:43.893Z"
   },
   {
    "duration": 0,
    "start_time": "2023-05-11T10:45:43.894Z"
   },
   {
    "duration": 0,
    "start_time": "2023-05-11T10:45:43.896Z"
   },
   {
    "duration": 0,
    "start_time": "2023-05-11T10:45:43.898Z"
   },
   {
    "duration": 0,
    "start_time": "2023-05-11T10:45:43.899Z"
   },
   {
    "duration": 0,
    "start_time": "2023-05-11T10:45:43.901Z"
   },
   {
    "duration": 0,
    "start_time": "2023-05-11T10:45:43.902Z"
   },
   {
    "duration": 0,
    "start_time": "2023-05-11T10:45:43.903Z"
   },
   {
    "duration": 0,
    "start_time": "2023-05-11T10:45:43.905Z"
   },
   {
    "duration": 0,
    "start_time": "2023-05-11T10:45:43.906Z"
   },
   {
    "duration": 0,
    "start_time": "2023-05-11T10:45:43.907Z"
   },
   {
    "duration": 0,
    "start_time": "2023-05-11T10:45:43.909Z"
   },
   {
    "duration": 0,
    "start_time": "2023-05-11T10:45:43.910Z"
   },
   {
    "duration": 0,
    "start_time": "2023-05-11T10:45:43.911Z"
   },
   {
    "duration": 0,
    "start_time": "2023-05-11T10:45:43.913Z"
   },
   {
    "duration": 0,
    "start_time": "2023-05-11T10:45:43.914Z"
   },
   {
    "duration": 0,
    "start_time": "2023-05-11T10:45:43.915Z"
   },
   {
    "duration": 0,
    "start_time": "2023-05-11T10:45:43.917Z"
   },
   {
    "duration": 0,
    "start_time": "2023-05-11T10:45:43.918Z"
   },
   {
    "duration": 0,
    "start_time": "2023-05-11T10:45:43.920Z"
   },
   {
    "duration": 0,
    "start_time": "2023-05-11T10:45:43.921Z"
   },
   {
    "duration": 0,
    "start_time": "2023-05-11T10:45:43.922Z"
   },
   {
    "duration": 0,
    "start_time": "2023-05-11T10:45:43.924Z"
   },
   {
    "duration": 0,
    "start_time": "2023-05-11T10:45:43.925Z"
   },
   {
    "duration": 0,
    "start_time": "2023-05-11T10:45:43.926Z"
   },
   {
    "duration": 0,
    "start_time": "2023-05-11T10:45:43.927Z"
   },
   {
    "duration": 0,
    "start_time": "2023-05-11T10:45:43.928Z"
   },
   {
    "duration": 0,
    "start_time": "2023-05-11T10:45:43.930Z"
   },
   {
    "duration": 0,
    "start_time": "2023-05-11T10:45:43.932Z"
   },
   {
    "duration": 0,
    "start_time": "2023-05-11T10:45:43.992Z"
   },
   {
    "duration": 0,
    "start_time": "2023-05-11T10:45:43.993Z"
   },
   {
    "duration": 0,
    "start_time": "2023-05-11T10:45:43.995Z"
   },
   {
    "duration": 0,
    "start_time": "2023-05-11T10:45:43.996Z"
   },
   {
    "duration": 0,
    "start_time": "2023-05-11T10:45:43.997Z"
   },
   {
    "duration": 0,
    "start_time": "2023-05-11T10:45:43.998Z"
   },
   {
    "duration": 0,
    "start_time": "2023-05-11T10:45:44.000Z"
   },
   {
    "duration": 0,
    "start_time": "2023-05-11T10:45:44.001Z"
   },
   {
    "duration": 0,
    "start_time": "2023-05-11T10:45:44.002Z"
   },
   {
    "duration": 0,
    "start_time": "2023-05-11T10:45:44.004Z"
   },
   {
    "duration": 0,
    "start_time": "2023-05-11T10:45:44.005Z"
   },
   {
    "duration": 0,
    "start_time": "2023-05-11T10:45:44.007Z"
   },
   {
    "duration": 0,
    "start_time": "2023-05-11T10:45:44.009Z"
   },
   {
    "duration": 0,
    "start_time": "2023-05-11T10:45:44.010Z"
   },
   {
    "duration": 0,
    "start_time": "2023-05-11T10:45:44.012Z"
   },
   {
    "duration": 0,
    "start_time": "2023-05-11T10:45:44.013Z"
   },
   {
    "duration": 0,
    "start_time": "2023-05-11T10:45:44.016Z"
   },
   {
    "duration": 0,
    "start_time": "2023-05-11T10:45:44.017Z"
   },
   {
    "duration": 1,
    "start_time": "2023-05-11T10:45:44.018Z"
   },
   {
    "duration": 0,
    "start_time": "2023-05-11T10:45:44.020Z"
   },
   {
    "duration": 0,
    "start_time": "2023-05-11T10:45:44.022Z"
   },
   {
    "duration": 0,
    "start_time": "2023-05-11T10:45:44.024Z"
   },
   {
    "duration": 7469,
    "start_time": "2023-05-11T10:56:56.572Z"
   },
   {
    "duration": 1260,
    "start_time": "2023-05-11T10:57:04.044Z"
   },
   {
    "duration": 3,
    "start_time": "2023-05-11T10:57:05.305Z"
   },
   {
    "duration": 959,
    "start_time": "2023-05-11T10:57:05.310Z"
   },
   {
    "duration": 3,
    "start_time": "2023-05-11T10:57:06.271Z"
   },
   {
    "duration": 131,
    "start_time": "2023-05-11T10:57:06.275Z"
   },
   {
    "duration": 4,
    "start_time": "2023-05-11T10:57:06.407Z"
   },
   {
    "duration": 5,
    "start_time": "2023-05-11T10:57:06.412Z"
   },
   {
    "duration": 75,
    "start_time": "2023-05-11T10:57:06.419Z"
   },
   {
    "duration": 18,
    "start_time": "2023-05-11T10:57:06.498Z"
   },
   {
    "duration": 1145,
    "start_time": "2023-05-11T10:57:06.518Z"
   },
   {
    "duration": 258,
    "start_time": "2023-05-11T10:57:07.665Z"
   },
   {
    "duration": 79,
    "start_time": "2023-05-11T10:57:07.925Z"
   },
   {
    "duration": 31,
    "start_time": "2023-05-11T10:57:08.006Z"
   },
   {
    "duration": 993,
    "start_time": "2023-05-11T10:57:08.038Z"
   },
   {
    "duration": 9,
    "start_time": "2023-05-11T10:57:09.032Z"
   },
   {
    "duration": 388,
    "start_time": "2023-05-11T10:57:09.043Z"
   },
   {
    "duration": 253,
    "start_time": "2023-05-11T10:57:09.433Z"
   },
   {
    "duration": 25,
    "start_time": "2023-05-11T10:57:09.688Z"
   },
   {
    "duration": 377,
    "start_time": "2023-05-11T10:57:09.715Z"
   },
   {
    "duration": 185,
    "start_time": "2023-05-11T10:57:10.094Z"
   },
   {
    "duration": 39,
    "start_time": "2023-05-11T10:57:10.281Z"
   },
   {
    "duration": 76,
    "start_time": "2023-05-11T10:57:10.322Z"
   },
   {
    "duration": 136,
    "start_time": "2023-05-11T10:57:10.400Z"
   },
   {
    "duration": 1349,
    "start_time": "2023-05-11T10:57:10.538Z"
   },
   {
    "duration": 4,
    "start_time": "2023-05-11T10:57:11.892Z"
   },
   {
    "duration": 11,
    "start_time": "2023-05-11T10:57:11.898Z"
   },
   {
    "duration": 14,
    "start_time": "2023-05-11T10:57:11.914Z"
   },
   {
    "duration": 14,
    "start_time": "2023-05-11T10:57:11.930Z"
   },
   {
    "duration": 598,
    "start_time": "2023-05-11T10:57:11.946Z"
   },
   {
    "duration": 7,
    "start_time": "2023-05-11T10:57:12.546Z"
   },
   {
    "duration": 5,
    "start_time": "2023-05-11T10:57:12.554Z"
   },
   {
    "duration": 3,
    "start_time": "2023-05-11T10:57:12.560Z"
   },
   {
    "duration": 28,
    "start_time": "2023-05-11T10:57:12.565Z"
   },
   {
    "duration": 6,
    "start_time": "2023-05-11T10:57:12.594Z"
   },
   {
    "duration": 6,
    "start_time": "2023-05-11T10:57:12.601Z"
   },
   {
    "duration": 173,
    "start_time": "2023-05-11T10:57:12.609Z"
   },
   {
    "duration": 11,
    "start_time": "2023-05-11T10:57:12.784Z"
   },
   {
    "duration": 161,
    "start_time": "2023-05-11T10:57:12.797Z"
   },
   {
    "duration": 3,
    "start_time": "2023-05-11T10:57:12.959Z"
   },
   {
    "duration": 7874,
    "start_time": "2023-05-11T10:57:12.964Z"
   },
   {
    "duration": 15,
    "start_time": "2023-05-11T10:57:20.840Z"
   },
   {
    "duration": 133,
    "start_time": "2023-05-11T10:57:20.856Z"
   },
   {
    "duration": 0,
    "start_time": "2023-05-11T10:57:20.991Z"
   },
   {
    "duration": 0,
    "start_time": "2023-05-11T10:57:20.992Z"
   },
   {
    "duration": 0,
    "start_time": "2023-05-11T10:57:20.993Z"
   },
   {
    "duration": 0,
    "start_time": "2023-05-11T10:57:20.995Z"
   },
   {
    "duration": 0,
    "start_time": "2023-05-11T10:57:20.996Z"
   },
   {
    "duration": 0,
    "start_time": "2023-05-11T10:57:20.997Z"
   },
   {
    "duration": 0,
    "start_time": "2023-05-11T10:57:20.998Z"
   },
   {
    "duration": 0,
    "start_time": "2023-05-11T10:57:20.999Z"
   },
   {
    "duration": 0,
    "start_time": "2023-05-11T10:57:21.000Z"
   },
   {
    "duration": 0,
    "start_time": "2023-05-11T10:57:21.001Z"
   },
   {
    "duration": 0,
    "start_time": "2023-05-11T10:57:21.002Z"
   },
   {
    "duration": 0,
    "start_time": "2023-05-11T10:57:21.004Z"
   },
   {
    "duration": 1,
    "start_time": "2023-05-11T10:57:21.004Z"
   },
   {
    "duration": 0,
    "start_time": "2023-05-11T10:57:21.006Z"
   },
   {
    "duration": 0,
    "start_time": "2023-05-11T10:57:21.007Z"
   },
   {
    "duration": 0,
    "start_time": "2023-05-11T10:57:21.008Z"
   },
   {
    "duration": 0,
    "start_time": "2023-05-11T10:57:21.009Z"
   },
   {
    "duration": 0,
    "start_time": "2023-05-11T10:57:21.010Z"
   },
   {
    "duration": 0,
    "start_time": "2023-05-11T10:57:21.011Z"
   },
   {
    "duration": 0,
    "start_time": "2023-05-11T10:57:21.012Z"
   },
   {
    "duration": 0,
    "start_time": "2023-05-11T10:57:21.013Z"
   },
   {
    "duration": 0,
    "start_time": "2023-05-11T10:57:21.014Z"
   },
   {
    "duration": 7453,
    "start_time": "2023-05-11T11:56:58.596Z"
   },
   {
    "duration": 1365,
    "start_time": "2023-05-11T11:57:06.053Z"
   },
   {
    "duration": 3,
    "start_time": "2023-05-11T11:57:07.421Z"
   },
   {
    "duration": 812,
    "start_time": "2023-05-11T11:57:07.426Z"
   },
   {
    "duration": 3,
    "start_time": "2023-05-11T11:57:08.241Z"
   },
   {
    "duration": 149,
    "start_time": "2023-05-11T11:57:08.246Z"
   },
   {
    "duration": 5,
    "start_time": "2023-05-11T11:57:08.397Z"
   },
   {
    "duration": 9,
    "start_time": "2023-05-11T11:57:08.404Z"
   },
   {
    "duration": 43,
    "start_time": "2023-05-11T11:57:08.414Z"
   },
   {
    "duration": 23,
    "start_time": "2023-05-11T11:57:08.492Z"
   },
   {
    "duration": 999,
    "start_time": "2023-05-11T11:57:08.517Z"
   },
   {
    "duration": 274,
    "start_time": "2023-05-11T11:57:09.519Z"
   },
   {
    "duration": 53,
    "start_time": "2023-05-11T11:57:09.795Z"
   },
   {
    "duration": 63,
    "start_time": "2023-05-11T11:57:09.851Z"
   },
   {
    "duration": 989,
    "start_time": "2023-05-11T11:57:09.916Z"
   },
   {
    "duration": 8,
    "start_time": "2023-05-11T11:57:10.907Z"
   },
   {
    "duration": 11,
    "start_time": "2023-05-11T11:57:10.916Z"
   },
   {
    "duration": 9,
    "start_time": "2023-05-11T11:57:10.929Z"
   },
   {
    "duration": 25,
    "start_time": "2023-05-11T11:57:10.939Z"
   },
   {
    "duration": 428,
    "start_time": "2023-05-11T11:57:10.966Z"
   },
   {
    "duration": 212,
    "start_time": "2023-05-11T11:57:11.396Z"
   },
   {
    "duration": 25,
    "start_time": "2023-05-11T11:57:11.610Z"
   },
   {
    "duration": 87,
    "start_time": "2023-05-11T11:57:11.637Z"
   },
   {
    "duration": 138,
    "start_time": "2023-05-11T11:57:11.725Z"
   },
   {
    "duration": 1329,
    "start_time": "2023-05-11T11:57:11.865Z"
   },
   {
    "duration": 4,
    "start_time": "2023-05-11T11:57:13.196Z"
   },
   {
    "duration": 21,
    "start_time": "2023-05-11T11:57:13.202Z"
   },
   {
    "duration": 25,
    "start_time": "2023-05-11T11:57:13.225Z"
   },
   {
    "duration": 30,
    "start_time": "2023-05-11T11:57:13.251Z"
   },
   {
    "duration": 630,
    "start_time": "2023-05-11T11:57:13.282Z"
   },
   {
    "duration": 7,
    "start_time": "2023-05-11T11:57:13.914Z"
   },
   {
    "duration": 21,
    "start_time": "2023-05-11T11:57:13.922Z"
   },
   {
    "duration": 21,
    "start_time": "2023-05-11T11:57:13.945Z"
   },
   {
    "duration": 13,
    "start_time": "2023-05-11T11:57:13.967Z"
   },
   {
    "duration": 37,
    "start_time": "2023-05-11T11:57:13.981Z"
   },
   {
    "duration": 27,
    "start_time": "2023-05-11T11:57:14.020Z"
   },
   {
    "duration": 167,
    "start_time": "2023-05-11T11:57:14.049Z"
   },
   {
    "duration": 7,
    "start_time": "2023-05-11T11:57:14.218Z"
   },
   {
    "duration": 152,
    "start_time": "2023-05-11T11:57:14.226Z"
   },
   {
    "duration": 3,
    "start_time": "2023-05-11T11:57:14.380Z"
   },
   {
    "duration": 7948,
    "start_time": "2023-05-11T11:57:14.395Z"
   },
   {
    "duration": 19,
    "start_time": "2023-05-11T11:57:22.345Z"
   },
   {
    "duration": 10,
    "start_time": "2023-05-11T11:59:32.385Z"
   },
   {
    "duration": 123,
    "start_time": "2023-05-11T11:59:33.975Z"
   },
   {
    "duration": 6,
    "start_time": "2023-05-11T11:59:50.065Z"
   },
   {
    "duration": 148,
    "start_time": "2023-05-11T11:59:58.346Z"
   },
   {
    "duration": 10,
    "start_time": "2023-05-11T12:00:10.621Z"
   },
   {
    "duration": 5471,
    "start_time": "2023-05-11T12:00:20.177Z"
   },
   {
    "duration": 2118,
    "start_time": "2023-05-11T12:00:36.293Z"
   },
   {
    "duration": 1289,
    "start_time": "2023-05-11T12:00:38.414Z"
   },
   {
    "duration": 3,
    "start_time": "2023-05-11T12:00:39.705Z"
   },
   {
    "duration": 845,
    "start_time": "2023-05-11T12:00:39.709Z"
   },
   {
    "duration": 3,
    "start_time": "2023-05-11T12:00:40.557Z"
   },
   {
    "duration": 159,
    "start_time": "2023-05-11T12:00:40.562Z"
   },
   {
    "duration": 4,
    "start_time": "2023-05-11T12:00:40.723Z"
   },
   {
    "duration": 7,
    "start_time": "2023-05-11T12:00:40.729Z"
   },
   {
    "duration": 67,
    "start_time": "2023-05-11T12:00:40.738Z"
   },
   {
    "duration": 22,
    "start_time": "2023-05-11T12:00:40.806Z"
   },
   {
    "duration": 1015,
    "start_time": "2023-05-11T12:00:40.830Z"
   },
   {
    "duration": 268,
    "start_time": "2023-05-11T12:00:41.846Z"
   },
   {
    "duration": 77,
    "start_time": "2023-05-11T12:00:42.116Z"
   },
   {
    "duration": 35,
    "start_time": "2023-05-11T12:00:42.196Z"
   },
   {
    "duration": 1009,
    "start_time": "2023-05-11T12:00:42.232Z"
   },
   {
    "duration": 9,
    "start_time": "2023-05-11T12:00:43.243Z"
   },
   {
    "duration": 12,
    "start_time": "2023-05-11T12:00:43.254Z"
   },
   {
    "duration": 7,
    "start_time": "2023-05-11T12:00:43.267Z"
   },
   {
    "duration": 22,
    "start_time": "2023-05-11T12:00:43.293Z"
   },
   {
    "duration": 421,
    "start_time": "2023-05-11T12:00:43.316Z"
   },
   {
    "duration": 212,
    "start_time": "2023-05-11T12:00:43.739Z"
   },
   {
    "duration": 25,
    "start_time": "2023-05-11T12:00:43.953Z"
   },
   {
    "duration": 76,
    "start_time": "2023-05-11T12:00:43.980Z"
   },
   {
    "duration": 150,
    "start_time": "2023-05-11T12:00:44.058Z"
   },
   {
    "duration": 1333,
    "start_time": "2023-05-11T12:00:44.209Z"
   },
   {
    "duration": 5,
    "start_time": "2023-05-11T12:00:45.543Z"
   },
   {
    "duration": 4,
    "start_time": "2023-05-11T12:00:45.550Z"
   },
   {
    "duration": 32,
    "start_time": "2023-05-11T12:00:45.556Z"
   },
   {
    "duration": 25,
    "start_time": "2023-05-11T12:00:45.590Z"
   },
   {
    "duration": 605,
    "start_time": "2023-05-11T12:00:45.617Z"
   },
   {
    "duration": 7,
    "start_time": "2023-05-11T12:00:46.224Z"
   },
   {
    "duration": 10,
    "start_time": "2023-05-11T12:00:46.232Z"
   },
   {
    "duration": 3,
    "start_time": "2023-05-11T12:00:46.244Z"
   },
   {
    "duration": 9,
    "start_time": "2023-05-11T12:00:46.248Z"
   },
   {
    "duration": 16,
    "start_time": "2023-05-11T12:00:46.259Z"
   },
   {
    "duration": 8,
    "start_time": "2023-05-11T12:00:46.276Z"
   },
   {
    "duration": 152,
    "start_time": "2023-05-11T12:00:46.294Z"
   },
   {
    "duration": 7,
    "start_time": "2023-05-11T12:00:46.448Z"
   },
   {
    "duration": 162,
    "start_time": "2023-05-11T12:00:46.457Z"
   },
   {
    "duration": 2,
    "start_time": "2023-05-11T12:00:46.621Z"
   },
   {
    "duration": 8068,
    "start_time": "2023-05-11T12:00:46.629Z"
   },
   {
    "duration": 16,
    "start_time": "2023-05-11T12:00:54.699Z"
   },
   {
    "duration": 165,
    "start_time": "2023-05-11T12:00:54.718Z"
   },
   {
    "duration": 113248,
    "start_time": "2023-05-11T12:00:54.893Z"
   },
   {
    "duration": 4,
    "start_time": "2023-05-11T12:02:48.143Z"
   },
   {
    "duration": 5,
    "start_time": "2023-05-11T12:02:48.149Z"
   },
   {
    "duration": 730394,
    "start_time": "2023-05-11T12:02:48.156Z"
   },
   {
    "duration": 4,
    "start_time": "2023-05-11T12:14:58.552Z"
   },
   {
    "duration": 84141,
    "start_time": "2023-05-11T12:14:58.557Z"
   },
   {
    "duration": 94,
    "start_time": "2023-05-11T12:16:22.700Z"
   },
   {
    "duration": 755,
    "start_time": "2023-05-11T12:16:22.796Z"
   },
   {
    "duration": 14,
    "start_time": "2023-05-11T12:16:23.553Z"
   },
   {
    "duration": 169,
    "start_time": "2023-05-11T12:16:23.569Z"
   },
   {
    "duration": 43,
    "start_time": "2023-05-11T12:16:23.740Z"
   },
   {
    "duration": 16,
    "start_time": "2023-05-11T12:16:23.785Z"
   },
   {
    "duration": 5,
    "start_time": "2023-05-11T12:16:23.803Z"
   },
   {
    "duration": 17,
    "start_time": "2023-05-11T12:16:23.810Z"
   },
   {
    "duration": 2,
    "start_time": "2023-05-11T12:16:23.829Z"
   },
   {
    "duration": 10,
    "start_time": "2023-05-11T12:16:23.833Z"
   },
   {
    "duration": 5,
    "start_time": "2023-05-11T12:16:23.845Z"
   },
   {
    "duration": 10,
    "start_time": "2023-05-11T12:16:23.852Z"
   },
   {
    "duration": 30,
    "start_time": "2023-05-11T12:16:23.864Z"
   },
   {
    "duration": 31,
    "start_time": "2023-05-11T12:16:23.895Z"
   },
   {
    "duration": 169,
    "start_time": "2023-05-11T12:16:23.928Z"
   },
   {
    "duration": 10768,
    "start_time": "2023-05-12T09:43:36.001Z"
   },
   {
    "duration": 1549,
    "start_time": "2023-05-12T09:43:46.771Z"
   },
   {
    "duration": 3,
    "start_time": "2023-05-12T09:43:48.322Z"
   },
   {
    "duration": 848,
    "start_time": "2023-05-12T09:43:48.328Z"
   },
   {
    "duration": 3,
    "start_time": "2023-05-12T09:43:49.178Z"
   },
   {
    "duration": 155,
    "start_time": "2023-05-12T09:43:49.183Z"
   },
   {
    "duration": 4,
    "start_time": "2023-05-12T09:43:49.341Z"
   },
   {
    "duration": 30,
    "start_time": "2023-05-12T09:43:49.347Z"
   },
   {
    "duration": 60,
    "start_time": "2023-05-12T09:43:49.379Z"
   },
   {
    "duration": 22,
    "start_time": "2023-05-12T09:43:49.441Z"
   },
   {
    "duration": 1114,
    "start_time": "2023-05-12T09:43:49.489Z"
   },
   {
    "duration": 305,
    "start_time": "2023-05-12T09:43:50.605Z"
   },
   {
    "duration": 84,
    "start_time": "2023-05-12T09:43:50.913Z"
   },
   {
    "duration": 41,
    "start_time": "2023-05-12T09:43:50.999Z"
   },
   {
    "duration": 1136,
    "start_time": "2023-05-12T09:43:51.042Z"
   },
   {
    "duration": 11,
    "start_time": "2023-05-12T09:43:52.188Z"
   },
   {
    "duration": 18,
    "start_time": "2023-05-12T09:43:52.201Z"
   },
   {
    "duration": 8,
    "start_time": "2023-05-12T09:43:52.221Z"
   },
   {
    "duration": 71,
    "start_time": "2023-05-12T09:43:52.230Z"
   },
   {
    "duration": 476,
    "start_time": "2023-05-12T09:43:52.303Z"
   },
   {
    "duration": 243,
    "start_time": "2023-05-12T09:43:52.781Z"
   },
   {
    "duration": 26,
    "start_time": "2023-05-12T09:43:53.026Z"
   },
   {
    "duration": 85,
    "start_time": "2023-05-12T09:43:53.055Z"
   },
   {
    "duration": 134,
    "start_time": "2023-05-12T09:43:53.142Z"
   },
   {
    "duration": 1383,
    "start_time": "2023-05-12T09:43:53.278Z"
   },
   {
    "duration": 5,
    "start_time": "2023-05-12T09:43:54.662Z"
   },
   {
    "duration": 5,
    "start_time": "2023-05-12T09:43:54.669Z"
   },
   {
    "duration": 18,
    "start_time": "2023-05-12T09:43:54.691Z"
   },
   {
    "duration": 17,
    "start_time": "2023-05-12T09:43:54.711Z"
   },
   {
    "duration": 633,
    "start_time": "2023-05-12T09:43:54.730Z"
   },
   {
    "duration": 7,
    "start_time": "2023-05-12T09:43:55.365Z"
   },
   {
    "duration": 15,
    "start_time": "2023-05-12T09:43:55.374Z"
   },
   {
    "duration": 2,
    "start_time": "2023-05-12T09:43:55.391Z"
   },
   {
    "duration": 5,
    "start_time": "2023-05-12T09:43:55.396Z"
   },
   {
    "duration": 5,
    "start_time": "2023-05-12T09:43:55.402Z"
   },
   {
    "duration": 10,
    "start_time": "2023-05-12T09:43:55.409Z"
   },
   {
    "duration": 189,
    "start_time": "2023-05-12T09:43:55.421Z"
   },
   {
    "duration": 8,
    "start_time": "2023-05-12T09:43:55.612Z"
   },
   {
    "duration": 170,
    "start_time": "2023-05-12T09:43:55.622Z"
   },
   {
    "duration": 3,
    "start_time": "2023-05-12T09:43:55.795Z"
   },
   {
    "duration": 5,
    "start_time": "2023-05-12T09:43:55.800Z"
   },
   {
    "duration": 3,
    "start_time": "2023-05-12T09:43:55.807Z"
   },
   {
    "duration": 4,
    "start_time": "2023-05-12T09:43:55.812Z"
   },
   {
    "duration": 185797,
    "start_time": "2023-05-12T09:43:55.818Z"
   },
   {
    "duration": 0,
    "start_time": "2023-05-12T09:47:01.617Z"
   },
   {
    "duration": 0,
    "start_time": "2023-05-12T09:47:01.618Z"
   },
   {
    "duration": 0,
    "start_time": "2023-05-12T09:47:01.619Z"
   },
   {
    "duration": 0,
    "start_time": "2023-05-12T09:47:01.621Z"
   },
   {
    "duration": 0,
    "start_time": "2023-05-12T09:47:01.622Z"
   },
   {
    "duration": 0,
    "start_time": "2023-05-12T09:47:01.622Z"
   },
   {
    "duration": 0,
    "start_time": "2023-05-12T09:47:01.623Z"
   },
   {
    "duration": 0,
    "start_time": "2023-05-12T09:47:01.625Z"
   },
   {
    "duration": 0,
    "start_time": "2023-05-12T09:47:01.625Z"
   },
   {
    "duration": 0,
    "start_time": "2023-05-12T09:47:01.626Z"
   },
   {
    "duration": 0,
    "start_time": "2023-05-12T09:47:01.628Z"
   },
   {
    "duration": 0,
    "start_time": "2023-05-12T09:47:01.629Z"
   },
   {
    "duration": 0,
    "start_time": "2023-05-12T09:47:01.630Z"
   },
   {
    "duration": 0,
    "start_time": "2023-05-12T09:47:01.631Z"
   },
   {
    "duration": 0,
    "start_time": "2023-05-12T09:47:01.632Z"
   },
   {
    "duration": 0,
    "start_time": "2023-05-12T09:47:01.634Z"
   },
   {
    "duration": 0,
    "start_time": "2023-05-12T09:47:01.635Z"
   },
   {
    "duration": 0,
    "start_time": "2023-05-12T09:47:01.636Z"
   },
   {
    "duration": 0,
    "start_time": "2023-05-12T09:47:01.637Z"
   },
   {
    "duration": 0,
    "start_time": "2023-05-12T09:47:01.638Z"
   },
   {
    "duration": 0,
    "start_time": "2023-05-12T09:47:01.640Z"
   },
   {
    "duration": 0,
    "start_time": "2023-05-12T09:47:01.642Z"
   },
   {
    "duration": 0,
    "start_time": "2023-05-12T09:47:01.643Z"
   },
   {
    "duration": 0,
    "start_time": "2023-05-12T09:47:01.644Z"
   },
   {
    "duration": 0,
    "start_time": "2023-05-12T09:47:01.646Z"
   },
   {
    "duration": 8536,
    "start_time": "2023-07-10T11:37:11.607Z"
   },
   {
    "duration": 1691,
    "start_time": "2023-07-10T11:37:20.146Z"
   },
   {
    "duration": 4,
    "start_time": "2023-07-10T11:37:21.839Z"
   },
   {
    "duration": 958,
    "start_time": "2023-07-10T11:37:21.845Z"
   },
   {
    "duration": 4,
    "start_time": "2023-07-10T11:37:22.806Z"
   },
   {
    "duration": 272,
    "start_time": "2023-07-10T11:37:22.812Z"
   },
   {
    "duration": 5,
    "start_time": "2023-07-10T11:37:23.087Z"
   },
   {
    "duration": 247,
    "start_time": "2023-07-10T11:37:23.094Z"
   },
   {
    "duration": 244,
    "start_time": "2023-07-10T11:37:23.344Z"
   },
   {
    "duration": 22,
    "start_time": "2023-07-10T11:37:23.591Z"
   },
   {
    "duration": 1043,
    "start_time": "2023-07-10T11:37:23.616Z"
   },
   {
    "duration": 310,
    "start_time": "2023-07-10T11:37:24.662Z"
   },
   {
    "duration": 79,
    "start_time": "2023-07-10T11:37:24.974Z"
   },
   {
    "duration": 64,
    "start_time": "2023-07-10T11:37:25.055Z"
   },
   {
    "duration": 1163,
    "start_time": "2023-07-10T11:37:25.121Z"
   },
   {
    "duration": 10,
    "start_time": "2023-07-10T11:37:26.286Z"
   },
   {
    "duration": 62,
    "start_time": "2023-07-10T11:37:26.309Z"
   },
   {
    "duration": 21,
    "start_time": "2023-07-10T11:37:26.374Z"
   },
   {
    "duration": 60,
    "start_time": "2023-07-10T11:37:26.397Z"
   },
   {
    "duration": 426,
    "start_time": "2023-07-10T11:37:26.459Z"
   },
   {
    "duration": 212,
    "start_time": "2023-07-10T11:37:26.887Z"
   },
   {
    "duration": 32,
    "start_time": "2023-07-10T11:37:27.101Z"
   },
   {
    "duration": 160,
    "start_time": "2023-07-10T11:37:27.135Z"
   },
   {
    "duration": 142,
    "start_time": "2023-07-10T11:37:27.297Z"
   },
   {
    "duration": 1449,
    "start_time": "2023-07-10T11:37:27.442Z"
   },
   {
    "duration": 5,
    "start_time": "2023-07-10T11:37:28.893Z"
   },
   {
    "duration": 20,
    "start_time": "2023-07-10T11:37:28.900Z"
   },
   {
    "duration": 21,
    "start_time": "2023-07-10T11:37:28.925Z"
   },
   {
    "duration": 45,
    "start_time": "2023-07-10T11:37:28.948Z"
   },
   {
    "duration": 680,
    "start_time": "2023-07-10T11:37:28.995Z"
   },
   {
    "duration": 8,
    "start_time": "2023-07-10T11:37:29.677Z"
   },
   {
    "duration": 25,
    "start_time": "2023-07-10T11:37:29.687Z"
   },
   {
    "duration": 9,
    "start_time": "2023-07-10T11:37:29.715Z"
   },
   {
    "duration": 11,
    "start_time": "2023-07-10T11:37:29.726Z"
   },
   {
    "duration": 16,
    "start_time": "2023-07-10T11:37:29.739Z"
   },
   {
    "duration": 10,
    "start_time": "2023-07-10T11:37:29.757Z"
   },
   {
    "duration": 204,
    "start_time": "2023-07-10T11:37:29.769Z"
   },
   {
    "duration": 8,
    "start_time": "2023-07-10T11:37:29.975Z"
   },
   {
    "duration": 216,
    "start_time": "2023-07-10T11:37:29.985Z"
   },
   {
    "duration": 6,
    "start_time": "2023-07-10T11:37:30.203Z"
   },
   {
    "duration": 111,
    "start_time": "2023-07-10T11:37:30.211Z"
   },
   {
    "duration": 59,
    "start_time": "2023-07-10T11:37:30.324Z"
   },
   {
    "duration": 252,
    "start_time": "2023-07-10T11:37:30.385Z"
   },
   {
    "duration": 507931,
    "start_time": "2023-07-10T11:37:30.639Z"
   },
   {
    "duration": 5,
    "start_time": "2023-07-10T11:45:58.572Z"
   },
   {
    "duration": 34,
    "start_time": "2023-07-10T11:45:58.579Z"
   },
   {
    "duration": 71,
    "start_time": "2023-07-10T11:45:58.615Z"
   },
   {
    "duration": 37,
    "start_time": "2023-07-10T11:45:58.688Z"
   },
   {
    "duration": 1294488,
    "start_time": "2023-07-10T11:45:58.726Z"
   },
   {
    "duration": 4,
    "start_time": "2023-07-10T12:07:33.216Z"
   },
   {
    "duration": 10,
    "start_time": "2023-07-10T12:07:33.222Z"
   },
   {
    "duration": 10,
    "start_time": "2023-07-10T12:07:33.234Z"
   },
   {
    "duration": 20,
    "start_time": "2023-07-10T12:07:33.246Z"
   },
   {
    "duration": 180708,
    "start_time": "2023-07-10T12:07:33.269Z"
   },
   {
    "duration": 7,
    "start_time": "2023-07-10T12:10:33.979Z"
   },
   {
    "duration": 794,
    "start_time": "2023-07-10T12:10:33.988Z"
   },
   {
    "duration": 25,
    "start_time": "2023-07-10T12:10:34.784Z"
   },
   {
    "duration": 169,
    "start_time": "2023-07-10T12:10:34.811Z"
   },
   {
    "duration": 58,
    "start_time": "2023-07-10T12:10:34.982Z"
   },
   {
    "duration": 15,
    "start_time": "2023-07-10T12:10:35.042Z"
   },
   {
    "duration": 20,
    "start_time": "2023-07-10T12:10:35.059Z"
   },
   {
    "duration": 35,
    "start_time": "2023-07-10T12:10:35.081Z"
   },
   {
    "duration": 28,
    "start_time": "2023-07-10T12:10:35.118Z"
   },
   {
    "duration": 30,
    "start_time": "2023-07-10T12:10:35.148Z"
   },
   {
    "duration": 21,
    "start_time": "2023-07-10T12:10:35.180Z"
   },
   {
    "duration": 43,
    "start_time": "2023-07-10T12:10:35.203Z"
   },
   {
    "duration": 26,
    "start_time": "2023-07-10T12:10:35.247Z"
   },
   {
    "duration": 45,
    "start_time": "2023-07-10T12:10:35.275Z"
   },
   {
    "duration": 130,
    "start_time": "2023-07-10T12:10:35.321Z"
   }
  ],
  "kernelspec": {
   "display_name": "Python 3 (ipykernel)",
   "language": "python",
   "name": "python3"
  },
  "language_info": {
   "codemirror_mode": {
    "name": "ipython",
    "version": 3
   },
   "file_extension": ".py",
   "mimetype": "text/x-python",
   "name": "python",
   "nbconvert_exporter": "python",
   "pygments_lexer": "ipython3",
   "version": "3.9.5"
  },
  "toc": {
   "base_numbering": 1,
   "nav_menu": {},
   "number_sections": true,
   "sideBar": true,
   "skip_h1_title": true,
   "title_cell": "Table of Contents",
   "title_sidebar": "Contents",
   "toc_cell": false,
   "toc_position": {},
   "toc_section_display": true,
   "toc_window_display": false
  }
 },
 "nbformat": 4,
 "nbformat_minor": 2
}
